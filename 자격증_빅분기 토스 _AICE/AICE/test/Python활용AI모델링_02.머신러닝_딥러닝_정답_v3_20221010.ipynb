{
 "cells": [
  {
   "cell_type": "markdown",
   "metadata": {
    "id": "-8SbOMdy0FT4"
   },
   "source": [
    "# [실습-정답] Python을 활용한 AI 모델링 - 머신러닝 파트\n",
    "+ 이번시간에는 Python을 활용한 AI 모델링에서 머신러닝에 대해 실습해 보겠습니다.\n",
    "+ 머신러닝 모델에는 아래와 같이 모델들이 있습니다.\n",
    " + 단일 분류예측 모델 : LogisticRegression, KNN, DecisionTree\n",
    " + 앙상블(Ensemble) 모델 : RandomForest, XGBoost, LGBM, Stacking, Weighted Blending\n",
    "+ 솔직히, 머신러닝이 딥러닝보다 코딩하기 쉽습니다. 4줄 템플릿에 맞쳐 코딩하면 되기 때문입니다.\n",
    "+ 한가지 당부 드리고 싶은 말은 \"백문이불여일타\" 입니다. \n",
    "+ 이론보다 실습이 더 많은 시간과 노력이 투자 되어야 합니다."
   ]
  },
  {
   "cell_type": "markdown",
   "metadata": {
    "id": "CB9Zcdvv0FT9"
   },
   "source": [
    "## 학습목차\n",
    "1. 머신러닝 모델 프로세스\n",
    " - 데이터 가져오기\n",
    " - 데이터 전처리\n",
    " - Train, Test 데이터셋 분할\n",
    " - 데이터 정규화\n",
    " - 단일 분류예측 모델 : LogisticRegression, KNN, DecisionTree\n",
    " - 앙상블(Ensemble) 모델 : RandomForest, XGBoost, LGBM \n",
    "2. 재현율 성능이 너무 안나온다. 어떻게 해결할수 있을까?\n"
   ]
  },
  {
   "cell_type": "markdown",
   "metadata": {
    "id": "V085LH_00FT-"
   },
   "source": [
    "#  \n",
    "# 1. 머신러닝 모델 프로세스\n",
    "① 라이브러리 임포트(import)  \n",
    "② 데이터 가져오기(Loading the data)  \n",
    "③ 탐색적 데이터 분석(Exploratory Data Analysis)  \n",
    "④ 데이터 전처리(Data PreProcessing) : 데이터타입 변환, Null 데이터 처리, 누락데이터 처리, \n",
    "더미특성 생성, 특성 추출 (feature engineering) 등  \n",
    "⑤ Train, Test  데이터셋 분할  \n",
    "⑥ 데이터 정규화(Normalizing the Data)  \n",
    "⑦ 모델 개발(Creating the Model)  \n",
    "⑧ 모델 성능 평가"
   ]
  },
  {
   "cell_type": "markdown",
   "metadata": {
    "id": "AY9RWMZE0FT_"
   },
   "source": [
    "## ① 라이브러리 임포트"
   ]
  },
  {
   "cell_type": "markdown",
   "metadata": {
    "id": "ZARhtnLw0FUA"
   },
   "source": [
    "##### 필요 라이브러리 임포트"
   ]
  },
  {
   "cell_type": "code",
   "execution_count": 4,
   "metadata": {
    "executionInfo": {
     "elapsed": 859,
     "status": "ok",
     "timestamp": 1678957090459,
     "user": {
      "displayName": "yunwoo oh",
      "userId": "01035531558844683999"
     },
     "user_tz": -540
    },
    "id": "VY4TxgQj0FUA"
   },
   "outputs": [],
   "source": [
    "import numpy as np\n",
    "import pandas as pd\n",
    "import matplotlib.pyplot as plt"
   ]
  },
  {
   "cell_type": "markdown",
   "metadata": {
    "id": "WLHB9VMx0FUC"
   },
   "source": [
    "## ② 데이터 로드"
   ]
  },
  {
   "cell_type": "markdown",
   "metadata": {
    "id": "UVuC6FaG0FUD"
   },
   "source": [
    "#### data_v1_save.csv 파일 읽어오기"
   ]
  },
  {
   "cell_type": "code",
   "execution_count": 5,
   "metadata": {
    "executionInfo": {
     "elapsed": 314,
     "status": "ok",
     "timestamp": 1678957091150,
     "user": {
      "displayName": "yunwoo oh",
      "userId": "01035531558844683999"
     },
     "user_tz": -540
    },
    "id": "HvNm0L830FUD"
   },
   "outputs": [],
   "source": [
    "# 앞쪽 전처리에서 저장한 cust_data.csv 파일 읽기\n",
    "df = pd.read_csv('data_v1_save.csv')"
   ]
  },
  {
   "cell_type": "markdown",
   "metadata": {
    "id": "4V5lNvqe0FUE"
   },
   "source": [
    "## ③ 데이터 분석"
   ]
  },
  {
   "cell_type": "code",
   "execution_count": 6,
   "metadata": {
    "colab": {
     "base_uri": "https://localhost:8080/"
    },
    "executionInfo": {
     "elapsed": 14,
     "status": "ok",
     "timestamp": 1678957091151,
     "user": {
      "displayName": "yunwoo oh",
      "userId": "01035531558844683999"
     },
     "user_tz": -540
    },
    "id": "_6v_Ai8e0FUF",
    "outputId": "7e96b72b-6d4d-4833-e3db-fe575330e590"
   },
   "outputs": [
    {
     "name": "stdout",
     "output_type": "stream",
     "text": [
      "<class 'pandas.core.frame.DataFrame'>\n",
      "RangeIndex: 7027 entries, 0 to 7026\n",
      "Data columns (total 17 columns):\n",
      " #   Column            Non-Null Count  Dtype  \n",
      "---  ------            --------------  -----  \n",
      " 0   gender            7027 non-null   object \n",
      " 1   Partner           7027 non-null   object \n",
      " 2   Dependents        7027 non-null   object \n",
      " 3   tenure            7027 non-null   int64  \n",
      " 4   MultipleLines     7027 non-null   object \n",
      " 5   InternetService   7027 non-null   object \n",
      " 6   OnlineSecurity    7027 non-null   object \n",
      " 7   OnlineBackup      7027 non-null   object \n",
      " 8   TechSupport       7027 non-null   object \n",
      " 9   StreamingTV       7027 non-null   object \n",
      " 10  StreamingMovies   7027 non-null   object \n",
      " 11  Contract          7027 non-null   object \n",
      " 12  PaperlessBilling  7027 non-null   object \n",
      " 13  PaymentMethod     7027 non-null   object \n",
      " 14  MonthlyCharges    7027 non-null   float64\n",
      " 15  TotalCharges      7027 non-null   float64\n",
      " 16  Churn             7027 non-null   int64  \n",
      "dtypes: float64(2), int64(2), object(13)\n",
      "memory usage: 933.4+ KB\n"
     ]
    }
   ],
   "source": [
    "# 17컬럼, 7,027 라인\n",
    "df.info()"
   ]
  },
  {
   "cell_type": "code",
   "execution_count": 7,
   "metadata": {
    "colab": {
     "base_uri": "https://localhost:8080/",
     "height": 374
    },
    "executionInfo": {
     "elapsed": 8,
     "status": "ok",
     "timestamp": 1678957091151,
     "user": {
      "displayName": "yunwoo oh",
      "userId": "01035531558844683999"
     },
     "user_tz": -540
    },
    "id": "IwQH_hhO0FUG",
    "outputId": "de9b3fe0-497f-4f45-e834-016aad825112"
   },
   "outputs": [
    {
     "data": {
      "text/html": [
       "<div>\n",
       "<style scoped>\n",
       "    .dataframe tbody tr th:only-of-type {\n",
       "        vertical-align: middle;\n",
       "    }\n",
       "\n",
       "    .dataframe tbody tr th {\n",
       "        vertical-align: top;\n",
       "    }\n",
       "\n",
       "    .dataframe thead th {\n",
       "        text-align: right;\n",
       "    }\n",
       "</style>\n",
       "<table border=\"1\" class=\"dataframe\">\n",
       "  <thead>\n",
       "    <tr style=\"text-align: right;\">\n",
       "      <th></th>\n",
       "      <th>gender</th>\n",
       "      <th>Partner</th>\n",
       "      <th>Dependents</th>\n",
       "      <th>tenure</th>\n",
       "      <th>MultipleLines</th>\n",
       "      <th>InternetService</th>\n",
       "      <th>OnlineSecurity</th>\n",
       "      <th>OnlineBackup</th>\n",
       "      <th>TechSupport</th>\n",
       "      <th>StreamingTV</th>\n",
       "      <th>StreamingMovies</th>\n",
       "      <th>Contract</th>\n",
       "      <th>PaperlessBilling</th>\n",
       "      <th>PaymentMethod</th>\n",
       "      <th>MonthlyCharges</th>\n",
       "      <th>TotalCharges</th>\n",
       "      <th>Churn</th>\n",
       "    </tr>\n",
       "  </thead>\n",
       "  <tbody>\n",
       "    <tr>\n",
       "      <th>7022</th>\n",
       "      <td>Female</td>\n",
       "      <td>No</td>\n",
       "      <td>No</td>\n",
       "      <td>72</td>\n",
       "      <td>No</td>\n",
       "      <td>No</td>\n",
       "      <td>No internet service</td>\n",
       "      <td>No internet service</td>\n",
       "      <td>No internet service</td>\n",
       "      <td>No internet service</td>\n",
       "      <td>No internet service</td>\n",
       "      <td>Two year</td>\n",
       "      <td>Yes</td>\n",
       "      <td>Bank transfer (automatic)</td>\n",
       "      <td>21.15</td>\n",
       "      <td>1419.40</td>\n",
       "      <td>0</td>\n",
       "    </tr>\n",
       "    <tr>\n",
       "      <th>7023</th>\n",
       "      <td>Male</td>\n",
       "      <td>Yes</td>\n",
       "      <td>Yes</td>\n",
       "      <td>24</td>\n",
       "      <td>Yes</td>\n",
       "      <td>DSL</td>\n",
       "      <td>Yes</td>\n",
       "      <td>No</td>\n",
       "      <td>Yes</td>\n",
       "      <td>Yes</td>\n",
       "      <td>Yes</td>\n",
       "      <td>One year</td>\n",
       "      <td>Yes</td>\n",
       "      <td>Mailed check</td>\n",
       "      <td>84.80</td>\n",
       "      <td>1990.50</td>\n",
       "      <td>0</td>\n",
       "    </tr>\n",
       "    <tr>\n",
       "      <th>7024</th>\n",
       "      <td>Female</td>\n",
       "      <td>Yes</td>\n",
       "      <td>Yes</td>\n",
       "      <td>72</td>\n",
       "      <td>Yes</td>\n",
       "      <td>Fiber optic</td>\n",
       "      <td>No</td>\n",
       "      <td>Yes</td>\n",
       "      <td>No</td>\n",
       "      <td>Yes</td>\n",
       "      <td>Yes</td>\n",
       "      <td>One year</td>\n",
       "      <td>Yes</td>\n",
       "      <td>Credit card (automatic)</td>\n",
       "      <td>103.20</td>\n",
       "      <td>7362.90</td>\n",
       "      <td>0</td>\n",
       "    </tr>\n",
       "    <tr>\n",
       "      <th>7025</th>\n",
       "      <td>Female</td>\n",
       "      <td>Yes</td>\n",
       "      <td>Yes</td>\n",
       "      <td>11</td>\n",
       "      <td>No phone service</td>\n",
       "      <td>DSL</td>\n",
       "      <td>Yes</td>\n",
       "      <td>No</td>\n",
       "      <td>No</td>\n",
       "      <td>No</td>\n",
       "      <td>No</td>\n",
       "      <td>Month-to-month</td>\n",
       "      <td>Yes</td>\n",
       "      <td>Electronic check</td>\n",
       "      <td>29.60</td>\n",
       "      <td>346.45</td>\n",
       "      <td>0</td>\n",
       "    </tr>\n",
       "    <tr>\n",
       "      <th>7026</th>\n",
       "      <td>Male</td>\n",
       "      <td>Yes</td>\n",
       "      <td>No</td>\n",
       "      <td>4</td>\n",
       "      <td>Yes</td>\n",
       "      <td>Fiber optic</td>\n",
       "      <td>No</td>\n",
       "      <td>No</td>\n",
       "      <td>No</td>\n",
       "      <td>No</td>\n",
       "      <td>No</td>\n",
       "      <td>Month-to-month</td>\n",
       "      <td>Yes</td>\n",
       "      <td>Mailed check</td>\n",
       "      <td>74.40</td>\n",
       "      <td>306.60</td>\n",
       "      <td>1</td>\n",
       "    </tr>\n",
       "  </tbody>\n",
       "</table>\n",
       "</div>"
      ],
      "text/plain": [
       "      gender Partner Dependents  tenure     MultipleLines InternetService  \\\n",
       "7022  Female      No         No      72                No              No   \n",
       "7023    Male     Yes        Yes      24               Yes             DSL   \n",
       "7024  Female     Yes        Yes      72               Yes     Fiber optic   \n",
       "7025  Female     Yes        Yes      11  No phone service             DSL   \n",
       "7026    Male     Yes         No       4               Yes     Fiber optic   \n",
       "\n",
       "           OnlineSecurity         OnlineBackup          TechSupport  \\\n",
       "7022  No internet service  No internet service  No internet service   \n",
       "7023                  Yes                   No                  Yes   \n",
       "7024                   No                  Yes                   No   \n",
       "7025                  Yes                   No                   No   \n",
       "7026                   No                   No                   No   \n",
       "\n",
       "              StreamingTV      StreamingMovies        Contract  \\\n",
       "7022  No internet service  No internet service        Two year   \n",
       "7023                  Yes                  Yes        One year   \n",
       "7024                  Yes                  Yes        One year   \n",
       "7025                   No                   No  Month-to-month   \n",
       "7026                   No                   No  Month-to-month   \n",
       "\n",
       "     PaperlessBilling              PaymentMethod  MonthlyCharges  \\\n",
       "7022              Yes  Bank transfer (automatic)           21.15   \n",
       "7023              Yes               Mailed check           84.80   \n",
       "7024              Yes    Credit card (automatic)          103.20   \n",
       "7025              Yes           Electronic check           29.60   \n",
       "7026              Yes               Mailed check           74.40   \n",
       "\n",
       "      TotalCharges  Churn  \n",
       "7022       1419.40      0  \n",
       "7023       1990.50      0  \n",
       "7024       7362.90      0  \n",
       "7025        346.45      0  \n",
       "7026        306.60      1  "
      ]
     },
     "execution_count": 7,
     "metadata": {},
     "output_type": "execute_result"
    }
   ],
   "source": [
    "df.tail()"
   ]
  },
  {
   "cell_type": "code",
   "execution_count": 8,
   "metadata": {
    "colab": {
     "base_uri": "https://localhost:8080/",
     "height": 280
    },
    "executionInfo": {
     "elapsed": 1022,
     "status": "ok",
     "timestamp": 1678957092167,
     "user": {
      "displayName": "yunwoo oh",
      "userId": "01035531558844683999"
     },
     "user_tz": -540
    },
    "id": "Qp-Kap2r0FUG",
    "outputId": "47ce4006-4287-48e3-98f7-afbe9af584b1"
   },
   "outputs": [
    {
     "data": {
      "text/plain": [
       "<AxesSubplot:>"
      ]
     },
     "execution_count": 8,
     "metadata": {},
     "output_type": "execute_result"
    },
    {
     "data": {
      "image/png": "[encoded data removed]",
      "text/plain": [
       "<Figure size 432x288 with 1 Axes>"
      ]
     },
     "metadata": {
      "needs_background": "light"
     },
     "output_type": "display_data"
    }
   ],
   "source": [
    "# Churn 레이블 불균형 \n",
    "df['Churn'].value_counts().plot(kind='bar')"
   ]
  },
  {
   "cell_type": "markdown",
   "metadata": {
    "id": "jIh8NmeQ0FUH"
   },
   "source": [
    "## ④ 데이터 전처리"
   ]
  },
  {
   "cell_type": "markdown",
   "metadata": {
    "id": "q-nhs1qF0FUH"
   },
   "source": [
    "+ 모든 데이터값들은 숫자형으로 되어야 한다. 즉, Ojbect 타입을 모든 숫자형 변경 필요\n",
    "+ 순서없는 범주형 데이터를 숫자형을 변환시 LabelEncoder 활용 가능\n",
    "+ Object 컬럼에 대해 Pandas get_dummies 함수 활용하여 One-Hot-Encoding"
   ]
  },
  {
   "cell_type": "code",
   "execution_count": 9,
   "metadata": {
    "colab": {
     "base_uri": "https://localhost:8080/",
     "height": 206
    },
    "executionInfo": {
     "elapsed": 43,
     "status": "ok",
     "timestamp": 1678957092168,
     "user": {
      "displayName": "yunwoo oh",
      "userId": "01035531558844683999"
     },
     "user_tz": -540
    },
    "id": "Blq556Xf0FUH",
    "outputId": "7aec98fe-56c9-44c2-da3b-2df711b6f4e9"
   },
   "outputs": [
    {
     "data": {
      "text/html": [
       "<div>\n",
       "<style scoped>\n",
       "    .dataframe tbody tr th:only-of-type {\n",
       "        vertical-align: middle;\n",
       "    }\n",
       "\n",
       "    .dataframe tbody tr th {\n",
       "        vertical-align: top;\n",
       "    }\n",
       "\n",
       "    .dataframe thead th {\n",
       "        text-align: right;\n",
       "    }\n",
       "</style>\n",
       "<table border=\"1\" class=\"dataframe\">\n",
       "  <thead>\n",
       "    <tr style=\"text-align: right;\">\n",
       "      <th></th>\n",
       "      <th>MultipleLines</th>\n",
       "    </tr>\n",
       "  </thead>\n",
       "  <tbody>\n",
       "    <tr>\n",
       "      <th>0</th>\n",
       "      <td>No</td>\n",
       "    </tr>\n",
       "    <tr>\n",
       "      <th>1</th>\n",
       "      <td>No</td>\n",
       "    </tr>\n",
       "    <tr>\n",
       "      <th>2</th>\n",
       "      <td>No phone service</td>\n",
       "    </tr>\n",
       "    <tr>\n",
       "      <th>3</th>\n",
       "      <td>No</td>\n",
       "    </tr>\n",
       "    <tr>\n",
       "      <th>4</th>\n",
       "      <td>Yes</td>\n",
       "    </tr>\n",
       "  </tbody>\n",
       "</table>\n",
       "</div>"
      ],
      "text/plain": [
       "      MultipleLines\n",
       "0                No\n",
       "1                No\n",
       "2  No phone service\n",
       "3                No\n",
       "4               Yes"
      ]
     },
     "execution_count": 9,
     "metadata": {},
     "output_type": "execute_result"
    }
   ],
   "source": [
    "# MultipleLines 컬럼 내용 보기\n",
    "df[['MultipleLines']].head()"
   ]
  },
  {
   "cell_type": "code",
   "execution_count": 10,
   "metadata": {
    "colab": {
     "base_uri": "https://localhost:8080/"
    },
    "executionInfo": {
     "elapsed": 42,
     "status": "ok",
     "timestamp": 1678957092168,
     "user": {
      "displayName": "yunwoo oh",
      "userId": "01035531558844683999"
     },
     "user_tz": -540
    },
    "id": "dpzTPy9o0FUI",
    "outputId": "38eeeb54-50a5-4dc9-d4eb-68a8cfd01f83"
   },
   "outputs": [
    {
     "data": {
      "text/plain": [
       "No                  3380\n",
       "Yes                 2966\n",
       "No phone service     681\n",
       "Name: MultipleLines, dtype: int64"
      ]
     },
     "execution_count": 10,
     "metadata": {},
     "output_type": "execute_result"
    }
   ],
   "source": [
    "# MultipleLines 컬럼에 대한 분포 확인 : 3가지 되어 있음 확인\n",
    "df['MultipleLines'].value_counts()"
   ]
  },
  {
   "cell_type": "code",
   "execution_count": 11,
   "metadata": {
    "colab": {
     "base_uri": "https://localhost:8080/",
     "height": 730
    },
    "executionInfo": {
     "elapsed": 38,
     "status": "ok",
     "timestamp": 1678957092169,
     "user": {
      "displayName": "yunwoo oh",
      "userId": "01035531558844683999"
     },
     "user_tz": -540
    },
    "id": "CvSKdzeQ0FUI",
    "outputId": "8c2bad87-6bf3-4c50-c6a6-61ba3b19fea4"
   },
   "outputs": [
    {
     "data": {
      "text/html": [
       "<div>\n",
       "<style scoped>\n",
       "    .dataframe tbody tr th:only-of-type {\n",
       "        vertical-align: middle;\n",
       "    }\n",
       "\n",
       "    .dataframe tbody tr th {\n",
       "        vertical-align: top;\n",
       "    }\n",
       "\n",
       "    .dataframe thead th {\n",
       "        text-align: right;\n",
       "    }\n",
       "</style>\n",
       "<table border=\"1\" class=\"dataframe\">\n",
       "  <thead>\n",
       "    <tr style=\"text-align: right;\">\n",
       "      <th></th>\n",
       "      <th>gender</th>\n",
       "      <th>Partner</th>\n",
       "      <th>Dependents</th>\n",
       "      <th>tenure</th>\n",
       "      <th>InternetService</th>\n",
       "      <th>OnlineSecurity</th>\n",
       "      <th>OnlineBackup</th>\n",
       "      <th>TechSupport</th>\n",
       "      <th>StreamingTV</th>\n",
       "      <th>StreamingMovies</th>\n",
       "      <th>Contract</th>\n",
       "      <th>PaperlessBilling</th>\n",
       "      <th>PaymentMethod</th>\n",
       "      <th>MonthlyCharges</th>\n",
       "      <th>TotalCharges</th>\n",
       "      <th>Churn</th>\n",
       "      <th>MultipleLines_No</th>\n",
       "      <th>MultipleLines_No phone service</th>\n",
       "      <th>MultipleLines_Yes</th>\n",
       "    </tr>\n",
       "  </thead>\n",
       "  <tbody>\n",
       "    <tr>\n",
       "      <th>0</th>\n",
       "      <td>Male</td>\n",
       "      <td>No</td>\n",
       "      <td>No</td>\n",
       "      <td>34</td>\n",
       "      <td>DSL</td>\n",
       "      <td>Yes</td>\n",
       "      <td>No</td>\n",
       "      <td>No</td>\n",
       "      <td>No</td>\n",
       "      <td>No</td>\n",
       "      <td>One year</td>\n",
       "      <td>No</td>\n",
       "      <td>Mailed check</td>\n",
       "      <td>56.95</td>\n",
       "      <td>1889.50</td>\n",
       "      <td>0</td>\n",
       "      <td>1</td>\n",
       "      <td>0</td>\n",
       "      <td>0</td>\n",
       "    </tr>\n",
       "    <tr>\n",
       "      <th>1</th>\n",
       "      <td>Male</td>\n",
       "      <td>No</td>\n",
       "      <td>No</td>\n",
       "      <td>2</td>\n",
       "      <td>DSL</td>\n",
       "      <td>Yes</td>\n",
       "      <td>Yes</td>\n",
       "      <td>No</td>\n",
       "      <td>No</td>\n",
       "      <td>No</td>\n",
       "      <td>Month-to-month</td>\n",
       "      <td>Yes</td>\n",
       "      <td>Mailed check</td>\n",
       "      <td>53.85</td>\n",
       "      <td>108.15</td>\n",
       "      <td>1</td>\n",
       "      <td>1</td>\n",
       "      <td>0</td>\n",
       "      <td>0</td>\n",
       "    </tr>\n",
       "    <tr>\n",
       "      <th>2</th>\n",
       "      <td>Male</td>\n",
       "      <td>No</td>\n",
       "      <td>No</td>\n",
       "      <td>45</td>\n",
       "      <td>DSL</td>\n",
       "      <td>Yes</td>\n",
       "      <td>No</td>\n",
       "      <td>Yes</td>\n",
       "      <td>No</td>\n",
       "      <td>No</td>\n",
       "      <td>One year</td>\n",
       "      <td>No</td>\n",
       "      <td>Bank transfer (automatic)</td>\n",
       "      <td>42.30</td>\n",
       "      <td>1840.75</td>\n",
       "      <td>0</td>\n",
       "      <td>0</td>\n",
       "      <td>1</td>\n",
       "      <td>0</td>\n",
       "    </tr>\n",
       "    <tr>\n",
       "      <th>3</th>\n",
       "      <td>Female</td>\n",
       "      <td>No</td>\n",
       "      <td>No</td>\n",
       "      <td>2</td>\n",
       "      <td>Fiber optic</td>\n",
       "      <td>No</td>\n",
       "      <td>No</td>\n",
       "      <td>No</td>\n",
       "      <td>No</td>\n",
       "      <td>No</td>\n",
       "      <td>Month-to-month</td>\n",
       "      <td>Yes</td>\n",
       "      <td>Electronic check</td>\n",
       "      <td>70.70</td>\n",
       "      <td>151.65</td>\n",
       "      <td>1</td>\n",
       "      <td>1</td>\n",
       "      <td>0</td>\n",
       "      <td>0</td>\n",
       "    </tr>\n",
       "    <tr>\n",
       "      <th>4</th>\n",
       "      <td>Female</td>\n",
       "      <td>No</td>\n",
       "      <td>No</td>\n",
       "      <td>8</td>\n",
       "      <td>Fiber optic</td>\n",
       "      <td>No</td>\n",
       "      <td>No</td>\n",
       "      <td>No</td>\n",
       "      <td>Yes</td>\n",
       "      <td>Yes</td>\n",
       "      <td>Month-to-month</td>\n",
       "      <td>Yes</td>\n",
       "      <td>Electronic check</td>\n",
       "      <td>99.65</td>\n",
       "      <td>820.50</td>\n",
       "      <td>1</td>\n",
       "      <td>0</td>\n",
       "      <td>0</td>\n",
       "      <td>1</td>\n",
       "    </tr>\n",
       "    <tr>\n",
       "      <th>...</th>\n",
       "      <td>...</td>\n",
       "      <td>...</td>\n",
       "      <td>...</td>\n",
       "      <td>...</td>\n",
       "      <td>...</td>\n",
       "      <td>...</td>\n",
       "      <td>...</td>\n",
       "      <td>...</td>\n",
       "      <td>...</td>\n",
       "      <td>...</td>\n",
       "      <td>...</td>\n",
       "      <td>...</td>\n",
       "      <td>...</td>\n",
       "      <td>...</td>\n",
       "      <td>...</td>\n",
       "      <td>...</td>\n",
       "      <td>...</td>\n",
       "      <td>...</td>\n",
       "      <td>...</td>\n",
       "    </tr>\n",
       "    <tr>\n",
       "      <th>7022</th>\n",
       "      <td>Female</td>\n",
       "      <td>No</td>\n",
       "      <td>No</td>\n",
       "      <td>72</td>\n",
       "      <td>No</td>\n",
       "      <td>No internet service</td>\n",
       "      <td>No internet service</td>\n",
       "      <td>No internet service</td>\n",
       "      <td>No internet service</td>\n",
       "      <td>No internet service</td>\n",
       "      <td>Two year</td>\n",
       "      <td>Yes</td>\n",
       "      <td>Bank transfer (automatic)</td>\n",
       "      <td>21.15</td>\n",
       "      <td>1419.40</td>\n",
       "      <td>0</td>\n",
       "      <td>1</td>\n",
       "      <td>0</td>\n",
       "      <td>0</td>\n",
       "    </tr>\n",
       "    <tr>\n",
       "      <th>7023</th>\n",
       "      <td>Male</td>\n",
       "      <td>Yes</td>\n",
       "      <td>Yes</td>\n",
       "      <td>24</td>\n",
       "      <td>DSL</td>\n",
       "      <td>Yes</td>\n",
       "      <td>No</td>\n",
       "      <td>Yes</td>\n",
       "      <td>Yes</td>\n",
       "      <td>Yes</td>\n",
       "      <td>One year</td>\n",
       "      <td>Yes</td>\n",
       "      <td>Mailed check</td>\n",
       "      <td>84.80</td>\n",
       "      <td>1990.50</td>\n",
       "      <td>0</td>\n",
       "      <td>0</td>\n",
       "      <td>0</td>\n",
       "      <td>1</td>\n",
       "    </tr>\n",
       "    <tr>\n",
       "      <th>7024</th>\n",
       "      <td>Female</td>\n",
       "      <td>Yes</td>\n",
       "      <td>Yes</td>\n",
       "      <td>72</td>\n",
       "      <td>Fiber optic</td>\n",
       "      <td>No</td>\n",
       "      <td>Yes</td>\n",
       "      <td>No</td>\n",
       "      <td>Yes</td>\n",
       "      <td>Yes</td>\n",
       "      <td>One year</td>\n",
       "      <td>Yes</td>\n",
       "      <td>Credit card (automatic)</td>\n",
       "      <td>103.20</td>\n",
       "      <td>7362.90</td>\n",
       "      <td>0</td>\n",
       "      <td>0</td>\n",
       "      <td>0</td>\n",
       "      <td>1</td>\n",
       "    </tr>\n",
       "    <tr>\n",
       "      <th>7025</th>\n",
       "      <td>Female</td>\n",
       "      <td>Yes</td>\n",
       "      <td>Yes</td>\n",
       "      <td>11</td>\n",
       "      <td>DSL</td>\n",
       "      <td>Yes</td>\n",
       "      <td>No</td>\n",
       "      <td>No</td>\n",
       "      <td>No</td>\n",
       "      <td>No</td>\n",
       "      <td>Month-to-month</td>\n",
       "      <td>Yes</td>\n",
       "      <td>Electronic check</td>\n",
       "      <td>29.60</td>\n",
       "      <td>346.45</td>\n",
       "      <td>0</td>\n",
       "      <td>0</td>\n",
       "      <td>1</td>\n",
       "      <td>0</td>\n",
       "    </tr>\n",
       "    <tr>\n",
       "      <th>7026</th>\n",
       "      <td>Male</td>\n",
       "      <td>Yes</td>\n",
       "      <td>No</td>\n",
       "      <td>4</td>\n",
       "      <td>Fiber optic</td>\n",
       "      <td>No</td>\n",
       "      <td>No</td>\n",
       "      <td>No</td>\n",
       "      <td>No</td>\n",
       "      <td>No</td>\n",
       "      <td>Month-to-month</td>\n",
       "      <td>Yes</td>\n",
       "      <td>Mailed check</td>\n",
       "      <td>74.40</td>\n",
       "      <td>306.60</td>\n",
       "      <td>1</td>\n",
       "      <td>0</td>\n",
       "      <td>0</td>\n",
       "      <td>1</td>\n",
       "    </tr>\n",
       "  </tbody>\n",
       "</table>\n",
       "<p>7027 rows × 19 columns</p>\n",
       "</div>"
      ],
      "text/plain": [
       "      gender Partner Dependents  tenure InternetService       OnlineSecurity  \\\n",
       "0       Male      No         No      34             DSL                  Yes   \n",
       "1       Male      No         No       2             DSL                  Yes   \n",
       "2       Male      No         No      45             DSL                  Yes   \n",
       "3     Female      No         No       2     Fiber optic                   No   \n",
       "4     Female      No         No       8     Fiber optic                   No   \n",
       "...      ...     ...        ...     ...             ...                  ...   \n",
       "7022  Female      No         No      72              No  No internet service   \n",
       "7023    Male     Yes        Yes      24             DSL                  Yes   \n",
       "7024  Female     Yes        Yes      72     Fiber optic                   No   \n",
       "7025  Female     Yes        Yes      11             DSL                  Yes   \n",
       "7026    Male     Yes         No       4     Fiber optic                   No   \n",
       "\n",
       "             OnlineBackup          TechSupport          StreamingTV  \\\n",
       "0                      No                   No                   No   \n",
       "1                     Yes                   No                   No   \n",
       "2                      No                  Yes                   No   \n",
       "3                      No                   No                   No   \n",
       "4                      No                   No                  Yes   \n",
       "...                   ...                  ...                  ...   \n",
       "7022  No internet service  No internet service  No internet service   \n",
       "7023                   No                  Yes                  Yes   \n",
       "7024                  Yes                   No                  Yes   \n",
       "7025                   No                   No                   No   \n",
       "7026                   No                   No                   No   \n",
       "\n",
       "          StreamingMovies        Contract PaperlessBilling  \\\n",
       "0                      No        One year               No   \n",
       "1                      No  Month-to-month              Yes   \n",
       "2                      No        One year               No   \n",
       "3                      No  Month-to-month              Yes   \n",
       "4                     Yes  Month-to-month              Yes   \n",
       "...                   ...             ...              ...   \n",
       "7022  No internet service        Two year              Yes   \n",
       "7023                  Yes        One year              Yes   \n",
       "7024                  Yes        One year              Yes   \n",
       "7025                   No  Month-to-month              Yes   \n",
       "7026                   No  Month-to-month              Yes   \n",
       "\n",
       "                  PaymentMethod  MonthlyCharges  TotalCharges  Churn  \\\n",
       "0                  Mailed check           56.95       1889.50      0   \n",
       "1                  Mailed check           53.85        108.15      1   \n",
       "2     Bank transfer (automatic)           42.30       1840.75      0   \n",
       "3              Electronic check           70.70        151.65      1   \n",
       "4              Electronic check           99.65        820.50      1   \n",
       "...                         ...             ...           ...    ...   \n",
       "7022  Bank transfer (automatic)           21.15       1419.40      0   \n",
       "7023               Mailed check           84.80       1990.50      0   \n",
       "7024    Credit card (automatic)          103.20       7362.90      0   \n",
       "7025           Electronic check           29.60        346.45      0   \n",
       "7026               Mailed check           74.40        306.60      1   \n",
       "\n",
       "      MultipleLines_No  MultipleLines_No phone service  MultipleLines_Yes  \n",
       "0                    1                               0                  0  \n",
       "1                    1                               0                  0  \n",
       "2                    0                               1                  0  \n",
       "3                    1                               0                  0  \n",
       "4                    0                               0                  1  \n",
       "...                ...                             ...                ...  \n",
       "7022                 1                               0                  0  \n",
       "7023                 0                               0                  1  \n",
       "7024                 0                               0                  1  \n",
       "7025                 0                               1                  0  \n",
       "7026                 0                               0                  1  \n",
       "\n",
       "[7027 rows x 19 columns]"
      ]
     },
     "execution_count": 11,
     "metadata": {},
     "output_type": "execute_result"
    }
   ],
   "source": [
    "# MultipleLines 컬럼의 값들이 문자열로 되어 있어 숫자로 변환해야 함. 컴퓨터가 이해할수 있도록\n",
    "# Object 컬럼의 데이터를 원-핫-인코딩해서 숫자로 변경해 주는 함수 : Pandas get_dummies()\n",
    "\n",
    "pd.get_dummies(data=df, columns=['MultipleLines'])"
   ]
  },
  {
   "cell_type": "code",
   "execution_count": 12,
   "metadata": {
    "colab": {
     "base_uri": "https://localhost:8080/",
     "height": 259
    },
    "executionInfo": {
     "elapsed": 37,
     "status": "ok",
     "timestamp": 1678957092169,
     "user": {
      "displayName": "yunwoo oh",
      "userId": "01035531558844683999"
     },
     "user_tz": -540
    },
    "id": "2I33ocSP0FUJ",
    "outputId": "e16cd4b0-616b-48ee-fe21-fbbe954172d4"
   },
   "outputs": [
    {
     "data": {
      "text/html": [
       "<div>\n",
       "<style scoped>\n",
       "    .dataframe tbody tr th:only-of-type {\n",
       "        vertical-align: middle;\n",
       "    }\n",
       "\n",
       "    .dataframe tbody tr th {\n",
       "        vertical-align: top;\n",
       "    }\n",
       "\n",
       "    .dataframe thead th {\n",
       "        text-align: right;\n",
       "    }\n",
       "</style>\n",
       "<table border=\"1\" class=\"dataframe\">\n",
       "  <thead>\n",
       "    <tr style=\"text-align: right;\">\n",
       "      <th></th>\n",
       "      <th>gender</th>\n",
       "      <th>Partner</th>\n",
       "      <th>Dependents</th>\n",
       "      <th>MultipleLines</th>\n",
       "      <th>InternetService</th>\n",
       "      <th>OnlineSecurity</th>\n",
       "      <th>OnlineBackup</th>\n",
       "      <th>TechSupport</th>\n",
       "      <th>StreamingTV</th>\n",
       "      <th>StreamingMovies</th>\n",
       "      <th>Contract</th>\n",
       "      <th>PaperlessBilling</th>\n",
       "      <th>PaymentMethod</th>\n",
       "    </tr>\n",
       "  </thead>\n",
       "  <tbody>\n",
       "    <tr>\n",
       "      <th>0</th>\n",
       "      <td>Male</td>\n",
       "      <td>No</td>\n",
       "      <td>No</td>\n",
       "      <td>No</td>\n",
       "      <td>DSL</td>\n",
       "      <td>Yes</td>\n",
       "      <td>No</td>\n",
       "      <td>No</td>\n",
       "      <td>No</td>\n",
       "      <td>No</td>\n",
       "      <td>One year</td>\n",
       "      <td>No</td>\n",
       "      <td>Mailed check</td>\n",
       "    </tr>\n",
       "    <tr>\n",
       "      <th>1</th>\n",
       "      <td>Male</td>\n",
       "      <td>No</td>\n",
       "      <td>No</td>\n",
       "      <td>No</td>\n",
       "      <td>DSL</td>\n",
       "      <td>Yes</td>\n",
       "      <td>Yes</td>\n",
       "      <td>No</td>\n",
       "      <td>No</td>\n",
       "      <td>No</td>\n",
       "      <td>Month-to-month</td>\n",
       "      <td>Yes</td>\n",
       "      <td>Mailed check</td>\n",
       "    </tr>\n",
       "    <tr>\n",
       "      <th>2</th>\n",
       "      <td>Male</td>\n",
       "      <td>No</td>\n",
       "      <td>No</td>\n",
       "      <td>No phone service</td>\n",
       "      <td>DSL</td>\n",
       "      <td>Yes</td>\n",
       "      <td>No</td>\n",
       "      <td>Yes</td>\n",
       "      <td>No</td>\n",
       "      <td>No</td>\n",
       "      <td>One year</td>\n",
       "      <td>No</td>\n",
       "      <td>Bank transfer (automatic)</td>\n",
       "    </tr>\n",
       "  </tbody>\n",
       "</table>\n",
       "</div>"
      ],
      "text/plain": [
       "  gender Partner Dependents     MultipleLines InternetService OnlineSecurity  \\\n",
       "0   Male      No         No                No             DSL            Yes   \n",
       "1   Male      No         No                No             DSL            Yes   \n",
       "2   Male      No         No  No phone service             DSL            Yes   \n",
       "\n",
       "  OnlineBackup TechSupport StreamingTV StreamingMovies        Contract  \\\n",
       "0           No          No          No              No        One year   \n",
       "1          Yes          No          No              No  Month-to-month   \n",
       "2           No         Yes          No              No        One year   \n",
       "\n",
       "  PaperlessBilling              PaymentMethod  \n",
       "0               No               Mailed check  \n",
       "1              Yes               Mailed check  \n",
       "2               No  Bank transfer (automatic)  "
      ]
     },
     "execution_count": 12,
     "metadata": {},
     "output_type": "execute_result"
    }
   ],
   "source": [
    "# Object 컬럼 확인\n",
    "df.select_dtypes('object').head(3)"
   ]
  },
  {
   "cell_type": "code",
   "execution_count": 13,
   "metadata": {
    "colab": {
     "base_uri": "https://localhost:8080/"
    },
    "executionInfo": {
     "elapsed": 36,
     "status": "ok",
     "timestamp": 1678957092170,
     "user": {
      "displayName": "yunwoo oh",
      "userId": "01035531558844683999"
     },
     "user_tz": -540
    },
    "id": "fRuWYDVt0FUJ",
    "outputId": "aedf0b36-0c21-4afb-fe9f-a4fcfc8404b3"
   },
   "outputs": [
    {
     "data": {
      "text/plain": [
       "array(['gender', 'Partner', 'Dependents', 'MultipleLines',\n",
       "       'InternetService', 'OnlineSecurity', 'OnlineBackup', 'TechSupport',\n",
       "       'StreamingTV', 'StreamingMovies', 'Contract', 'PaperlessBilling',\n",
       "       'PaymentMethod'], dtype=object)"
      ]
     },
     "execution_count": 13,
     "metadata": {},
     "output_type": "execute_result"
    }
   ],
   "source": [
    "# Object 컬럼명 수집\n",
    "\n",
    "cal_cols = df.select_dtypes('object').columns.values\n",
    "cal_cols"
   ]
  },
  {
   "cell_type": "markdown",
   "metadata": {
    "id": "J4ZK1acm0FUK"
   },
   "source": [
    "##### <font color=blue> **[문제] Object 컬럼에 대해 One-Hot-Encoding 수행하고 그 결과를 df1 변수에 저장하세요.** </font>"
   ]
  },
  {
   "cell_type": "code",
   "execution_count": 14,
   "metadata": {
    "executionInfo": {
     "elapsed": 34,
     "status": "ok",
     "timestamp": 1678957092171,
     "user": {
      "displayName": "yunwoo oh",
      "userId": "01035531558844683999"
     },
     "user_tz": -540
    },
    "id": "nrO_PFhQ0FUK"
   },
   "outputs": [],
   "source": [
    "# Pandas get_dummies() 함수 이용\n",
    "# 원-핫-인코딩 결과를 df1 저장\n",
    "\n",
    "\n",
    "df1 = pd.get_dummies(data=df, columns=cal_cols)"
   ]
  },
  {
   "cell_type": "code",
   "execution_count": 15,
   "metadata": {
    "colab": {
     "base_uri": "https://localhost:8080/"
    },
    "executionInfo": {
     "elapsed": 33,
     "status": "ok",
     "timestamp": 1678957092171,
     "user": {
      "displayName": "yunwoo oh",
      "userId": "01035531558844683999"
     },
     "user_tz": -540
    },
    "id": "LKHLRV220FUK",
    "outputId": "a51adf12-7803-4cd4-d6fd-3bf0cb1acaa2"
   },
   "outputs": [
    {
     "name": "stdout",
     "output_type": "stream",
     "text": [
      "<class 'pandas.core.frame.DataFrame'>\n",
      "RangeIndex: 7027 entries, 0 to 7026\n",
      "Data columns (total 40 columns):\n",
      " #   Column                                   Non-Null Count  Dtype  \n",
      "---  ------                                   --------------  -----  \n",
      " 0   tenure                                   7027 non-null   int64  \n",
      " 1   MonthlyCharges                           7027 non-null   float64\n",
      " 2   TotalCharges                             7027 non-null   float64\n",
      " 3   Churn                                    7027 non-null   int64  \n",
      " 4   gender_Female                            7027 non-null   uint8  \n",
      " 5   gender_Male                              7027 non-null   uint8  \n",
      " 6   Partner_No                               7027 non-null   uint8  \n",
      " 7   Partner_Yes                              7027 non-null   uint8  \n",
      " 8   Dependents_No                            7027 non-null   uint8  \n",
      " 9   Dependents_Yes                           7027 non-null   uint8  \n",
      " 10  MultipleLines_No                         7027 non-null   uint8  \n",
      " 11  MultipleLines_No phone service           7027 non-null   uint8  \n",
      " 12  MultipleLines_Yes                        7027 non-null   uint8  \n",
      " 13  InternetService_DSL                      7027 non-null   uint8  \n",
      " 14  InternetService_Fiber optic              7027 non-null   uint8  \n",
      " 15  InternetService_No                       7027 non-null   uint8  \n",
      " 16  OnlineSecurity_No                        7027 non-null   uint8  \n",
      " 17  OnlineSecurity_No internet service       7027 non-null   uint8  \n",
      " 18  OnlineSecurity_Yes                       7027 non-null   uint8  \n",
      " 19  OnlineBackup_No                          7027 non-null   uint8  \n",
      " 20  OnlineBackup_No internet service         7027 non-null   uint8  \n",
      " 21  OnlineBackup_Yes                         7027 non-null   uint8  \n",
      " 22  TechSupport_No                           7027 non-null   uint8  \n",
      " 23  TechSupport_No internet service          7027 non-null   uint8  \n",
      " 24  TechSupport_Yes                          7027 non-null   uint8  \n",
      " 25  StreamingTV_No                           7027 non-null   uint8  \n",
      " 26  StreamingTV_No internet service          7027 non-null   uint8  \n",
      " 27  StreamingTV_Yes                          7027 non-null   uint8  \n",
      " 28  StreamingMovies_No                       7027 non-null   uint8  \n",
      " 29  StreamingMovies_No internet service      7027 non-null   uint8  \n",
      " 30  StreamingMovies_Yes                      7027 non-null   uint8  \n",
      " 31  Contract_Month-to-month                  7027 non-null   uint8  \n",
      " 32  Contract_One year                        7027 non-null   uint8  \n",
      " 33  Contract_Two year                        7027 non-null   uint8  \n",
      " 34  PaperlessBilling_No                      7027 non-null   uint8  \n",
      " 35  PaperlessBilling_Yes                     7027 non-null   uint8  \n",
      " 36  PaymentMethod_Bank transfer (automatic)  7027 non-null   uint8  \n",
      " 37  PaymentMethod_Credit card (automatic)    7027 non-null   uint8  \n",
      " 38  PaymentMethod_Electronic check           7027 non-null   uint8  \n",
      " 39  PaymentMethod_Mailed check               7027 non-null   uint8  \n",
      "dtypes: float64(2), int64(2), uint8(36)\n",
      "memory usage: 466.8 KB\n"
     ]
    }
   ],
   "source": [
    "# 모든 컬럼 데이터가 숫자되어 있음을 확인\n",
    "# 40컬럼, 7,027 라인\n",
    "\n",
    "df1.info()"
   ]
  },
  {
   "cell_type": "code",
   "execution_count": 16,
   "metadata": {
    "colab": {
     "base_uri": "https://localhost:8080/",
     "height": 271
    },
    "executionInfo": {
     "elapsed": 31,
     "status": "ok",
     "timestamp": 1678957092172,
     "user": {
      "displayName": "yunwoo oh",
      "userId": "01035531558844683999"
     },
     "user_tz": -540
    },
    "id": "jQV1XuM50FUL",
    "outputId": "39c0a896-61c6-44d8-a213-96df66584f06"
   },
   "outputs": [
    {
     "data": {
      "text/html": [
       "<div>\n",
       "<style scoped>\n",
       "    .dataframe tbody tr th:only-of-type {\n",
       "        vertical-align: middle;\n",
       "    }\n",
       "\n",
       "    .dataframe tbody tr th {\n",
       "        vertical-align: top;\n",
       "    }\n",
       "\n",
       "    .dataframe thead th {\n",
       "        text-align: right;\n",
       "    }\n",
       "</style>\n",
       "<table border=\"1\" class=\"dataframe\">\n",
       "  <thead>\n",
       "    <tr style=\"text-align: right;\">\n",
       "      <th></th>\n",
       "      <th>tenure</th>\n",
       "      <th>MonthlyCharges</th>\n",
       "      <th>TotalCharges</th>\n",
       "      <th>Churn</th>\n",
       "      <th>gender_Female</th>\n",
       "      <th>gender_Male</th>\n",
       "      <th>Partner_No</th>\n",
       "      <th>Partner_Yes</th>\n",
       "      <th>Dependents_No</th>\n",
       "      <th>Dependents_Yes</th>\n",
       "      <th>...</th>\n",
       "      <th>StreamingMovies_Yes</th>\n",
       "      <th>Contract_Month-to-month</th>\n",
       "      <th>Contract_One year</th>\n",
       "      <th>Contract_Two year</th>\n",
       "      <th>PaperlessBilling_No</th>\n",
       "      <th>PaperlessBilling_Yes</th>\n",
       "      <th>PaymentMethod_Bank transfer (automatic)</th>\n",
       "      <th>PaymentMethod_Credit card (automatic)</th>\n",
       "      <th>PaymentMethod_Electronic check</th>\n",
       "      <th>PaymentMethod_Mailed check</th>\n",
       "    </tr>\n",
       "  </thead>\n",
       "  <tbody>\n",
       "    <tr>\n",
       "      <th>0</th>\n",
       "      <td>34</td>\n",
       "      <td>56.95</td>\n",
       "      <td>1889.50</td>\n",
       "      <td>0</td>\n",
       "      <td>0</td>\n",
       "      <td>1</td>\n",
       "      <td>1</td>\n",
       "      <td>0</td>\n",
       "      <td>1</td>\n",
       "      <td>0</td>\n",
       "      <td>...</td>\n",
       "      <td>0</td>\n",
       "      <td>0</td>\n",
       "      <td>1</td>\n",
       "      <td>0</td>\n",
       "      <td>1</td>\n",
       "      <td>0</td>\n",
       "      <td>0</td>\n",
       "      <td>0</td>\n",
       "      <td>0</td>\n",
       "      <td>1</td>\n",
       "    </tr>\n",
       "    <tr>\n",
       "      <th>1</th>\n",
       "      <td>2</td>\n",
       "      <td>53.85</td>\n",
       "      <td>108.15</td>\n",
       "      <td>1</td>\n",
       "      <td>0</td>\n",
       "      <td>1</td>\n",
       "      <td>1</td>\n",
       "      <td>0</td>\n",
       "      <td>1</td>\n",
       "      <td>0</td>\n",
       "      <td>...</td>\n",
       "      <td>0</td>\n",
       "      <td>1</td>\n",
       "      <td>0</td>\n",
       "      <td>0</td>\n",
       "      <td>0</td>\n",
       "      <td>1</td>\n",
       "      <td>0</td>\n",
       "      <td>0</td>\n",
       "      <td>0</td>\n",
       "      <td>1</td>\n",
       "    </tr>\n",
       "    <tr>\n",
       "      <th>2</th>\n",
       "      <td>45</td>\n",
       "      <td>42.30</td>\n",
       "      <td>1840.75</td>\n",
       "      <td>0</td>\n",
       "      <td>0</td>\n",
       "      <td>1</td>\n",
       "      <td>1</td>\n",
       "      <td>0</td>\n",
       "      <td>1</td>\n",
       "      <td>0</td>\n",
       "      <td>...</td>\n",
       "      <td>0</td>\n",
       "      <td>0</td>\n",
       "      <td>1</td>\n",
       "      <td>0</td>\n",
       "      <td>1</td>\n",
       "      <td>0</td>\n",
       "      <td>1</td>\n",
       "      <td>0</td>\n",
       "      <td>0</td>\n",
       "      <td>0</td>\n",
       "    </tr>\n",
       "  </tbody>\n",
       "</table>\n",
       "<p>3 rows × 40 columns</p>\n",
       "</div>"
      ],
      "text/plain": [
       "   tenure  MonthlyCharges  TotalCharges  Churn  gender_Female  gender_Male  \\\n",
       "0      34           56.95       1889.50      0              0            1   \n",
       "1       2           53.85        108.15      1              0            1   \n",
       "2      45           42.30       1840.75      0              0            1   \n",
       "\n",
       "   Partner_No  Partner_Yes  Dependents_No  Dependents_Yes  ...  \\\n",
       "0           1            0              1               0  ...   \n",
       "1           1            0              1               0  ...   \n",
       "2           1            0              1               0  ...   \n",
       "\n",
       "   StreamingMovies_Yes  Contract_Month-to-month  Contract_One year  \\\n",
       "0                    0                        0                  1   \n",
       "1                    0                        1                  0   \n",
       "2                    0                        0                  1   \n",
       "\n",
       "   Contract_Two year  PaperlessBilling_No  PaperlessBilling_Yes  \\\n",
       "0                  0                    1                     0   \n",
       "1                  0                    0                     1   \n",
       "2                  0                    1                     0   \n",
       "\n",
       "   PaymentMethod_Bank transfer (automatic)  \\\n",
       "0                                        0   \n",
       "1                                        0   \n",
       "2                                        1   \n",
       "\n",
       "   PaymentMethod_Credit card (automatic)  PaymentMethod_Electronic check  \\\n",
       "0                                      0                               0   \n",
       "1                                      0                               0   \n",
       "2                                      0                               0   \n",
       "\n",
       "   PaymentMethod_Mailed check  \n",
       "0                           1  \n",
       "1                           1  \n",
       "2                           0  \n",
       "\n",
       "[3 rows x 40 columns]"
      ]
     },
     "execution_count": 16,
     "metadata": {},
     "output_type": "execute_result"
    }
   ],
   "source": [
    "df1.head(3)"
   ]
  },
  {
   "cell_type": "markdown",
   "metadata": {
    "id": "S_vS5S6s0FUL"
   },
   "source": [
    "## ⑤ Train, Test  데이터셋 분할"
   ]
  },
  {
   "cell_type": "markdown",
   "metadata": {
    "id": "6-OtRis00FUL"
   },
   "source": [
    "#### 입력(X)과 레이블(y) 나누기"
   ]
  },
  {
   "cell_type": "markdown",
   "metadata": {
    "id": "E3uUWsZA0FUM"
   },
   "source": [
    "##### <font color=blue> **[문제] df1 DataFrame에서 'Churn' 컬럼을 제외한 나머지 정보를 X에 저장하세요.** </font>"
   ]
  },
  {
   "cell_type": "code",
   "execution_count": 17,
   "metadata": {
    "executionInfo": {
     "elapsed": 30,
     "status": "ok",
     "timestamp": 1678957092172,
     "user": {
      "displayName": "yunwoo oh",
      "userId": "01035531558844683999"
     },
     "user_tz": -540
    },
    "id": "sOUAhknI0FUM"
   },
   "outputs": [],
   "source": [
    "# DataFrame drop 함수 활용\n",
    "# 'Churn' 컬럼 삭제\n",
    "# DataFrame에서 values만 X에 저장\n",
    "\n",
    "\n",
    "\n",
    "X = df1.drop('Churn', axis=1).values"
   ]
  },
  {
   "cell_type": "markdown",
   "metadata": {
    "id": "ZaSeXul50FUM"
   },
   "source": [
    "##### <font color=blue> **[문제] df DataFrame에서 'Churn' 컬럼을 y로 저장하세요.** </font>"
   ]
  },
  {
   "cell_type": "code",
   "execution_count": 18,
   "metadata": {
    "executionInfo": {
     "elapsed": 30,
     "status": "ok",
     "timestamp": 1678957092173,
     "user": {
      "displayName": "yunwoo oh",
      "userId": "01035531558844683999"
     },
     "user_tz": -540
    },
    "id": "VHOezJtl0FUM"
   },
   "outputs": [],
   "source": [
    "# DataFrame 'Churn' 컬럼 사용\n",
    "# DataFrame에서 values만 y에 저장\n",
    "\n",
    "\n",
    "\n",
    "y = df1['Churn'].values"
   ]
  },
  {
   "cell_type": "code",
   "execution_count": 19,
   "metadata": {
    "colab": {
     "base_uri": "https://localhost:8080/"
    },
    "executionInfo": {
     "elapsed": 30,
     "status": "ok",
     "timestamp": 1678957092173,
     "user": {
      "displayName": "yunwoo oh",
      "userId": "01035531558844683999"
     },
     "user_tz": -540
    },
    "id": "YjmW-mzK0FUM",
    "outputId": "9d49cc24-b77e-4dd1-9fa6-58f74ff923ce"
   },
   "outputs": [
    {
     "data": {
      "text/plain": [
       "((7027, 39), (7027,))"
      ]
     },
     "execution_count": 19,
     "metadata": {},
     "output_type": "execute_result"
    }
   ],
   "source": [
    "X.shape, y.shape"
   ]
  },
  {
   "cell_type": "markdown",
   "metadata": {
    "id": "rfmrbAUZ0FUN"
   },
   "source": [
    "#### Train , Test dataset 나누기"
   ]
  },
  {
   "cell_type": "code",
   "execution_count": 21,
   "metadata": {
    "executionInfo": {
     "elapsed": 2735,
     "status": "ok",
     "timestamp": 1678957094882,
     "user": {
      "displayName": "yunwoo oh",
      "userId": "01035531558844683999"
     },
     "user_tz": -540
    },
    "id": "IzvqcVmx0FUN"
   },
   "outputs": [],
   "source": [
    "from sklearn.model_selection import train_test_split"
   ]
  },
  {
   "cell_type": "markdown",
   "metadata": {
    "id": "5-pMRPi50FUN"
   },
   "source": [
    "##### <font color=blue> **[문제] Train dataset, Test dataset 나누세요.** </font>"
   ]
  },
  {
   "cell_type": "code",
   "execution_count": 22,
   "metadata": {
    "executionInfo": {
     "elapsed": 17,
     "status": "ok",
     "timestamp": 1678957094883,
     "user": {
      "displayName": "yunwoo oh",
      "userId": "01035531558844683999"
     },
     "user_tz": -540
    },
    "id": "J9Tpju4m0FUN"
   },
   "outputs": [],
   "source": [
    "# Train dataset, Test dataset 나누기 : train_test_split 함수 사용\n",
    "# 입력 : X, y \n",
    "# Train : Test 비율 = 7: 3  --> test_size=0.3\n",
    "# y Class 비율에 맞게 나누기 : stratify=y\n",
    "# 여러번 수행해도 같은 결과 나오게 고정하기 : random_state=42 \n",
    "# 결과 : X_train, X_test, y_train, y_test\n",
    "\n",
    "\n",
    "X_train, X_test, y_train, y_test = train_test_split(X, y, \n",
    "                                                    test_size=0.3, \n",
    "                                                    stratify=y,\n",
    "                                                    random_state=42)"
   ]
  },
  {
   "cell_type": "code",
   "execution_count": 23,
   "metadata": {
    "colab": {
     "base_uri": "https://localhost:8080/"
    },
    "executionInfo": {
     "elapsed": 17,
     "status": "ok",
     "timestamp": 1678957094884,
     "user": {
      "displayName": "yunwoo oh",
      "userId": "01035531558844683999"
     },
     "user_tz": -540
    },
    "id": "8ylQ-3700FUO",
    "outputId": "7dd10d22-d480-4058-8d2a-3588576dbe77"
   },
   "outputs": [
    {
     "data": {
      "text/plain": [
       "(4918, 39)"
      ]
     },
     "execution_count": 23,
     "metadata": {},
     "output_type": "execute_result"
    }
   ],
   "source": [
    "X_train.shape"
   ]
  },
  {
   "cell_type": "code",
   "execution_count": 24,
   "metadata": {
    "colab": {
     "base_uri": "https://localhost:8080/"
    },
    "executionInfo": {
     "elapsed": 16,
     "status": "ok",
     "timestamp": 1678957094884,
     "user": {
      "displayName": "yunwoo oh",
      "userId": "01035531558844683999"
     },
     "user_tz": -540
    },
    "id": "rg0_4PEk0FUO",
    "outputId": "f960496f-ffa1-4f72-da01-d3976603689a"
   },
   "outputs": [
    {
     "data": {
      "text/plain": [
       "(4918,)"
      ]
     },
     "execution_count": 24,
     "metadata": {},
     "output_type": "execute_result"
    }
   ],
   "source": [
    "y_train.shape"
   ]
  },
  {
   "cell_type": "markdown",
   "metadata": {
    "id": "6dcPNr_E0FUO"
   },
   "source": [
    "## ⑥ 데이터 정규화/스케일링(Normalizing/Scaling)"
   ]
  },
  {
   "cell_type": "code",
   "execution_count": 25,
   "metadata": {
    "colab": {
     "base_uri": "https://localhost:8080/",
     "height": 334
    },
    "executionInfo": {
     "elapsed": 12,
     "status": "ok",
     "timestamp": 1678957094884,
     "user": {
      "displayName": "yunwoo oh",
      "userId": "01035531558844683999"
     },
     "user_tz": -540
    },
    "id": "mHLW-CRf0FUP",
    "outputId": "3a9cf027-c519-40a4-830b-65e66c456853"
   },
   "outputs": [
    {
     "data": {
      "text/html": [
       "<div>\n",
       "<style scoped>\n",
       "    .dataframe tbody tr th:only-of-type {\n",
       "        vertical-align: middle;\n",
       "    }\n",
       "\n",
       "    .dataframe tbody tr th {\n",
       "        vertical-align: top;\n",
       "    }\n",
       "\n",
       "    .dataframe thead th {\n",
       "        text-align: right;\n",
       "    }\n",
       "</style>\n",
       "<table border=\"1\" class=\"dataframe\">\n",
       "  <thead>\n",
       "    <tr style=\"text-align: right;\">\n",
       "      <th></th>\n",
       "      <th>tenure</th>\n",
       "      <th>MonthlyCharges</th>\n",
       "      <th>TotalCharges</th>\n",
       "      <th>Churn</th>\n",
       "      <th>gender_Female</th>\n",
       "      <th>gender_Male</th>\n",
       "      <th>Partner_No</th>\n",
       "      <th>Partner_Yes</th>\n",
       "      <th>Dependents_No</th>\n",
       "      <th>Dependents_Yes</th>\n",
       "      <th>...</th>\n",
       "      <th>StreamingMovies_Yes</th>\n",
       "      <th>Contract_Month-to-month</th>\n",
       "      <th>Contract_One year</th>\n",
       "      <th>Contract_Two year</th>\n",
       "      <th>PaperlessBilling_No</th>\n",
       "      <th>PaperlessBilling_Yes</th>\n",
       "      <th>PaymentMethod_Bank transfer (automatic)</th>\n",
       "      <th>PaymentMethod_Credit card (automatic)</th>\n",
       "      <th>PaymentMethod_Electronic check</th>\n",
       "      <th>PaymentMethod_Mailed check</th>\n",
       "    </tr>\n",
       "  </thead>\n",
       "  <tbody>\n",
       "    <tr>\n",
       "      <th>7022</th>\n",
       "      <td>72</td>\n",
       "      <td>21.15</td>\n",
       "      <td>1419.40</td>\n",
       "      <td>0</td>\n",
       "      <td>1</td>\n",
       "      <td>0</td>\n",
       "      <td>1</td>\n",
       "      <td>0</td>\n",
       "      <td>1</td>\n",
       "      <td>0</td>\n",
       "      <td>...</td>\n",
       "      <td>0</td>\n",
       "      <td>0</td>\n",
       "      <td>0</td>\n",
       "      <td>1</td>\n",
       "      <td>0</td>\n",
       "      <td>1</td>\n",
       "      <td>1</td>\n",
       "      <td>0</td>\n",
       "      <td>0</td>\n",
       "      <td>0</td>\n",
       "    </tr>\n",
       "    <tr>\n",
       "      <th>7023</th>\n",
       "      <td>24</td>\n",
       "      <td>84.80</td>\n",
       "      <td>1990.50</td>\n",
       "      <td>0</td>\n",
       "      <td>0</td>\n",
       "      <td>1</td>\n",
       "      <td>0</td>\n",
       "      <td>1</td>\n",
       "      <td>0</td>\n",
       "      <td>1</td>\n",
       "      <td>...</td>\n",
       "      <td>1</td>\n",
       "      <td>0</td>\n",
       "      <td>1</td>\n",
       "      <td>0</td>\n",
       "      <td>0</td>\n",
       "      <td>1</td>\n",
       "      <td>0</td>\n",
       "      <td>0</td>\n",
       "      <td>0</td>\n",
       "      <td>1</td>\n",
       "    </tr>\n",
       "    <tr>\n",
       "      <th>7024</th>\n",
       "      <td>72</td>\n",
       "      <td>103.20</td>\n",
       "      <td>7362.90</td>\n",
       "      <td>0</td>\n",
       "      <td>1</td>\n",
       "      <td>0</td>\n",
       "      <td>0</td>\n",
       "      <td>1</td>\n",
       "      <td>0</td>\n",
       "      <td>1</td>\n",
       "      <td>...</td>\n",
       "      <td>1</td>\n",
       "      <td>0</td>\n",
       "      <td>1</td>\n",
       "      <td>0</td>\n",
       "      <td>0</td>\n",
       "      <td>1</td>\n",
       "      <td>0</td>\n",
       "      <td>1</td>\n",
       "      <td>0</td>\n",
       "      <td>0</td>\n",
       "    </tr>\n",
       "    <tr>\n",
       "      <th>7025</th>\n",
       "      <td>11</td>\n",
       "      <td>29.60</td>\n",
       "      <td>346.45</td>\n",
       "      <td>0</td>\n",
       "      <td>1</td>\n",
       "      <td>0</td>\n",
       "      <td>0</td>\n",
       "      <td>1</td>\n",
       "      <td>0</td>\n",
       "      <td>1</td>\n",
       "      <td>...</td>\n",
       "      <td>0</td>\n",
       "      <td>1</td>\n",
       "      <td>0</td>\n",
       "      <td>0</td>\n",
       "      <td>0</td>\n",
       "      <td>1</td>\n",
       "      <td>0</td>\n",
       "      <td>0</td>\n",
       "      <td>1</td>\n",
       "      <td>0</td>\n",
       "    </tr>\n",
       "    <tr>\n",
       "      <th>7026</th>\n",
       "      <td>4</td>\n",
       "      <td>74.40</td>\n",
       "      <td>306.60</td>\n",
       "      <td>1</td>\n",
       "      <td>0</td>\n",
       "      <td>1</td>\n",
       "      <td>0</td>\n",
       "      <td>1</td>\n",
       "      <td>1</td>\n",
       "      <td>0</td>\n",
       "      <td>...</td>\n",
       "      <td>0</td>\n",
       "      <td>1</td>\n",
       "      <td>0</td>\n",
       "      <td>0</td>\n",
       "      <td>0</td>\n",
       "      <td>1</td>\n",
       "      <td>0</td>\n",
       "      <td>0</td>\n",
       "      <td>0</td>\n",
       "      <td>1</td>\n",
       "    </tr>\n",
       "  </tbody>\n",
       "</table>\n",
       "<p>5 rows × 40 columns</p>\n",
       "</div>"
      ],
      "text/plain": [
       "      tenure  MonthlyCharges  TotalCharges  Churn  gender_Female  gender_Male  \\\n",
       "7022      72           21.15       1419.40      0              1            0   \n",
       "7023      24           84.80       1990.50      0              0            1   \n",
       "7024      72          103.20       7362.90      0              1            0   \n",
       "7025      11           29.60        346.45      0              1            0   \n",
       "7026       4           74.40        306.60      1              0            1   \n",
       "\n",
       "      Partner_No  Partner_Yes  Dependents_No  Dependents_Yes  ...  \\\n",
       "7022           1            0              1               0  ...   \n",
       "7023           0            1              0               1  ...   \n",
       "7024           0            1              0               1  ...   \n",
       "7025           0            1              0               1  ...   \n",
       "7026           0            1              1               0  ...   \n",
       "\n",
       "      StreamingMovies_Yes  Contract_Month-to-month  Contract_One year  \\\n",
       "7022                    0                        0                  0   \n",
       "7023                    1                        0                  1   \n",
       "7024                    1                        0                  1   \n",
       "7025                    0                        1                  0   \n",
       "7026                    0                        1                  0   \n",
       "\n",
       "      Contract_Two year  PaperlessBilling_No  PaperlessBilling_Yes  \\\n",
       "7022                  1                    0                     1   \n",
       "7023                  0                    0                     1   \n",
       "7024                  0                    0                     1   \n",
       "7025                  0                    0                     1   \n",
       "7026                  0                    0                     1   \n",
       "\n",
       "      PaymentMethod_Bank transfer (automatic)  \\\n",
       "7022                                        1   \n",
       "7023                                        0   \n",
       "7024                                        0   \n",
       "7025                                        0   \n",
       "7026                                        0   \n",
       "\n",
       "      PaymentMethod_Credit card (automatic)  PaymentMethod_Electronic check  \\\n",
       "7022                                      0                               0   \n",
       "7023                                      0                               0   \n",
       "7024                                      1                               0   \n",
       "7025                                      0                               1   \n",
       "7026                                      0                               0   \n",
       "\n",
       "      PaymentMethod_Mailed check  \n",
       "7022                           0  \n",
       "7023                           1  \n",
       "7024                           0  \n",
       "7025                           0  \n",
       "7026                           1  \n",
       "\n",
       "[5 rows x 40 columns]"
      ]
     },
     "execution_count": 25,
     "metadata": {},
     "output_type": "execute_result"
    }
   ],
   "source": [
    "# 숫자 분포 이루어진 컬럼 확인\n",
    "df1.tail()"
   ]
  },
  {
   "cell_type": "code",
   "execution_count": 26,
   "metadata": {
    "executionInfo": {
     "elapsed": 11,
     "status": "ok",
     "timestamp": 1678957094885,
     "user": {
      "displayName": "yunwoo oh",
      "userId": "01035531558844683999"
     },
     "user_tz": -540
    },
    "id": "Q-orGOfi0FUP"
   },
   "outputs": [],
   "source": [
    "from sklearn.preprocessing import MinMaxScaler"
   ]
  },
  {
   "cell_type": "markdown",
   "metadata": {
    "id": "YYL7jH_z0FUP"
   },
   "source": [
    "##### <font color=blue> **[문제] MinMaxScaler 함수를 'scaler'로 정의 하세요.** </font>"
   ]
  },
  {
   "cell_type": "code",
   "execution_count": 27,
   "metadata": {
    "executionInfo": {
     "elapsed": 11,
     "status": "ok",
     "timestamp": 1678957094885,
     "user": {
      "displayName": "yunwoo oh",
      "userId": "01035531558844683999"
     },
     "user_tz": -540
    },
    "id": "ml2_SprW0FUQ"
   },
   "outputs": [],
   "source": [
    "# 사이키런의 MinMaxScaler() 함수 활용\n",
    "# 정의할 결과를 'scaler'로 매핑\n",
    "\n",
    "\n",
    "\n",
    "scaler = MinMaxScaler()"
   ]
  },
  {
   "cell_type": "code",
   "execution_count": 28,
   "metadata": {
    "executionInfo": {
     "elapsed": 11,
     "status": "ok",
     "timestamp": 1678957094886,
     "user": {
      "displayName": "yunwoo oh",
      "userId": "01035531558844683999"
     },
     "user_tz": -540
    },
    "id": "fPZhJv7J0FUQ"
   },
   "outputs": [],
   "source": [
    "X_train = scaler.fit_transform(X_train)\n",
    "X_test = scaler.transform(X_test)"
   ]
  },
  {
   "cell_type": "code",
   "execution_count": 29,
   "metadata": {
    "colab": {
     "base_uri": "https://localhost:8080/"
    },
    "executionInfo": {
     "elapsed": 1072,
     "status": "ok",
     "timestamp": 1678957095947,
     "user": {
      "displayName": "yunwoo oh",
      "userId": "01035531558844683999"
     },
     "user_tz": -540
    },
    "id": "tiM5HomM0FUQ",
    "outputId": "90158601-0e13-4b19-b941-0b4e9e5dfbde"
   },
   "outputs": [
    {
     "data": {
      "text/plain": [
       "(array([[0.65277778, 0.56851021, 0.40877722, 1.        , 0.        ,\n",
       "         1.        , 0.        , 1.        , 0.        , 1.        ,\n",
       "         0.        , 0.        , 0.        , 1.        , 0.        ,\n",
       "         0.        , 0.        , 1.        , 1.        , 0.        ,\n",
       "         0.        , 1.        , 0.        , 0.        , 1.        ,\n",
       "         0.        , 0.        , 1.        , 0.        , 0.        ,\n",
       "         1.        , 0.        , 0.        , 1.        , 0.        ,\n",
       "         0.        , 1.        , 0.        , 0.        ],\n",
       "        [0.27777778, 0.00498256, 0.04008671, 1.        , 0.        ,\n",
       "         1.        , 0.        , 1.        , 0.        , 1.        ,\n",
       "         0.        , 0.        , 0.        , 0.        , 1.        ,\n",
       "         0.        , 1.        , 0.        , 0.        , 1.        ,\n",
       "         0.        , 0.        , 1.        , 0.        , 0.        ,\n",
       "         1.        , 0.        , 0.        , 1.        , 0.        ,\n",
       "         1.        , 0.        , 0.        , 0.        , 1.        ,\n",
       "         0.        , 1.        , 0.        , 0.        ]]),\n",
       " array([0, 0], dtype=int64))"
      ]
     },
     "execution_count": 29,
     "metadata": {},
     "output_type": "execute_result"
    }
   ],
   "source": [
    "X_train[:2], y_train[:2]"
   ]
  },
  {
   "cell_type": "markdown",
   "metadata": {
    "id": "v5XRNq100FUQ"
   },
   "source": [
    "## ⑦ 모델 개발"
   ]
  },
  {
   "cell_type": "markdown",
   "metadata": {
    "id": "Yt9pqvyOGW0N"
   },
   "source": [
    "#### (참고) 모델별 바차트 그려주고 성능 확인을 위한 함수"
   ]
  },
  {
   "cell_type": "code",
   "execution_count": 30,
   "metadata": {
    "executionInfo": {
     "elapsed": 7,
     "status": "ok",
     "timestamp": 1678957095947,
     "user": {
      "displayName": "yunwoo oh",
      "userId": "01035531558844683999"
     },
     "user_tz": -540
    },
    "id": "gwA1iqfDGWkw"
   },
   "outputs": [],
   "source": [
    "# 모델별로 Recall 점수 저장\n",
    "# 모델 Recall 점수 순서대로 바차트를 그려 모델별로 성능 확인 가능\n",
    "\n",
    "from sklearn.metrics import accuracy_score\n",
    "\n",
    "my_predictions = {}\n",
    "\n",
    "colors = ['r', 'c', 'm', 'y', 'k', 'khaki', 'teal', 'orchid', 'sandybrown',\n",
    "          'greenyellow', 'dodgerblue', 'deepskyblue', 'rosybrown', 'firebrick',\n",
    "          'deeppink', 'crimson', 'salmon', 'darkred', 'olivedrab', 'olive', \n",
    "          'forestgreen', 'royalblue', 'indigo', 'navy', 'mediumpurple', 'chocolate',\n",
    "          'gold', 'darkorange', 'seagreen', 'turquoise', 'steelblue', 'slategray', \n",
    "          'peru', 'midnightblue', 'slateblue', 'dimgray', 'cadetblue', 'tomato'\n",
    "         ]\n",
    "\n",
    "# 모델명, 예측값, 실제값을 주면 위의 plot_predictions 함수 호출하여 Scatter 그래프 그리며\n",
    "# 모델별 MSE값을 Bar chart로 그려줌\n",
    "def recall_eval(name_, pred, actual):\n",
    "    global predictions\n",
    "    global colors\n",
    "\n",
    "    plt.figure(figsize=(12, 9))\n",
    "\n",
    "    #acc = accuracy_score(actual, pred)\n",
    "    acc = recall_score(actual, pred)\n",
    "    my_predictions[name_] = acc * 100\n",
    "\n",
    "    y_value = sorted(my_predictions.items(), key=lambda x: x[1], reverse=True)\n",
    "    \n",
    "    df = pd.DataFrame(y_value, columns=['model', 'recall'])\n",
    "    print(df)\n",
    "\n",
    "    length = len(df)\n",
    "    \n",
    "    plt.figure(figsize=(10, length))\n",
    "    ax = plt.subplot()\n",
    "    ax.set_yticks(np.arange(len(df)))\n",
    "    ax.set_yticklabels(df['model'], fontsize=15)\n",
    "    bars = ax.barh(np.arange(len(df)), df['recall'])\n",
    "    \n",
    "    for i, v in enumerate(df['recall']):\n",
    "        idx = np.random.choice(len(colors))\n",
    "        bars[i].set_color(colors[idx])\n",
    "        ax.text(v + 2, i, str(round(v, 3)), color='k', fontsize=15, fontweight='bold')\n",
    "        \n",
    "    plt.title('recall', fontsize=18)\n",
    "    plt.xlim(0, 100)\n",
    "    \n",
    "    plt.show()"
   ]
  },
  {
   "cell_type": "markdown",
   "metadata": {
    "id": "aWIdyWeg0FUR"
   },
   "source": [
    "###  \n",
    "### 1) 로지스틱 회귀 (LogisticRegression, 분류)"
   ]
  },
  {
   "cell_type": "code",
   "execution_count": 27,
   "metadata": {
    "executionInfo": {
     "elapsed": 7,
     "status": "ok",
     "timestamp": 1678957095948,
     "user": {
      "displayName": "yunwoo oh",
      "userId": "01035531558844683999"
     },
     "user_tz": -540
    },
    "id": "L3x-qaHh0FUR"
   },
   "outputs": [],
   "source": [
    "from sklearn.linear_model import LogisticRegression\n",
    "from sklearn.metrics import confusion_matrix \n",
    "from sklearn.metrics import accuracy_score, precision_score, recall_score, f1_score\n",
    "from sklearn.metrics import classification_report"
   ]
  },
  {
   "cell_type": "markdown",
   "metadata": {
    "id": "2shWVpg00FUS"
   },
   "source": [
    "##### <font color=blue> **[문제] LogisticRegression 모델 정의하고 학습시키세요.** </font>"
   ]
  },
  {
   "cell_type": "code",
   "execution_count": 28,
   "metadata": {
    "colab": {
     "base_uri": "https://localhost:8080/",
     "height": 74
    },
    "executionInfo": {
     "elapsed": 555,
     "status": "ok",
     "timestamp": 1678957096496,
     "user": {
      "displayName": "yunwoo oh",
      "userId": "01035531558844683999"
     },
     "user_tz": -540
    },
    "id": "qz_VjrEf0FUS",
    "outputId": "e54c9f4d-82ae-42a0-90b0-601f1fc7e692"
   },
   "outputs": [
    {
     "data": {
      "text/html": [
       "<style>#sk-container-id-1 {color: black;background-color: white;}#sk-container-id-1 pre{padding: 0;}#sk-container-id-1 div.sk-toggleable {background-color: white;}#sk-container-id-1 label.sk-toggleable__label {cursor: pointer;display: block;width: 100%;margin-bottom: 0;padding: 0.3em;box-sizing: border-box;text-align: center;}#sk-container-id-1 label.sk-toggleable__label-arrow:before {content: \"▸\";float: left;margin-right: 0.25em;color: #696969;}#sk-container-id-1 label.sk-toggleable__label-arrow:hover:before {color: black;}#sk-container-id-1 div.sk-estimator:hover label.sk-toggleable__label-arrow:before {color: black;}#sk-container-id-1 div.sk-toggleable__content {max-height: 0;max-width: 0;overflow: hidden;text-align: left;background-color: #f0f8ff;}#sk-container-id-1 div.sk-toggleable__content pre {margin: 0.2em;color: black;border-radius: 0.25em;background-color: #f0f8ff;}#sk-container-id-1 input.sk-toggleable__control:checked~div.sk-toggleable__content {max-height: 200px;max-width: 100%;overflow: auto;}#sk-container-id-1 input.sk-toggleable__control:checked~label.sk-toggleable__label-arrow:before {content: \"▾\";}#sk-container-id-1 div.sk-estimator input.sk-toggleable__control:checked~label.sk-toggleable__label {background-color: #d4ebff;}#sk-container-id-1 div.sk-label input.sk-toggleable__control:checked~label.sk-toggleable__label {background-color: #d4ebff;}#sk-container-id-1 input.sk-hidden--visually {border: 0;clip: rect(1px 1px 1px 1px);clip: rect(1px, 1px, 1px, 1px);height: 1px;margin: -1px;overflow: hidden;padding: 0;position: absolute;width: 1px;}#sk-container-id-1 div.sk-estimator {font-family: monospace;background-color: #f0f8ff;border: 1px dotted black;border-radius: 0.25em;box-sizing: border-box;margin-bottom: 0.5em;}#sk-container-id-1 div.sk-estimator:hover {background-color: #d4ebff;}#sk-container-id-1 div.sk-parallel-item::after {content: \"\";width: 100%;border-bottom: 1px solid gray;flex-grow: 1;}#sk-container-id-1 div.sk-label:hover label.sk-toggleable__label {background-color: #d4ebff;}#sk-container-id-1 div.sk-serial::before {content: \"\";position: absolute;border-left: 1px solid gray;box-sizing: border-box;top: 0;bottom: 0;left: 50%;z-index: 0;}#sk-container-id-1 div.sk-serial {display: flex;flex-direction: column;align-items: center;background-color: white;padding-right: 0.2em;padding-left: 0.2em;position: relative;}#sk-container-id-1 div.sk-item {position: relative;z-index: 1;}#sk-container-id-1 div.sk-parallel {display: flex;align-items: stretch;justify-content: center;background-color: white;position: relative;}#sk-container-id-1 div.sk-item::before, #sk-container-id-1 div.sk-parallel-item::before {content: \"\";position: absolute;border-left: 1px solid gray;box-sizing: border-box;top: 0;bottom: 0;left: 50%;z-index: -1;}#sk-container-id-1 div.sk-parallel-item {display: flex;flex-direction: column;z-index: 1;position: relative;background-color: white;}#sk-container-id-1 div.sk-parallel-item:first-child::after {align-self: flex-end;width: 50%;}#sk-container-id-1 div.sk-parallel-item:last-child::after {align-self: flex-start;width: 50%;}#sk-container-id-1 div.sk-parallel-item:only-child::after {width: 0;}#sk-container-id-1 div.sk-dashed-wrapped {border: 1px dashed gray;margin: 0 0.4em 0.5em 0.4em;box-sizing: border-box;padding-bottom: 0.4em;background-color: white;}#sk-container-id-1 div.sk-label label {font-family: monospace;font-weight: bold;display: inline-block;line-height: 1.2em;}#sk-container-id-1 div.sk-label-container {text-align: center;}#sk-container-id-1 div.sk-container {/* jupyter's `normalize.less` sets `[hidden] { display: none; }` but bootstrap.min.css set `[hidden] { display: none !important; }` so we also need the `!important` here to be able to override the default hidden behavior on the sphinx rendered scikit-learn.org. See: https://github.com/scikit-learn/scikit-learn/issues/21755 */display: inline-block !important;position: relative;}#sk-container-id-1 div.sk-text-repr-fallback {display: none;}</style><div id=\"sk-container-id-1\" class=\"sk-top-container\"><div class=\"sk-text-repr-fallback\"><pre>LogisticRegression()</pre><b>In a Jupyter environment, please rerun this cell to show the HTML representation or trust the notebook. <br />On GitHub, the HTML representation is unable to render, please try loading this page with nbviewer.org.</b></div><div class=\"sk-container\" hidden><div class=\"sk-item\"><div class=\"sk-estimator sk-toggleable\"><input class=\"sk-toggleable__control sk-hidden--visually\" id=\"sk-estimator-id-1\" type=\"checkbox\" checked><label for=\"sk-estimator-id-1\" class=\"sk-toggleable__label sk-toggleable__label-arrow\">LogisticRegression</label><div class=\"sk-toggleable__content\"><pre>LogisticRegression()</pre></div></div></div></div></div>"
      ],
      "text/plain": [
       "LogisticRegression()"
      ]
     },
     "execution_count": 28,
     "metadata": {},
     "output_type": "execute_result"
    }
   ],
   "source": [
    "# LogisticRegression 함수 사용 및 정의 : lg 저장\n",
    "# 정의된 LogisticRegression 학습 fit() : 입력값으로 X_train, y_train 준다.\n",
    "\n",
    "\n",
    "lg = LogisticRegression()\n",
    "lg.fit(X_train, y_train)"
   ]
  },
  {
   "cell_type": "code",
   "execution_count": 29,
   "metadata": {
    "colab": {
     "base_uri": "https://localhost:8080/"
    },
    "executionInfo": {
     "elapsed": 513,
     "status": "ok",
     "timestamp": 1678957096994,
     "user": {
      "displayName": "yunwoo oh",
      "userId": "01035531558844683999"
     },
     "user_tz": -540
    },
    "id": "mW7KXzVL0FUS",
    "outputId": "53b8b1fc-6acd-42bf-a2f9-27cc8227e320"
   },
   "outputs": [
    {
     "data": {
      "text/plain": [
       "0.8060692271218587"
      ]
     },
     "execution_count": 29,
     "metadata": {},
     "output_type": "execute_result"
    }
   ],
   "source": [
    "# 분류기 성능 평가(score)\n",
    "lg.score(X_test, y_test)"
   ]
  },
  {
   "cell_type": "markdown",
   "metadata": {
    "id": "WjYV0iRS0FUS"
   },
   "source": [
    "- 분류기 성능 평가 지표"
   ]
  },
  {
   "cell_type": "code",
   "execution_count": 30,
   "metadata": {
    "executionInfo": {
     "elapsed": 24,
     "status": "ok",
     "timestamp": 1678957096995,
     "user": {
      "displayName": "yunwoo oh",
      "userId": "01035531558844683999"
     },
     "user_tz": -540
    },
    "id": "Cu1wy0Wt0FUS"
   },
   "outputs": [],
   "source": [
    "lg_pred = lg.predict(X_test)"
   ]
  },
  {
   "cell_type": "code",
   "execution_count": 31,
   "metadata": {
    "colab": {
     "base_uri": "https://localhost:8080/"
    },
    "executionInfo": {
     "elapsed": 24,
     "status": "ok",
     "timestamp": 1678957096995,
     "user": {
      "displayName": "yunwoo oh",
      "userId": "01035531558844683999"
     },
     "user_tz": -540
    },
    "id": "2DaZFSRr0FUT",
    "outputId": "6c62ea8f-7979-4d29-d2b9-abbd8422f716"
   },
   "outputs": [
    {
     "data": {
      "text/plain": [
       "array([[1386,  163],\n",
       "       [ 246,  314]])"
      ]
     },
     "execution_count": 31,
     "metadata": {},
     "output_type": "execute_result"
    }
   ],
   "source": [
    "# 오차행렬\n",
    "# TN  FP\n",
    "# FN  TP\n",
    "\n",
    "confusion_matrix(y_test, lg_pred) "
   ]
  },
  {
   "cell_type": "code",
   "execution_count": 32,
   "metadata": {
    "colab": {
     "base_uri": "https://localhost:8080/"
    },
    "executionInfo": {
     "elapsed": 21,
     "status": "ok",
     "timestamp": 1678957096996,
     "user": {
      "displayName": "yunwoo oh",
      "userId": "01035531558844683999"
     },
     "user_tz": -540
    },
    "id": "GYM_m9JA0FUT",
    "outputId": "5176eb22-2dfa-4ab5-a6a5-169a6035362a"
   },
   "outputs": [
    {
     "data": {
      "text/plain": [
       "0.8060692271218587"
      ]
     },
     "execution_count": 32,
     "metadata": {},
     "output_type": "execute_result"
    }
   ],
   "source": [
    "# 정확도\n",
    "accuracy_score(y_test, lg_pred)  "
   ]
  },
  {
   "cell_type": "code",
   "execution_count": 33,
   "metadata": {
    "colab": {
     "base_uri": "https://localhost:8080/"
    },
    "executionInfo": {
     "elapsed": 17,
     "status": "ok",
     "timestamp": 1678957096996,
     "user": {
      "displayName": "yunwoo oh",
      "userId": "01035531558844683999"
     },
     "user_tz": -540
    },
    "id": "mNorqDIl0FUT",
    "outputId": "e8667722-b081-4e68-dd1e-511271e7d514"
   },
   "outputs": [
    {
     "data": {
      "text/plain": [
       "0.6582809224318659"
      ]
     },
     "execution_count": 33,
     "metadata": {},
     "output_type": "execute_result"
    }
   ],
   "source": [
    "# 정밀도\n",
    "precision_score(y_test, lg_pred) "
   ]
  },
  {
   "cell_type": "code",
   "execution_count": 34,
   "metadata": {
    "colab": {
     "base_uri": "https://localhost:8080/"
    },
    "executionInfo": {
     "elapsed": 15,
     "status": "ok",
     "timestamp": 1678957096996,
     "user": {
      "displayName": "yunwoo oh",
      "userId": "01035531558844683999"
     },
     "user_tz": -540
    },
    "id": "XQ-B-7U40FUT",
    "outputId": "021b5328-075a-4ac9-a07c-b66ea4ab8b2c"
   },
   "outputs": [
    {
     "data": {
      "text/plain": [
       "0.5607142857142857"
      ]
     },
     "execution_count": 34,
     "metadata": {},
     "output_type": "execute_result"
    }
   ],
   "source": [
    "# 재현율 : 낮다. \n",
    "recall_score(y_test, lg_pred)  "
   ]
  },
  {
   "cell_type": "code",
   "execution_count": 35,
   "metadata": {
    "colab": {
     "base_uri": "https://localhost:8080/"
    },
    "executionInfo": {
     "elapsed": 13,
     "status": "ok",
     "timestamp": 1678957096997,
     "user": {
      "displayName": "yunwoo oh",
      "userId": "01035531558844683999"
     },
     "user_tz": -540
    },
    "id": "KLMt1bRZ0FUU",
    "outputId": "4e0fab41-18b8-4926-f172-4b0596252d4e"
   },
   "outputs": [
    {
     "data": {
      "text/plain": [
       "0.6055930568948892"
      ]
     },
     "execution_count": 35,
     "metadata": {},
     "output_type": "execute_result"
    }
   ],
   "source": [
    "# 정밀도 + 재현율\n",
    "f1_score(y_test, lg_pred) "
   ]
  },
  {
   "cell_type": "code",
   "execution_count": 36,
   "metadata": {
    "colab": {
     "base_uri": "https://localhost:8080/"
    },
    "executionInfo": {
     "elapsed": 10,
     "status": "ok",
     "timestamp": 1678957096997,
     "user": {
      "displayName": "yunwoo oh",
      "userId": "01035531558844683999"
     },
     "user_tz": -540
    },
    "id": "Nw8sNOr90FUU",
    "outputId": "9c84654c-d10d-4162-fa61-bf8d7d747988"
   },
   "outputs": [
    {
     "name": "stdout",
     "output_type": "stream",
     "text": [
      "              precision    recall  f1-score   support\n",
      "\n",
      "           0       0.85      0.89      0.87      1549\n",
      "           1       0.66      0.56      0.61       560\n",
      "\n",
      "    accuracy                           0.81      2109\n",
      "   macro avg       0.75      0.73      0.74      2109\n",
      "weighted avg       0.80      0.81      0.80      2109\n",
      "\n"
     ]
    }
   ],
   "source": [
    "print(classification_report(y_test, lg_pred))"
   ]
  },
  {
   "cell_type": "code",
   "execution_count": 37,
   "metadata": {
    "colab": {
     "base_uri": "https://localhost:8080/",
     "height": 177
    },
    "executionInfo": {
     "elapsed": 1344,
     "status": "ok",
     "timestamp": 1678957098333,
     "user": {
      "displayName": "yunwoo oh",
      "userId": "01035531558844683999"
     },
     "user_tz": -540
    },
    "id": "gV4EhffS0FUU",
    "outputId": "7d2a3476-a398-4fda-e164-a5b9869c9e2e"
   },
   "outputs": [
    {
     "name": "stdout",
     "output_type": "stream",
     "text": [
      "                model     recall\n",
      "0  LogisticRegression  56.071429\n"
     ]
    },
    {
     "data": {
      "text/plain": [
       "<Figure size 864x648 with 0 Axes>"
      ]
     },
     "metadata": {},
     "output_type": "display_data"
    },
    {
     "data": {
      "image/png": "[encoded data removed]",
      "text/plain": [
       "<Figure size 720x72 with 1 Axes>"
      ]
     },
     "metadata": {},
     "output_type": "display_data"
    }
   ],
   "source": [
    "recall_eval('LogisticRegression', lg_pred, y_test)"
   ]
  },
  {
   "cell_type": "markdown",
   "metadata": {
    "id": "sjZAmlXp0FUU"
   },
   "source": [
    "###   \n",
    "### 2) KNN (K-Nearest Neighbor)"
   ]
  },
  {
   "cell_type": "code",
   "execution_count": 38,
   "metadata": {
    "executionInfo": {
     "elapsed": 9,
     "status": "ok",
     "timestamp": 1678957098334,
     "user": {
      "displayName": "yunwoo oh",
      "userId": "01035531558844683999"
     },
     "user_tz": -540
    },
    "id": "dTLMf6Og0FUU"
   },
   "outputs": [],
   "source": [
    "from sklearn.neighbors import KNeighborsClassifier"
   ]
  },
  {
   "cell_type": "code",
   "execution_count": 39,
   "metadata": {
    "colab": {
     "base_uri": "https://localhost:8080/",
     "height": 74
    },
    "executionInfo": {
     "elapsed": 9,
     "status": "ok",
     "timestamp": 1678957098335,
     "user": {
      "displayName": "yunwoo oh",
      "userId": "01035531558844683999"
     },
     "user_tz": -540
    },
    "id": "JCAJy-pT0FUV",
    "outputId": "43d6a384-6503-4c7d-8882-50d9af5c71a6"
   },
   "outputs": [
    {
     "data": {
      "text/html": [
       "<style>#sk-container-id-2 {color: black;background-color: white;}#sk-container-id-2 pre{padding: 0;}#sk-container-id-2 div.sk-toggleable {background-color: white;}#sk-container-id-2 label.sk-toggleable__label {cursor: pointer;display: block;width: 100%;margin-bottom: 0;padding: 0.3em;box-sizing: border-box;text-align: center;}#sk-container-id-2 label.sk-toggleable__label-arrow:before {content: \"▸\";float: left;margin-right: 0.25em;color: #696969;}#sk-container-id-2 label.sk-toggleable__label-arrow:hover:before {color: black;}#sk-container-id-2 div.sk-estimator:hover label.sk-toggleable__label-arrow:before {color: black;}#sk-container-id-2 div.sk-toggleable__content {max-height: 0;max-width: 0;overflow: hidden;text-align: left;background-color: #f0f8ff;}#sk-container-id-2 div.sk-toggleable__content pre {margin: 0.2em;color: black;border-radius: 0.25em;background-color: #f0f8ff;}#sk-container-id-2 input.sk-toggleable__control:checked~div.sk-toggleable__content {max-height: 200px;max-width: 100%;overflow: auto;}#sk-container-id-2 input.sk-toggleable__control:checked~label.sk-toggleable__label-arrow:before {content: \"▾\";}#sk-container-id-2 div.sk-estimator input.sk-toggleable__control:checked~label.sk-toggleable__label {background-color: #d4ebff;}#sk-container-id-2 div.sk-label input.sk-toggleable__control:checked~label.sk-toggleable__label {background-color: #d4ebff;}#sk-container-id-2 input.sk-hidden--visually {border: 0;clip: rect(1px 1px 1px 1px);clip: rect(1px, 1px, 1px, 1px);height: 1px;margin: -1px;overflow: hidden;padding: 0;position: absolute;width: 1px;}#sk-container-id-2 div.sk-estimator {font-family: monospace;background-color: #f0f8ff;border: 1px dotted black;border-radius: 0.25em;box-sizing: border-box;margin-bottom: 0.5em;}#sk-container-id-2 div.sk-estimator:hover {background-color: #d4ebff;}#sk-container-id-2 div.sk-parallel-item::after {content: \"\";width: 100%;border-bottom: 1px solid gray;flex-grow: 1;}#sk-container-id-2 div.sk-label:hover label.sk-toggleable__label {background-color: #d4ebff;}#sk-container-id-2 div.sk-serial::before {content: \"\";position: absolute;border-left: 1px solid gray;box-sizing: border-box;top: 0;bottom: 0;left: 50%;z-index: 0;}#sk-container-id-2 div.sk-serial {display: flex;flex-direction: column;align-items: center;background-color: white;padding-right: 0.2em;padding-left: 0.2em;position: relative;}#sk-container-id-2 div.sk-item {position: relative;z-index: 1;}#sk-container-id-2 div.sk-parallel {display: flex;align-items: stretch;justify-content: center;background-color: white;position: relative;}#sk-container-id-2 div.sk-item::before, #sk-container-id-2 div.sk-parallel-item::before {content: \"\";position: absolute;border-left: 1px solid gray;box-sizing: border-box;top: 0;bottom: 0;left: 50%;z-index: -1;}#sk-container-id-2 div.sk-parallel-item {display: flex;flex-direction: column;z-index: 1;position: relative;background-color: white;}#sk-container-id-2 div.sk-parallel-item:first-child::after {align-self: flex-end;width: 50%;}#sk-container-id-2 div.sk-parallel-item:last-child::after {align-self: flex-start;width: 50%;}#sk-container-id-2 div.sk-parallel-item:only-child::after {width: 0;}#sk-container-id-2 div.sk-dashed-wrapped {border: 1px dashed gray;margin: 0 0.4em 0.5em 0.4em;box-sizing: border-box;padding-bottom: 0.4em;background-color: white;}#sk-container-id-2 div.sk-label label {font-family: monospace;font-weight: bold;display: inline-block;line-height: 1.2em;}#sk-container-id-2 div.sk-label-container {text-align: center;}#sk-container-id-2 div.sk-container {/* jupyter's `normalize.less` sets `[hidden] { display: none; }` but bootstrap.min.css set `[hidden] { display: none !important; }` so we also need the `!important` here to be able to override the default hidden behavior on the sphinx rendered scikit-learn.org. See: https://github.com/scikit-learn/scikit-learn/issues/21755 */display: inline-block !important;position: relative;}#sk-container-id-2 div.sk-text-repr-fallback {display: none;}</style><div id=\"sk-container-id-2\" class=\"sk-top-container\"><div class=\"sk-text-repr-fallback\"><pre>KNeighborsClassifier()</pre><b>In a Jupyter environment, please rerun this cell to show the HTML representation or trust the notebook. <br />On GitHub, the HTML representation is unable to render, please try loading this page with nbviewer.org.</b></div><div class=\"sk-container\" hidden><div class=\"sk-item\"><div class=\"sk-estimator sk-toggleable\"><input class=\"sk-toggleable__control sk-hidden--visually\" id=\"sk-estimator-id-2\" type=\"checkbox\" checked><label for=\"sk-estimator-id-2\" class=\"sk-toggleable__label sk-toggleable__label-arrow\">KNeighborsClassifier</label><div class=\"sk-toggleable__content\"><pre>KNeighborsClassifier()</pre></div></div></div></div></div>"
      ],
      "text/plain": [
       "KNeighborsClassifier()"
      ]
     },
     "execution_count": 39,
     "metadata": {},
     "output_type": "execute_result"
    }
   ],
   "source": [
    "knn = KNeighborsClassifier(n_neighbors=5)\n",
    "knn.fit(X_train, y_train)"
   ]
  },
  {
   "cell_type": "code",
   "execution_count": 40,
   "metadata": {
    "executionInfo": {
     "elapsed": 1539,
     "status": "ok",
     "timestamp": 1678957099866,
     "user": {
      "displayName": "yunwoo oh",
      "userId": "01035531558844683999"
     },
     "user_tz": -540
    },
    "id": "RVPSryWO0FUV"
   },
   "outputs": [],
   "source": [
    "knn_pred = knn.predict(X_test)"
   ]
  },
  {
   "cell_type": "code",
   "execution_count": 41,
   "metadata": {
    "colab": {
     "base_uri": "https://localhost:8080/",
     "height": 251
    },
    "executionInfo": {
     "elapsed": 1034,
     "status": "ok",
     "timestamp": 1678957100896,
     "user": {
      "displayName": "yunwoo oh",
      "userId": "01035531558844683999"
     },
     "user_tz": -540
    },
    "id": "5LcFquWj0FUV",
    "outputId": "efcc8fe0-4f88-4ef4-d286-a1fa141394f8"
   },
   "outputs": [
    {
     "name": "stdout",
     "output_type": "stream",
     "text": [
      "                model     recall\n",
      "0  LogisticRegression  56.071429\n",
      "1  K-Nearest Neighbor  51.964286\n"
     ]
    },
    {
     "data": {
      "text/plain": [
       "<Figure size 864x648 with 0 Axes>"
      ]
     },
     "metadata": {},
     "output_type": "display_data"
    },
    {
     "data": {
      "image/png": "[encoded data removed]",
      "text/plain": [
       "<Figure size 720x144 with 1 Axes>"
      ]
     },
     "metadata": {},
     "output_type": "display_data"
    }
   ],
   "source": [
    "recall_eval('K-Nearest Neighbor', knn_pred, y_test)"
   ]
  },
  {
   "cell_type": "markdown",
   "metadata": {
    "id": "GkXh4Tgu0FUV"
   },
   "source": [
    "###  \n",
    "### 3) 결정트리(DecisionTree)"
   ]
  },
  {
   "cell_type": "code",
   "execution_count": 42,
   "metadata": {
    "executionInfo": {
     "elapsed": 5,
     "status": "ok",
     "timestamp": 1678957100897,
     "user": {
      "displayName": "yunwoo oh",
      "userId": "01035531558844683999"
     },
     "user_tz": -540
    },
    "id": "PEPkbbz80FUV"
   },
   "outputs": [],
   "source": [
    "from sklearn.tree import DecisionTreeClassifier"
   ]
  },
  {
   "cell_type": "code",
   "execution_count": 43,
   "metadata": {
    "colab": {
     "base_uri": "https://localhost:8080/",
     "height": 74
    },
    "executionInfo": {
     "elapsed": 1040,
     "status": "ok",
     "timestamp": 1678957101934,
     "user": {
      "displayName": "yunwoo oh",
      "userId": "01035531558844683999"
     },
     "user_tz": -540
    },
    "id": "AfIDKCCL0FUV",
    "outputId": "9d9641f4-f41f-47ef-ee4b-075438917e1f"
   },
   "outputs": [
    {
     "data": {
      "text/html": [
       "<style>#sk-container-id-3 {color: black;background-color: white;}#sk-container-id-3 pre{padding: 0;}#sk-container-id-3 div.sk-toggleable {background-color: white;}#sk-container-id-3 label.sk-toggleable__label {cursor: pointer;display: block;width: 100%;margin-bottom: 0;padding: 0.3em;box-sizing: border-box;text-align: center;}#sk-container-id-3 label.sk-toggleable__label-arrow:before {content: \"▸\";float: left;margin-right: 0.25em;color: #696969;}#sk-container-id-3 label.sk-toggleable__label-arrow:hover:before {color: black;}#sk-container-id-3 div.sk-estimator:hover label.sk-toggleable__label-arrow:before {color: black;}#sk-container-id-3 div.sk-toggleable__content {max-height: 0;max-width: 0;overflow: hidden;text-align: left;background-color: #f0f8ff;}#sk-container-id-3 div.sk-toggleable__content pre {margin: 0.2em;color: black;border-radius: 0.25em;background-color: #f0f8ff;}#sk-container-id-3 input.sk-toggleable__control:checked~div.sk-toggleable__content {max-height: 200px;max-width: 100%;overflow: auto;}#sk-container-id-3 input.sk-toggleable__control:checked~label.sk-toggleable__label-arrow:before {content: \"▾\";}#sk-container-id-3 div.sk-estimator input.sk-toggleable__control:checked~label.sk-toggleable__label {background-color: #d4ebff;}#sk-container-id-3 div.sk-label input.sk-toggleable__control:checked~label.sk-toggleable__label {background-color: #d4ebff;}#sk-container-id-3 input.sk-hidden--visually {border: 0;clip: rect(1px 1px 1px 1px);clip: rect(1px, 1px, 1px, 1px);height: 1px;margin: -1px;overflow: hidden;padding: 0;position: absolute;width: 1px;}#sk-container-id-3 div.sk-estimator {font-family: monospace;background-color: #f0f8ff;border: 1px dotted black;border-radius: 0.25em;box-sizing: border-box;margin-bottom: 0.5em;}#sk-container-id-3 div.sk-estimator:hover {background-color: #d4ebff;}#sk-container-id-3 div.sk-parallel-item::after {content: \"\";width: 100%;border-bottom: 1px solid gray;flex-grow: 1;}#sk-container-id-3 div.sk-label:hover label.sk-toggleable__label {background-color: #d4ebff;}#sk-container-id-3 div.sk-serial::before {content: \"\";position: absolute;border-left: 1px solid gray;box-sizing: border-box;top: 0;bottom: 0;left: 50%;z-index: 0;}#sk-container-id-3 div.sk-serial {display: flex;flex-direction: column;align-items: center;background-color: white;padding-right: 0.2em;padding-left: 0.2em;position: relative;}#sk-container-id-3 div.sk-item {position: relative;z-index: 1;}#sk-container-id-3 div.sk-parallel {display: flex;align-items: stretch;justify-content: center;background-color: white;position: relative;}#sk-container-id-3 div.sk-item::before, #sk-container-id-3 div.sk-parallel-item::before {content: \"\";position: absolute;border-left: 1px solid gray;box-sizing: border-box;top: 0;bottom: 0;left: 50%;z-index: -1;}#sk-container-id-3 div.sk-parallel-item {display: flex;flex-direction: column;z-index: 1;position: relative;background-color: white;}#sk-container-id-3 div.sk-parallel-item:first-child::after {align-self: flex-end;width: 50%;}#sk-container-id-3 div.sk-parallel-item:last-child::after {align-self: flex-start;width: 50%;}#sk-container-id-3 div.sk-parallel-item:only-child::after {width: 0;}#sk-container-id-3 div.sk-dashed-wrapped {border: 1px dashed gray;margin: 0 0.4em 0.5em 0.4em;box-sizing: border-box;padding-bottom: 0.4em;background-color: white;}#sk-container-id-3 div.sk-label label {font-family: monospace;font-weight: bold;display: inline-block;line-height: 1.2em;}#sk-container-id-3 div.sk-label-container {text-align: center;}#sk-container-id-3 div.sk-container {/* jupyter's `normalize.less` sets `[hidden] { display: none; }` but bootstrap.min.css set `[hidden] { display: none !important; }` so we also need the `!important` here to be able to override the default hidden behavior on the sphinx rendered scikit-learn.org. See: https://github.com/scikit-learn/scikit-learn/issues/21755 */display: inline-block !important;position: relative;}#sk-container-id-3 div.sk-text-repr-fallback {display: none;}</style><div id=\"sk-container-id-3\" class=\"sk-top-container\"><div class=\"sk-text-repr-fallback\"><pre>DecisionTreeClassifier(max_depth=10, random_state=42)</pre><b>In a Jupyter environment, please rerun this cell to show the HTML representation or trust the notebook. <br />On GitHub, the HTML representation is unable to render, please try loading this page with nbviewer.org.</b></div><div class=\"sk-container\" hidden><div class=\"sk-item\"><div class=\"sk-estimator sk-toggleable\"><input class=\"sk-toggleable__control sk-hidden--visually\" id=\"sk-estimator-id-3\" type=\"checkbox\" checked><label for=\"sk-estimator-id-3\" class=\"sk-toggleable__label sk-toggleable__label-arrow\">DecisionTreeClassifier</label><div class=\"sk-toggleable__content\"><pre>DecisionTreeClassifier(max_depth=10, random_state=42)</pre></div></div></div></div></div>"
      ],
      "text/plain": [
       "DecisionTreeClassifier(max_depth=10, random_state=42)"
      ]
     },
     "execution_count": 43,
     "metadata": {},
     "output_type": "execute_result"
    }
   ],
   "source": [
    "dt = DecisionTreeClassifier(max_depth=10, random_state=42)\n",
    "dt.fit(X_train, y_train)"
   ]
  },
  {
   "cell_type": "markdown",
   "metadata": {
    "id": "0qEMaN520FUW"
   },
   "source": [
    "##### <font color=blue> **[문제] 학습된 DecisionTreeClassifier 모델로 예측해 보기** </font>"
   ]
  },
  {
   "cell_type": "code",
   "execution_count": 44,
   "metadata": {
    "executionInfo": {
     "elapsed": 17,
     "status": "ok",
     "timestamp": 1678957101934,
     "user": {
      "displayName": "yunwoo oh",
      "userId": "01035531558844683999"
     },
     "user_tz": -540
    },
    "id": "_Csk9MqD0FUW"
   },
   "outputs": [],
   "source": [
    "# DecisionTreeClassifier 학습 모델 : dt\n",
    "# DecisionTreeClassifier 모델의 predict() 활용 : 입력값으로 X_test\n",
    "# 결과 : dt_pred 저장\n",
    "\n",
    "\n",
    "\n",
    "dt_pred = dt.predict(X_test)"
   ]
  },
  {
   "cell_type": "code",
   "execution_count": 45,
   "metadata": {
    "colab": {
     "base_uri": "https://localhost:8080/",
     "height": 323
    },
    "executionInfo": {
     "elapsed": 17,
     "status": "ok",
     "timestamp": 1678957101935,
     "user": {
      "displayName": "yunwoo oh",
      "userId": "01035531558844683999"
     },
     "user_tz": -540
    },
    "id": "qhgIeDvs0FUW",
    "outputId": "d73b88a5-e68b-4ebc-9ace-9cd8a28d13e9",
    "scrolled": true
   },
   "outputs": [
    {
     "name": "stdout",
     "output_type": "stream",
     "text": [
      "                model     recall\n",
      "0  LogisticRegression  56.071429\n",
      "1        DecisionTree  55.714286\n",
      "2  K-Nearest Neighbor  51.964286\n"
     ]
    },
    {
     "data": {
      "text/plain": [
       "<Figure size 864x648 with 0 Axes>"
      ]
     },
     "metadata": {},
     "output_type": "display_data"
    },
    {
     "data": {
      "image/png": "[encoded data removed]",
      "text/plain": [
       "<Figure size 720x216 with 1 Axes>"
      ]
     },
     "metadata": {},
     "output_type": "display_data"
    }
   ],
   "source": [
    "recall_eval('DecisionTree', dt_pred, y_test)"
   ]
  },
  {
   "cell_type": "markdown",
   "metadata": {
    "id": "5Y_f-BWX6CCA"
   },
   "source": [
    "###  \n",
    "### **앙상블 기법의 종류**\n",
    "- 배깅 (Bagging): 여러개의 DecisionTree 활용하고 샘플 중복 생성을 통해 결과 도출. RandomForest\n",
    "- 부스팅 (Boosting): 약한 학습기를 순차적으로 학습을 하되, 이전 학습에 대하여 잘못 예측된 데이터에 가중치를 부여해 오차를 보완해 나가는 방식. XGBoost, LGBM"
   ]
  },
  {
   "cell_type": "markdown",
   "metadata": {
    "id": "dtkXJlKj0FUW"
   },
   "source": [
    "![앙상블](https://teddylee777.github.io/images/2019-12-18/image-20191217144823555.png)"
   ]
  },
  {
   "cell_type": "markdown",
   "metadata": {
    "id": "A-rwJjK90FUX"
   },
   "source": [
    "###  \n",
    "### 4) 랜덤포레스트(RandomForest)\n",
    "+ Bagging 대표적인 모델로써, 훈련셋트를 무작위로 각기 다른 서브셋으로 데이터셋을 만들고\n",
    "+ 여러개의 DecisonTree로 학습하고 다수결로 결정하는 모델"
   ]
  },
  {
   "cell_type": "markdown",
   "metadata": {
    "id": "NpOEkIoCAdFd"
   },
   "source": [
    "**주요 Hyperparameter**\n",
    "- random_state: 랜덤 시드 고정 값. 고정해두고 튜닝할 것!\n",
    "- n_jobs: CPU 사용 갯수\n",
    "- max_depth: 깊어질 수 있는 최대 깊이. 과대적합 방지용\n",
    "- n_estimators: 앙상블하는 트리의 갯수\n",
    "- max_features: 최대로 사용할 feature의 갯수. 과대적합 방지용\n",
    "- min_samples_split: 트리가 분할할 때 최소 샘플의 갯수. default=2. 과대적합 방지용"
   ]
  },
  {
   "cell_type": "code",
   "execution_count": 46,
   "metadata": {
    "executionInfo": {
     "elapsed": 13,
     "status": "ok",
     "timestamp": 1678957101936,
     "user": {
      "displayName": "yunwoo oh",
      "userId": "01035531558844683999"
     },
     "user_tz": -540
    },
    "id": "LfzSa0N60FUX"
   },
   "outputs": [],
   "source": [
    "from sklearn.ensemble import RandomForestClassifier"
   ]
  },
  {
   "cell_type": "code",
   "execution_count": 47,
   "metadata": {
    "colab": {
     "base_uri": "https://localhost:8080/",
     "height": 74
    },
    "executionInfo": {
     "elapsed": 334,
     "status": "ok",
     "timestamp": 1678957102258,
     "user": {
      "displayName": "yunwoo oh",
      "userId": "01035531558844683999"
     },
     "user_tz": -540
    },
    "id": "JegAZUoX0FUX",
    "outputId": "8203a122-4a4d-4762-fb71-4ff44b4ede04"
   },
   "outputs": [
    {
     "data": {
      "text/html": [
       "<style>#sk-container-id-4 {color: black;background-color: white;}#sk-container-id-4 pre{padding: 0;}#sk-container-id-4 div.sk-toggleable {background-color: white;}#sk-container-id-4 label.sk-toggleable__label {cursor: pointer;display: block;width: 100%;margin-bottom: 0;padding: 0.3em;box-sizing: border-box;text-align: center;}#sk-container-id-4 label.sk-toggleable__label-arrow:before {content: \"▸\";float: left;margin-right: 0.25em;color: #696969;}#sk-container-id-4 label.sk-toggleable__label-arrow:hover:before {color: black;}#sk-container-id-4 div.sk-estimator:hover label.sk-toggleable__label-arrow:before {color: black;}#sk-container-id-4 div.sk-toggleable__content {max-height: 0;max-width: 0;overflow: hidden;text-align: left;background-color: #f0f8ff;}#sk-container-id-4 div.sk-toggleable__content pre {margin: 0.2em;color: black;border-radius: 0.25em;background-color: #f0f8ff;}#sk-container-id-4 input.sk-toggleable__control:checked~div.sk-toggleable__content {max-height: 200px;max-width: 100%;overflow: auto;}#sk-container-id-4 input.sk-toggleable__control:checked~label.sk-toggleable__label-arrow:before {content: \"▾\";}#sk-container-id-4 div.sk-estimator input.sk-toggleable__control:checked~label.sk-toggleable__label {background-color: #d4ebff;}#sk-container-id-4 div.sk-label input.sk-toggleable__control:checked~label.sk-toggleable__label {background-color: #d4ebff;}#sk-container-id-4 input.sk-hidden--visually {border: 0;clip: rect(1px 1px 1px 1px);clip: rect(1px, 1px, 1px, 1px);height: 1px;margin: -1px;overflow: hidden;padding: 0;position: absolute;width: 1px;}#sk-container-id-4 div.sk-estimator {font-family: monospace;background-color: #f0f8ff;border: 1px dotted black;border-radius: 0.25em;box-sizing: border-box;margin-bottom: 0.5em;}#sk-container-id-4 div.sk-estimator:hover {background-color: #d4ebff;}#sk-container-id-4 div.sk-parallel-item::after {content: \"\";width: 100%;border-bottom: 1px solid gray;flex-grow: 1;}#sk-container-id-4 div.sk-label:hover label.sk-toggleable__label {background-color: #d4ebff;}#sk-container-id-4 div.sk-serial::before {content: \"\";position: absolute;border-left: 1px solid gray;box-sizing: border-box;top: 0;bottom: 0;left: 50%;z-index: 0;}#sk-container-id-4 div.sk-serial {display: flex;flex-direction: column;align-items: center;background-color: white;padding-right: 0.2em;padding-left: 0.2em;position: relative;}#sk-container-id-4 div.sk-item {position: relative;z-index: 1;}#sk-container-id-4 div.sk-parallel {display: flex;align-items: stretch;justify-content: center;background-color: white;position: relative;}#sk-container-id-4 div.sk-item::before, #sk-container-id-4 div.sk-parallel-item::before {content: \"\";position: absolute;border-left: 1px solid gray;box-sizing: border-box;top: 0;bottom: 0;left: 50%;z-index: -1;}#sk-container-id-4 div.sk-parallel-item {display: flex;flex-direction: column;z-index: 1;position: relative;background-color: white;}#sk-container-id-4 div.sk-parallel-item:first-child::after {align-self: flex-end;width: 50%;}#sk-container-id-4 div.sk-parallel-item:last-child::after {align-self: flex-start;width: 50%;}#sk-container-id-4 div.sk-parallel-item:only-child::after {width: 0;}#sk-container-id-4 div.sk-dashed-wrapped {border: 1px dashed gray;margin: 0 0.4em 0.5em 0.4em;box-sizing: border-box;padding-bottom: 0.4em;background-color: white;}#sk-container-id-4 div.sk-label label {font-family: monospace;font-weight: bold;display: inline-block;line-height: 1.2em;}#sk-container-id-4 div.sk-label-container {text-align: center;}#sk-container-id-4 div.sk-container {/* jupyter's `normalize.less` sets `[hidden] { display: none; }` but bootstrap.min.css set `[hidden] { display: none !important; }` so we also need the `!important` here to be able to override the default hidden behavior on the sphinx rendered scikit-learn.org. See: https://github.com/scikit-learn/scikit-learn/issues/21755 */display: inline-block !important;position: relative;}#sk-container-id-4 div.sk-text-repr-fallback {display: none;}</style><div id=\"sk-container-id-4\" class=\"sk-top-container\"><div class=\"sk-text-repr-fallback\"><pre>RandomForestClassifier(n_estimators=3, random_state=42)</pre><b>In a Jupyter environment, please rerun this cell to show the HTML representation or trust the notebook. <br />On GitHub, the HTML representation is unable to render, please try loading this page with nbviewer.org.</b></div><div class=\"sk-container\" hidden><div class=\"sk-item\"><div class=\"sk-estimator sk-toggleable\"><input class=\"sk-toggleable__control sk-hidden--visually\" id=\"sk-estimator-id-4\" type=\"checkbox\" checked><label for=\"sk-estimator-id-4\" class=\"sk-toggleable__label sk-toggleable__label-arrow\">RandomForestClassifier</label><div class=\"sk-toggleable__content\"><pre>RandomForestClassifier(n_estimators=3, random_state=42)</pre></div></div></div></div></div>"
      ],
      "text/plain": [
       "RandomForestClassifier(n_estimators=3, random_state=42)"
      ]
     },
     "execution_count": 47,
     "metadata": {},
     "output_type": "execute_result"
    }
   ],
   "source": [
    "rfc = RandomForestClassifier(n_estimators=3, random_state=42)\n",
    "rfc.fit(X_train, y_train)"
   ]
  },
  {
   "cell_type": "code",
   "execution_count": 48,
   "metadata": {
    "executionInfo": {
     "elapsed": 7,
     "status": "ok",
     "timestamp": 1678957102259,
     "user": {
      "displayName": "yunwoo oh",
      "userId": "01035531558844683999"
     },
     "user_tz": -540
    },
    "id": "yd3AA9mFa_0n"
   },
   "outputs": [],
   "source": [
    "rfc_pred = rfc.predict(X_test)"
   ]
  },
  {
   "cell_type": "code",
   "execution_count": 49,
   "metadata": {
    "colab": {
     "base_uri": "https://localhost:8080/",
     "height": 396
    },
    "executionInfo": {
     "elapsed": 691,
     "status": "ok",
     "timestamp": 1678957102943,
     "user": {
      "displayName": "yunwoo oh",
      "userId": "01035531558844683999"
     },
     "user_tz": -540
    },
    "id": "-RkzXSShS6ks",
    "outputId": "b344d906-5e09-48ac-f5bf-00a52f7df380"
   },
   "outputs": [
    {
     "name": "stdout",
     "output_type": "stream",
     "text": [
      "                   model     recall\n",
      "0     LogisticRegression  56.071429\n",
      "1           DecisionTree  55.714286\n",
      "2  RandomForest Ensemble  52.142857\n",
      "3     K-Nearest Neighbor  51.964286\n"
     ]
    },
    {
     "data": {
      "text/plain": [
       "<Figure size 864x648 with 0 Axes>"
      ]
     },
     "metadata": {},
     "output_type": "display_data"
    },
    {
     "data": {
      "image/png": "[encoded data removed]",
      "text/plain": [
       "<Figure size 720x288 with 1 Axes>"
      ]
     },
     "metadata": {},
     "output_type": "display_data"
    }
   ],
   "source": [
    "recall_eval('RandomForest Ensemble', rfc_pred, y_test)"
   ]
  },
  {
   "cell_type": "markdown",
   "metadata": {
    "id": "vxLwe2Qw0FUY"
   },
   "source": [
    "###  \n",
    "### 5) XGBoost\n",
    "+ 여러개의 DecisionTree를 결합하여 Strong Learner 만드는 Boosting 앙상블 기법\n",
    "+ Kaggle 대회에서 자주 사용하는 모델이다."
   ]
  },
  {
   "cell_type": "markdown",
   "metadata": {
    "id": "xw17wJya85Ms"
   },
   "source": [
    "**주요 특징**\n",
    "- scikit-learn 패키지가 아닙니다.\n",
    "- 성능이 우수함\n",
    "- GBM보다는 빠르고 성능도 향상되었습니다.\n",
    "- 여전히 학습시간이 매우 느리다"
   ]
  },
  {
   "cell_type": "markdown",
   "metadata": {
    "id": "-fAjfIX9Jpcx"
   },
   "source": [
    "**주요 Hyperparameter**\n",
    "- random_state: 랜덤 시드 고정 값. 고정해두고 튜닝할 것!\n",
    "- n_jobs: CPU 사용 갯수\n",
    "- learning_rate: 학습율. 너무 큰 학습율은 성능을 떨어뜨리고, 너무 작은 학습율은 학습이 느리다. 적절한 값을 찾아야함. n_estimators와 같이 튜닝. default=0.1\n",
    "- n_estimators: 부스팅 스테이지 수. (랜덤포레스트 트리의 갯수 설정과 비슷한 개념). default=100\n",
    "- max_depth: 트리의 깊이. 과대적합 방지용. default=3. \n",
    "- subsample: 샘플 사용 비율. 과대적합 방지용. default=1.0\n",
    "- max_features: 최대로 사용할 feature의 비율. 과대적합 방지용. default=1.0"
   ]
  },
  {
   "cell_type": "code",
   "execution_count": 50,
   "metadata": {
    "colab": {
     "base_uri": "https://localhost:8080/"
    },
    "executionInfo": {
     "elapsed": 11161,
     "status": "ok",
     "timestamp": 1678957114097,
     "user": {
      "displayName": "yunwoo oh",
      "userId": "01035531558844683999"
     },
     "user_tz": -540
    },
    "id": "ABeT1Opy0FUY",
    "outputId": "0913eca2-3075-4ec4-c084-b72685eee50b"
   },
   "outputs": [
    {
     "name": "stdout",
     "output_type": "stream",
     "text": [
      "Looking in indexes: https://pypi.org/simple, https://us-python.pkg.dev/colab-wheels/public/simple/\n",
      "Requirement already satisfied: xgboost in /usr/local/lib/python3.9/dist-packages (1.7.4)\n",
      "Requirement already satisfied: numpy in /usr/local/lib/python3.9/dist-packages (from xgboost) (1.22.4)\n",
      "Requirement already satisfied: scipy in /usr/local/lib/python3.9/dist-packages (from xgboost) (1.10.1)\n"
     ]
    }
   ],
   "source": [
    "!pip install xgboost"
   ]
  },
  {
   "cell_type": "code",
   "execution_count": 51,
   "metadata": {
    "executionInfo": {
     "elapsed": 7,
     "status": "ok",
     "timestamp": 1678957114097,
     "user": {
      "displayName": "yunwoo oh",
      "userId": "01035531558844683999"
     },
     "user_tz": -540
    },
    "id": "LH2Plwt60FUZ"
   },
   "outputs": [],
   "source": [
    "from xgboost import XGBClassifier"
   ]
  },
  {
   "cell_type": "code",
   "execution_count": 52,
   "metadata": {
    "colab": {
     "base_uri": "https://localhost:8080/",
     "height": 247
    },
    "executionInfo": {
     "elapsed": 1126,
     "status": "ok",
     "timestamp": 1678957115218,
     "user": {
      "displayName": "yunwoo oh",
      "userId": "01035531558844683999"
     },
     "user_tz": -540
    },
    "id": "hygo7t_j0FUZ",
    "outputId": "e7b09f4c-3098-417a-aa96-c8ae59b0bc55"
   },
   "outputs": [
    {
     "data": {
      "text/html": [
       "<style>#sk-container-id-5 {color: black;background-color: white;}#sk-container-id-5 pre{padding: 0;}#sk-container-id-5 div.sk-toggleable {background-color: white;}#sk-container-id-5 label.sk-toggleable__label {cursor: pointer;display: block;width: 100%;margin-bottom: 0;padding: 0.3em;box-sizing: border-box;text-align: center;}#sk-container-id-5 label.sk-toggleable__label-arrow:before {content: \"▸\";float: left;margin-right: 0.25em;color: #696969;}#sk-container-id-5 label.sk-toggleable__label-arrow:hover:before {color: black;}#sk-container-id-5 div.sk-estimator:hover label.sk-toggleable__label-arrow:before {color: black;}#sk-container-id-5 div.sk-toggleable__content {max-height: 0;max-width: 0;overflow: hidden;text-align: left;background-color: #f0f8ff;}#sk-container-id-5 div.sk-toggleable__content pre {margin: 0.2em;color: black;border-radius: 0.25em;background-color: #f0f8ff;}#sk-container-id-5 input.sk-toggleable__control:checked~div.sk-toggleable__content {max-height: 200px;max-width: 100%;overflow: auto;}#sk-container-id-5 input.sk-toggleable__control:checked~label.sk-toggleable__label-arrow:before {content: \"▾\";}#sk-container-id-5 div.sk-estimator input.sk-toggleable__control:checked~label.sk-toggleable__label {background-color: #d4ebff;}#sk-container-id-5 div.sk-label input.sk-toggleable__control:checked~label.sk-toggleable__label {background-color: #d4ebff;}#sk-container-id-5 input.sk-hidden--visually {border: 0;clip: rect(1px 1px 1px 1px);clip: rect(1px, 1px, 1px, 1px);height: 1px;margin: -1px;overflow: hidden;padding: 0;position: absolute;width: 1px;}#sk-container-id-5 div.sk-estimator {font-family: monospace;background-color: #f0f8ff;border: 1px dotted black;border-radius: 0.25em;box-sizing: border-box;margin-bottom: 0.5em;}#sk-container-id-5 div.sk-estimator:hover {background-color: #d4ebff;}#sk-container-id-5 div.sk-parallel-item::after {content: \"\";width: 100%;border-bottom: 1px solid gray;flex-grow: 1;}#sk-container-id-5 div.sk-label:hover label.sk-toggleable__label {background-color: #d4ebff;}#sk-container-id-5 div.sk-serial::before {content: \"\";position: absolute;border-left: 1px solid gray;box-sizing: border-box;top: 0;bottom: 0;left: 50%;z-index: 0;}#sk-container-id-5 div.sk-serial {display: flex;flex-direction: column;align-items: center;background-color: white;padding-right: 0.2em;padding-left: 0.2em;position: relative;}#sk-container-id-5 div.sk-item {position: relative;z-index: 1;}#sk-container-id-5 div.sk-parallel {display: flex;align-items: stretch;justify-content: center;background-color: white;position: relative;}#sk-container-id-5 div.sk-item::before, #sk-container-id-5 div.sk-parallel-item::before {content: \"\";position: absolute;border-left: 1px solid gray;box-sizing: border-box;top: 0;bottom: 0;left: 50%;z-index: -1;}#sk-container-id-5 div.sk-parallel-item {display: flex;flex-direction: column;z-index: 1;position: relative;background-color: white;}#sk-container-id-5 div.sk-parallel-item:first-child::after {align-self: flex-end;width: 50%;}#sk-container-id-5 div.sk-parallel-item:last-child::after {align-self: flex-start;width: 50%;}#sk-container-id-5 div.sk-parallel-item:only-child::after {width: 0;}#sk-container-id-5 div.sk-dashed-wrapped {border: 1px dashed gray;margin: 0 0.4em 0.5em 0.4em;box-sizing: border-box;padding-bottom: 0.4em;background-color: white;}#sk-container-id-5 div.sk-label label {font-family: monospace;font-weight: bold;display: inline-block;line-height: 1.2em;}#sk-container-id-5 div.sk-label-container {text-align: center;}#sk-container-id-5 div.sk-container {/* jupyter's `normalize.less` sets `[hidden] { display: none; }` but bootstrap.min.css set `[hidden] { display: none !important; }` so we also need the `!important` here to be able to override the default hidden behavior on the sphinx rendered scikit-learn.org. See: https://github.com/scikit-learn/scikit-learn/issues/21755 */display: inline-block !important;position: relative;}#sk-container-id-5 div.sk-text-repr-fallback {display: none;}</style><div id=\"sk-container-id-5\" class=\"sk-top-container\"><div class=\"sk-text-repr-fallback\"><pre>XGBClassifier(base_score=None, booster=None, callbacks=None,\n",
       "              colsample_bylevel=None, colsample_bynode=None,\n",
       "              colsample_bytree=None, early_stopping_rounds=None,\n",
       "              enable_categorical=False, eval_metric=None, feature_types=None,\n",
       "              gamma=None, gpu_id=None, grow_policy=None, importance_type=None,\n",
       "              interaction_constraints=None, learning_rate=None, max_bin=None,\n",
       "              max_cat_threshold=None, max_cat_to_onehot=None,\n",
       "              max_delta_step=None, max_depth=None, max_leaves=None,\n",
       "              min_child_weight=None, missing=nan, monotone_constraints=None,\n",
       "              n_estimators=3, n_jobs=None, num_parallel_tree=None,\n",
       "              predictor=None, random_state=42, ...)</pre><b>In a Jupyter environment, please rerun this cell to show the HTML representation or trust the notebook. <br />On GitHub, the HTML representation is unable to render, please try loading this page with nbviewer.org.</b></div><div class=\"sk-container\" hidden><div class=\"sk-item\"><div class=\"sk-estimator sk-toggleable\"><input class=\"sk-toggleable__control sk-hidden--visually\" id=\"sk-estimator-id-5\" type=\"checkbox\" checked><label for=\"sk-estimator-id-5\" class=\"sk-toggleable__label sk-toggleable__label-arrow\">XGBClassifier</label><div class=\"sk-toggleable__content\"><pre>XGBClassifier(base_score=None, booster=None, callbacks=None,\n",
       "              colsample_bylevel=None, colsample_bynode=None,\n",
       "              colsample_bytree=None, early_stopping_rounds=None,\n",
       "              enable_categorical=False, eval_metric=None, feature_types=None,\n",
       "              gamma=None, gpu_id=None, grow_policy=None, importance_type=None,\n",
       "              interaction_constraints=None, learning_rate=None, max_bin=None,\n",
       "              max_cat_threshold=None, max_cat_to_onehot=None,\n",
       "              max_delta_step=None, max_depth=None, max_leaves=None,\n",
       "              min_child_weight=None, missing=nan, monotone_constraints=None,\n",
       "              n_estimators=3, n_jobs=None, num_parallel_tree=None,\n",
       "              predictor=None, random_state=42, ...)</pre></div></div></div></div></div>"
      ],
      "text/plain": [
       "XGBClassifier(base_score=None, booster=None, callbacks=None,\n",
       "              colsample_bylevel=None, colsample_bynode=None,\n",
       "              colsample_bytree=None, early_stopping_rounds=None,\n",
       "              enable_categorical=False, eval_metric=None, feature_types=None,\n",
       "              gamma=None, gpu_id=None, grow_policy=None, importance_type=None,\n",
       "              interaction_constraints=None, learning_rate=None, max_bin=None,\n",
       "              max_cat_threshold=None, max_cat_to_onehot=None,\n",
       "              max_delta_step=None, max_depth=None, max_leaves=None,\n",
       "              min_child_weight=None, missing=nan, monotone_constraints=None,\n",
       "              n_estimators=3, n_jobs=None, num_parallel_tree=None,\n",
       "              predictor=None, random_state=42, ...)"
      ]
     },
     "execution_count": 52,
     "metadata": {},
     "output_type": "execute_result"
    }
   ],
   "source": [
    "xgb = XGBClassifier(n_estimators=3, random_state=42)  \n",
    "xgb.fit(X_train, y_train)"
   ]
  },
  {
   "cell_type": "code",
   "execution_count": 53,
   "metadata": {
    "executionInfo": {
     "elapsed": 16,
     "status": "ok",
     "timestamp": 1678957115218,
     "user": {
      "displayName": "yunwoo oh",
      "userId": "01035531558844683999"
     },
     "user_tz": -540
    },
    "id": "YiIBtKi80FUZ"
   },
   "outputs": [],
   "source": [
    "xgb_pred = xgb.predict(X_test)"
   ]
  },
  {
   "cell_type": "code",
   "execution_count": 54,
   "metadata": {
    "colab": {
     "base_uri": "https://localhost:8080/",
     "height": 469
    },
    "executionInfo": {
     "elapsed": 970,
     "status": "ok",
     "timestamp": 1678957116173,
     "user": {
      "displayName": "yunwoo oh",
      "userId": "01035531558844683999"
     },
     "user_tz": -540
    },
    "id": "kAKKoLLh0FUZ",
    "outputId": "e5b45eb2-0d1a-4273-f003-046e414a7d5d"
   },
   "outputs": [
    {
     "name": "stdout",
     "output_type": "stream",
     "text": [
      "                   model     recall\n",
      "0     LogisticRegression  56.071429\n",
      "1           DecisionTree  55.714286\n",
      "2  RandomForest Ensemble  52.142857\n",
      "3                XGBoost  52.142857\n",
      "4     K-Nearest Neighbor  51.964286\n"
     ]
    },
    {
     "data": {
      "text/plain": [
       "<Figure size 864x648 with 0 Axes>"
      ]
     },
     "metadata": {},
     "output_type": "display_data"
    },
    {
     "data": {
      "image/png": "[encoded data removed]",
      "text/plain": [
       "<Figure size 720x360 with 1 Axes>"
      ]
     },
     "metadata": {},
     "output_type": "display_data"
    }
   ],
   "source": [
    "recall_eval('XGBoost', xgb_pred, y_test)"
   ]
  },
  {
   "cell_type": "markdown",
   "metadata": {
    "id": "QUvyyQcM0FUZ"
   },
   "source": [
    "###  \n",
    "### 6) Light GBM\n",
    "+ XGBoost와 함께 주목받는 DecisionTree 알고리즘 기반의 Boosting 앙상블 기법\n",
    "+ XGBoost에 비해 학습시간이 짧은 편이다."
   ]
  },
  {
   "cell_type": "markdown",
   "metadata": {
    "id": "Unk2_LocLD_I"
   },
   "source": [
    "**주요 특징**\n",
    "- scikit-learn 패키지가 아닙니다.\n",
    "- 성능이 우수함\n",
    "- 속도도 매우 빠릅니다."
   ]
  },
  {
   "cell_type": "markdown",
   "metadata": {
    "id": "GaKdEHJpLrm4"
   },
   "source": [
    "**주요 Hyperparameter**\n",
    "- random_state: 랜덤 시드 고정 값. 고정해두고 튜닝할 것!\n",
    "- n_jobs: CPU 사용 갯수\n",
    "- learning_rate: 학습율. 너무 큰 학습율은 성능을 떨어뜨리고, 너무 작은 학습율은 학습이 느리다. 적절한 값을 찾아야함. n_estimators와 같이 튜닝. default=0.1\n",
    "- n_estimators: 부스팅 스테이지 수. (랜덤포레스트 트리의 갯수 설정과 비슷한 개념). default=100\n",
    "- max_depth: 트리의 깊이. 과대적합 방지용. default=3. \n",
    "- colsample_bytree: 샘플 사용 비율 (max_features와 비슷한 개념). 과대적합 방지용. default=1.0"
   ]
  },
  {
   "cell_type": "code",
   "execution_count": 55,
   "metadata": {
    "colab": {
     "base_uri": "https://localhost:8080/"
    },
    "executionInfo": {
     "elapsed": 3345,
     "status": "ok",
     "timestamp": 1678957119513,
     "user": {
      "displayName": "yunwoo oh",
      "userId": "01035531558844683999"
     },
     "user_tz": -540
    },
    "id": "KeMfBOjQ0FUa",
    "outputId": "8ccfd026-44d9-4220-d365-a7a28f334e38"
   },
   "outputs": [
    {
     "name": "stdout",
     "output_type": "stream",
     "text": [
      "Looking in indexes: https://pypi.org/simple, https://us-python.pkg.dev/colab-wheels/public/simple/\n",
      "Requirement already satisfied: lightgbm in /usr/local/lib/python3.9/dist-packages (2.2.3)\n",
      "Requirement already satisfied: scikit-learn in /usr/local/lib/python3.9/dist-packages (from lightgbm) (1.2.2)\n",
      "Requirement already satisfied: numpy in /usr/local/lib/python3.9/dist-packages (from lightgbm) (1.22.4)\n",
      "Requirement already satisfied: scipy in /usr/local/lib/python3.9/dist-packages (from lightgbm) (1.10.1)\n",
      "Requirement already satisfied: threadpoolctl>=2.0.0 in /usr/local/lib/python3.9/dist-packages (from scikit-learn->lightgbm) (3.1.0)\n",
      "Requirement already satisfied: joblib>=1.1.1 in /usr/local/lib/python3.9/dist-packages (from scikit-learn->lightgbm) (1.1.1)\n"
     ]
    }
   ],
   "source": [
    "!pip install lightgbm"
   ]
  },
  {
   "cell_type": "code",
   "execution_count": 56,
   "metadata": {
    "executionInfo": {
     "elapsed": 5,
     "status": "ok",
     "timestamp": 1678957119513,
     "user": {
      "displayName": "yunwoo oh",
      "userId": "01035531558844683999"
     },
     "user_tz": -540
    },
    "id": "190g_jQU0FUa"
   },
   "outputs": [],
   "source": [
    "from lightgbm import LGBMClassifier"
   ]
  },
  {
   "cell_type": "code",
   "execution_count": 57,
   "metadata": {
    "colab": {
     "base_uri": "https://localhost:8080/",
     "height": 74
    },
    "executionInfo": {
     "elapsed": 972,
     "status": "ok",
     "timestamp": 1678957120481,
     "user": {
      "displayName": "yunwoo oh",
      "userId": "01035531558844683999"
     },
     "user_tz": -540
    },
    "id": "34NklLzz0FUa",
    "outputId": "55bd500b-e9c8-4fff-c067-a7fb2b10bda5"
   },
   "outputs": [
    {
     "data": {
      "text/html": [
       "<style>#sk-container-id-6 {color: black;background-color: white;}#sk-container-id-6 pre{padding: 0;}#sk-container-id-6 div.sk-toggleable {background-color: white;}#sk-container-id-6 label.sk-toggleable__label {cursor: pointer;display: block;width: 100%;margin-bottom: 0;padding: 0.3em;box-sizing: border-box;text-align: center;}#sk-container-id-6 label.sk-toggleable__label-arrow:before {content: \"▸\";float: left;margin-right: 0.25em;color: #696969;}#sk-container-id-6 label.sk-toggleable__label-arrow:hover:before {color: black;}#sk-container-id-6 div.sk-estimator:hover label.sk-toggleable__label-arrow:before {color: black;}#sk-container-id-6 div.sk-toggleable__content {max-height: 0;max-width: 0;overflow: hidden;text-align: left;background-color: #f0f8ff;}#sk-container-id-6 div.sk-toggleable__content pre {margin: 0.2em;color: black;border-radius: 0.25em;background-color: #f0f8ff;}#sk-container-id-6 input.sk-toggleable__control:checked~div.sk-toggleable__content {max-height: 200px;max-width: 100%;overflow: auto;}#sk-container-id-6 input.sk-toggleable__control:checked~label.sk-toggleable__label-arrow:before {content: \"▾\";}#sk-container-id-6 div.sk-estimator input.sk-toggleable__control:checked~label.sk-toggleable__label {background-color: #d4ebff;}#sk-container-id-6 div.sk-label input.sk-toggleable__control:checked~label.sk-toggleable__label {background-color: #d4ebff;}#sk-container-id-6 input.sk-hidden--visually {border: 0;clip: rect(1px 1px 1px 1px);clip: rect(1px, 1px, 1px, 1px);height: 1px;margin: -1px;overflow: hidden;padding: 0;position: absolute;width: 1px;}#sk-container-id-6 div.sk-estimator {font-family: monospace;background-color: #f0f8ff;border: 1px dotted black;border-radius: 0.25em;box-sizing: border-box;margin-bottom: 0.5em;}#sk-container-id-6 div.sk-estimator:hover {background-color: #d4ebff;}#sk-container-id-6 div.sk-parallel-item::after {content: \"\";width: 100%;border-bottom: 1px solid gray;flex-grow: 1;}#sk-container-id-6 div.sk-label:hover label.sk-toggleable__label {background-color: #d4ebff;}#sk-container-id-6 div.sk-serial::before {content: \"\";position: absolute;border-left: 1px solid gray;box-sizing: border-box;top: 0;bottom: 0;left: 50%;z-index: 0;}#sk-container-id-6 div.sk-serial {display: flex;flex-direction: column;align-items: center;background-color: white;padding-right: 0.2em;padding-left: 0.2em;position: relative;}#sk-container-id-6 div.sk-item {position: relative;z-index: 1;}#sk-container-id-6 div.sk-parallel {display: flex;align-items: stretch;justify-content: center;background-color: white;position: relative;}#sk-container-id-6 div.sk-item::before, #sk-container-id-6 div.sk-parallel-item::before {content: \"\";position: absolute;border-left: 1px solid gray;box-sizing: border-box;top: 0;bottom: 0;left: 50%;z-index: -1;}#sk-container-id-6 div.sk-parallel-item {display: flex;flex-direction: column;z-index: 1;position: relative;background-color: white;}#sk-container-id-6 div.sk-parallel-item:first-child::after {align-self: flex-end;width: 50%;}#sk-container-id-6 div.sk-parallel-item:last-child::after {align-self: flex-start;width: 50%;}#sk-container-id-6 div.sk-parallel-item:only-child::after {width: 0;}#sk-container-id-6 div.sk-dashed-wrapped {border: 1px dashed gray;margin: 0 0.4em 0.5em 0.4em;box-sizing: border-box;padding-bottom: 0.4em;background-color: white;}#sk-container-id-6 div.sk-label label {font-family: monospace;font-weight: bold;display: inline-block;line-height: 1.2em;}#sk-container-id-6 div.sk-label-container {text-align: center;}#sk-container-id-6 div.sk-container {/* jupyter's `normalize.less` sets `[hidden] { display: none; }` but bootstrap.min.css set `[hidden] { display: none !important; }` so we also need the `!important` here to be able to override the default hidden behavior on the sphinx rendered scikit-learn.org. See: https://github.com/scikit-learn/scikit-learn/issues/21755 */display: inline-block !important;position: relative;}#sk-container-id-6 div.sk-text-repr-fallback {display: none;}</style><div id=\"sk-container-id-6\" class=\"sk-top-container\"><div class=\"sk-text-repr-fallback\"><pre>LGBMClassifier(n_estimators=3, random_state=42)</pre><b>In a Jupyter environment, please rerun this cell to show the HTML representation or trust the notebook. <br />On GitHub, the HTML representation is unable to render, please try loading this page with nbviewer.org.</b></div><div class=\"sk-container\" hidden><div class=\"sk-item\"><div class=\"sk-estimator sk-toggleable\"><input class=\"sk-toggleable__control sk-hidden--visually\" id=\"sk-estimator-id-6\" type=\"checkbox\" checked><label for=\"sk-estimator-id-6\" class=\"sk-toggleable__label sk-toggleable__label-arrow\">LGBMClassifier</label><div class=\"sk-toggleable__content\"><pre>LGBMClassifier(n_estimators=3, random_state=42)</pre></div></div></div></div></div>"
      ],
      "text/plain": [
       "LGBMClassifier(n_estimators=3, random_state=42)"
      ]
     },
     "execution_count": 57,
     "metadata": {},
     "output_type": "execute_result"
    }
   ],
   "source": [
    "lgbm = LGBMClassifier(n_estimators=3, random_state=42)  \n",
    "lgbm.fit(X_train, y_train)"
   ]
  },
  {
   "cell_type": "code",
   "execution_count": 58,
   "metadata": {
    "executionInfo": {
     "elapsed": 26,
     "status": "ok",
     "timestamp": 1678957120482,
     "user": {
      "displayName": "yunwoo oh",
      "userId": "01035531558844683999"
     },
     "user_tz": -540
    },
    "id": "IqymXJLO0FUa"
   },
   "outputs": [],
   "source": [
    "lgbm_pred = lgbm.predict(X_test)"
   ]
  },
  {
   "cell_type": "code",
   "execution_count": 59,
   "metadata": {
    "colab": {
     "base_uri": "https://localhost:8080/",
     "height": 541
    },
    "executionInfo": {
     "elapsed": 26,
     "status": "ok",
     "timestamp": 1678957120482,
     "user": {
      "displayName": "yunwoo oh",
      "userId": "01035531558844683999"
     },
     "user_tz": -540
    },
    "id": "wBLc6O9q0FUb",
    "outputId": "c11d6961-a6ab-4b7e-9bdb-84439315b21b",
    "scrolled": false
   },
   "outputs": [
    {
     "name": "stdout",
     "output_type": "stream",
     "text": [
      "                   model     recall\n",
      "0     LogisticRegression  56.071429\n",
      "1           DecisionTree  55.714286\n",
      "2  RandomForest Ensemble  52.142857\n",
      "3                XGBoost  52.142857\n",
      "4     K-Nearest Neighbor  51.964286\n",
      "5                   LGBM   0.000000\n"
     ]
    },
    {
     "data": {
      "text/plain": [
       "<Figure size 864x648 with 0 Axes>"
      ]
     },
     "metadata": {},
     "output_type": "display_data"
    },
    {
     "data": {
      "image/png": "[encoded data removed]",
      "text/plain": [
       "<Figure size 720x432 with 1 Axes>"
      ]
     },
     "metadata": {},
     "output_type": "display_data"
    }
   ],
   "source": [
    "recall_eval('LGBM', lgbm_pred, y_test)"
   ]
  },
  {
   "cell_type": "code",
   "execution_count": 60,
   "metadata": {
    "colab": {
     "base_uri": "https://localhost:8080/"
    },
    "executionInfo": {
     "elapsed": 20,
     "status": "ok",
     "timestamp": 1678957120483,
     "user": {
      "displayName": "yunwoo oh",
      "userId": "01035531558844683999"
     },
     "user_tz": -540
    },
    "id": "iEYoahG80FUb",
    "outputId": "c4730e14-837a-4381-8de3-1f1c02288d92"
   },
   "outputs": [
    {
     "data": {
      "text/plain": [
       "0.7344713134186819"
      ]
     },
     "execution_count": 60,
     "metadata": {},
     "output_type": "execute_result"
    }
   ],
   "source": [
    "# 정확도는 73% 정도 나온다.\n",
    "lgbm.score(X_test, y_test)"
   ]
  },
  {
   "cell_type": "code",
   "execution_count": 61,
   "metadata": {
    "colab": {
     "base_uri": "https://localhost:8080/"
    },
    "executionInfo": {
     "elapsed": 16,
     "status": "ok",
     "timestamp": 1678957120483,
     "user": {
      "displayName": "yunwoo oh",
      "userId": "01035531558844683999"
     },
     "user_tz": -540
    },
    "id": "DzHQwJBf0FUb",
    "outputId": "c8165035-2f11-4330-a050-9719217698bd"
   },
   "outputs": [
    {
     "data": {
      "text/plain": [
       "0.0"
      ]
     },
     "execution_count": 61,
     "metadata": {},
     "output_type": "execute_result"
    }
   ],
   "source": [
    "# 재현율 0으로 나온다. \n",
    "recall_score(y_test, lgbm_pred)  "
   ]
  },
  {
   "cell_type": "markdown",
   "metadata": {
    "id": "dwF8m19w0FUb"
   },
   "source": [
    "##  \n",
    "# <font color=red>2. 재현율 성능이 너무 안나온다. 어떻게 해결할수 있을까?</font>"
   ]
  },
  {
   "cell_type": "code",
   "execution_count": 61,
   "metadata": {
    "executionInfo": {
     "elapsed": 13,
     "status": "ok",
     "timestamp": 1678957120484,
     "user": {
      "displayName": "yunwoo oh",
      "userId": "01035531558844683999"
     },
     "user_tz": -540
    },
    "id": "w6mhbAam0FUb"
   },
   "outputs": [],
   "source": []
  },
  {
   "cell_type": "markdown",
   "metadata": {
    "id": "KLSjCzg80FUc"
   },
   "source": [
    "##  \n",
    "## 배운 내용 정리\n",
    "1. 머신러닝 모델 프로세스 <br>\n",
    "① 라이브러리 임포트(import)  \n",
    "② 데이터 가져오기(Loading the data)  \n",
    "③ 탐색적 데이터 분석(Exploratory Data Analysis)  \n",
    "④ 데이터 전처리(Data PreProcessing) : 데이터타입 변환, Null 데이터 처리, 누락데이터 처리, \n",
    "더미특성 생성, 특성 추출 (feature engineering) 등  \n",
    "⑤ Train, Test  데이터셋 분할  \n",
    "⑥ 데이터 정규화(Normalizing the Data)  \n",
    "⑦ 모델 개발(Creating the Model)  \n",
    "⑧ 모델 성능 평가\n",
    "2. 평가 지표 활용 : 모델별 성능 확인을 위한 함수 (가져다 쓰면 된다)\n",
    "3. 단일 회귀예측 모델 : LogisticRegression, KNN, DecisionTree\n",
    "4. 앙상블 (Ensemble) : RandomForest, XGBoost, LGBM\n",
    "5. 재현율 성능이 너무 안나온다. 어떻게 해결할수 있을까?"
   ]
  },
  {
   "cell_type": "markdown",
   "metadata": {
    "id": "yAzbTaqgiFgX"
   },
   "source": [
    "<p>\n",
    "<p>\n",
    "<p>\n",
    "<p>\n"
   ]
  },
  {
   "cell_type": "markdown",
   "metadata": {
    "id": "vIyE-sM7ic8e"
   },
   "source": [
    "<p>\n",
    "<p>\n",
    "<p>"
   ]
  },
  {
   "cell_type": "markdown",
   "metadata": {
    "id": "xl4NCbZciiqY"
   },
   "source": [
    "<p>\n",
    "<p>\n",
    "<p>"
   ]
  },
  {
   "cell_type": "markdown",
   "metadata": {
    "id": "OE89vy1a0YH3"
   },
   "source": [
    "# [실습-정답] Python을 활용한 AI 모델링 - 딥러닝 파트\n",
    "+ 이번시간에는 Python을 활용한 AI 모델링에서 딥러닝에 대해 실습해 보겠습니다.\n",
    "+ 여기서는 딥러닝 모델 DNN에 대해 코딩하여 모델 구축해 보겠습니다.\n",
    "+ 한가지 당부 드리고 싶은 말은 \"백문이불여일타\" 입니다. \n",
    "+ 이론보다 실습이 더 많은 시간과 노력이 투자 되어야 합니다."
   ]
  },
  {
   "cell_type": "markdown",
   "metadata": {
    "id": "jiPP1idv0YH8"
   },
   "source": [
    "## 학습목차\n",
    "1. 딥러닝 심층신경망(DNN) 모델 프로세스\n",
    " - 데이터 가져오기\n",
    " - 데이터 전처리\n",
    " - Train, Test 데이터셋 분할\n",
    " - 데이터 정규화\n",
    " - DNN 딥러닝 모델\n",
    "2. 재현율 성능이 좋지 않다. 어떻게 성능향상 할수 있나?"
   ]
  },
  {
   "cell_type": "markdown",
   "metadata": {
    "id": "Zr3QI2qG0YH9"
   },
   "source": [
    "#  \n",
    "# 1. 딥러닝 심층신경망(DNN) 모델 프로세스\n",
    "① 라이브러리 임포트(import)  \n",
    "② 데이터 가져오기(Loading the data)  \n",
    "③ 탐색적 데이터 분석(Exploratory Data Analysis)  \n",
    "④ 데이터 전처리(Data PreProcessing) : 데이터타입 변환, Null 데이터 처리, 누락데이터 처리, \n",
    "더미특성 생성, 특성 추출 (feature engineering) 등  \n",
    "⑤ Train, Test  데이터셋 분할  \n",
    "⑥ 데이터 정규화(Normalizing the Data)  \n",
    "⑦ 모델 개발(Creating the Model)  \n",
    "⑧ 모델 성능 평가\n",
    "\n",
    "### <font color='red'>1 ~ 6번까지 완료한 상태</font>"
   ]
  },
  {
   "cell_type": "markdown",
   "metadata": {
    "id": "fUKskwle0YIM"
   },
   "source": [
    "## ⑦ 딥러닝 심층신경망(DNN) 모델 구현"
   ]
  },
  {
   "cell_type": "markdown",
   "metadata": {
    "id": "-qtH1IV_0YIM"
   },
   "source": [
    "####  \n",
    "### 라이브러리 임포트"
   ]
  },
  {
   "cell_type": "code",
   "execution_count": 62,
   "metadata": {
    "executionInfo": {
     "elapsed": 2438,
     "status": "ok",
     "timestamp": 1678957122909,
     "user": {
      "displayName": "yunwoo oh",
      "userId": "01035531558844683999"
     },
     "user_tz": -540
    },
    "id": "xZ-81qT80YIM"
   },
   "outputs": [],
   "source": [
    "import tensorflow as tf\n",
    "from tensorflow.keras.models import Sequential\n",
    "from tensorflow.keras.layers import Dense, Dropout\n",
    "\n",
    "tf.random.set_seed(100)"
   ]
  },
  {
   "cell_type": "markdown",
   "metadata": {
    "id": "VUDoigSc0YIM"
   },
   "source": [
    "####  \n",
    "### 하이퍼파라미터 설정 : batch_size, epochs"
   ]
  },
  {
   "cell_type": "code",
   "execution_count": 63,
   "metadata": {
    "executionInfo": {
     "elapsed": 13,
     "status": "ok",
     "timestamp": 1678957122910,
     "user": {
      "displayName": "yunwoo oh",
      "userId": "01035531558844683999"
     },
     "user_tz": -540
    },
    "id": "zmEdqNNS0YIM"
   },
   "outputs": [],
   "source": [
    "batch_size = 16\n",
    "epochs = 20"
   ]
  },
  {
   "cell_type": "markdown",
   "metadata": {
    "id": "PqXbXmeD0YIN"
   },
   "source": [
    "####  \n",
    "### 모델 입력(features) 갯수 확인"
   ]
  },
  {
   "cell_type": "code",
   "execution_count": 64,
   "metadata": {
    "colab": {
     "base_uri": "https://localhost:8080/"
    },
    "executionInfo": {
     "elapsed": 12,
     "status": "ok",
     "timestamp": 1678957122910,
     "user": {
      "displayName": "yunwoo oh",
      "userId": "01035531558844683999"
     },
     "user_tz": -540
    },
    "id": "zCUyUw6J0YIN",
    "outputId": "00bad520-e45f-4b73-b038-3d483e5f309c"
   },
   "outputs": [
    {
     "data": {
      "text/plain": [
       "(4918, 39)"
      ]
     },
     "execution_count": 64,
     "metadata": {},
     "output_type": "execute_result"
    }
   ],
   "source": [
    "X_train.shape"
   ]
  },
  {
   "cell_type": "markdown",
   "metadata": {
    "id": "L1mqWzpz0YIN"
   },
   "source": [
    "####  \n",
    "### 모델 출력(label) 갯수 확인"
   ]
  },
  {
   "cell_type": "code",
   "execution_count": 65,
   "metadata": {
    "colab": {
     "base_uri": "https://localhost:8080/"
    },
    "executionInfo": {
     "elapsed": 11,
     "status": "ok",
     "timestamp": 1678957122910,
     "user": {
      "displayName": "yunwoo oh",
      "userId": "01035531558844683999"
     },
     "user_tz": -540
    },
    "id": "kzVC8VGO0YIN",
    "outputId": "6590363b-8881-426e-be32-9487772d476e"
   },
   "outputs": [
    {
     "data": {
      "text/plain": [
       "(4918,)"
      ]
     },
     "execution_count": 65,
     "metadata": {},
     "output_type": "execute_result"
    }
   ],
   "source": [
    "y_train.shape"
   ]
  },
  {
   "cell_type": "markdown",
   "metadata": {
    "id": "1zLx5_rB0YIO"
   },
   "source": [
    "####  \n",
    "### A. 이진분류 DNN모델 구성 "
   ]
  },
  {
   "cell_type": "markdown",
   "metadata": {
    "id": "zKKe_aOJ0YIO"
   },
   "source": [
    "![hidden Layer](https://github.com/gzone2000/TEMP_TEST/raw/master/hidden_layer1.PNG)\n",
    "+ [출처] https://subscription.packtpub.com/book/data/9781788995207/1/ch01lvl1sec03/deep-learning-intuition"
   ]
  },
  {
   "cell_type": "markdown",
   "metadata": {
    "id": "2LX2K8Hu0YIO"
   },
   "source": [
    "##### <font color=blue> **[문제] 요구사항대로 Sequential 모델을 만들어 보세요.** </font>"
   ]
  },
  {
   "cell_type": "code",
   "execution_count": 66,
   "metadata": {
    "executionInfo": {
     "elapsed": 538,
     "status": "ok",
     "timestamp": 1678957123441,
     "user": {
      "displayName": "yunwoo oh",
      "userId": "01035531558844683999"
     },
     "user_tz": -540
    },
    "id": "Fygby0lS0YIO"
   },
   "outputs": [],
   "source": [
    "# Sequential() 모델 정의 하고 model로 저장\n",
    "# input layer는 input_shape=() 옵션을 사용한다.\n",
    "# 39개 input layer\n",
    "# unit 4개 hidden layer\n",
    "# unit 3개 hidden layer \n",
    "# 1개 output layser : 이진분류\n",
    "\n",
    "\n",
    "model = Sequential()\n",
    "model.add(Dense(4, activation='relu', input_shape=(39,)))\n",
    "model.add(Dense(3, activation='relu'))\n",
    "model.add(Dense(1, activation='sigmoid'))"
   ]
  },
  {
   "cell_type": "markdown",
   "metadata": {
    "id": "gRD_erqd0YIO"
   },
   "source": [
    "####  \n",
    "### 모델 확인"
   ]
  },
  {
   "cell_type": "code",
   "execution_count": 67,
   "metadata": {
    "colab": {
     "base_uri": "https://localhost:8080/"
    },
    "executionInfo": {
     "elapsed": 14,
     "status": "ok",
     "timestamp": 1678957123442,
     "user": {
      "displayName": "yunwoo oh",
      "userId": "01035531558844683999"
     },
     "user_tz": -540
    },
    "id": "_dWPN4Hf0YIP",
    "outputId": "ee33eecb-b45d-454f-f319-b2541d23354f"
   },
   "outputs": [
    {
     "name": "stdout",
     "output_type": "stream",
     "text": [
      "Model: \"sequential\"\n",
      "_________________________________________________________________\n",
      " Layer (type)                Output Shape              Param #   \n",
      "=================================================================\n",
      " dense (Dense)               (None, 4)                 160       \n",
      "                                                                 \n",
      " dense_1 (Dense)             (None, 3)                 15        \n",
      "                                                                 \n",
      " dense_2 (Dense)             (None, 1)                 4         \n",
      "                                                                 \n",
      "=================================================================\n",
      "Total params: 179\n",
      "Trainable params: 179\n",
      "Non-trainable params: 0\n",
      "_________________________________________________________________\n"
     ]
    }
   ],
   "source": [
    "model.summary()"
   ]
  },
  {
   "cell_type": "markdown",
   "metadata": {
    "id": "hArp-8W00YIP"
   },
   "source": [
    "####  \n",
    "### 모델 구성 -  과적합 방지"
   ]
  },
  {
   "cell_type": "markdown",
   "metadata": {
    "id": "P12SscRX0YIP"
   },
   "source": [
    "![dropout](https://github.com/gzone2000/TEMP_TEST/raw/master/dropout.PNG)\n",
    "+ [출처] https://medium.com/@amarbudhiraja/https-medium-com-amarbudhiraja-learning-less-to-learn-better-dropout-in-deep-machine-learning-74334da4bfc5"
   ]
  },
  {
   "cell_type": "code",
   "execution_count": 68,
   "metadata": {
    "executionInfo": {
     "elapsed": 9,
     "status": "ok",
     "timestamp": 1678957123442,
     "user": {
      "displayName": "yunwoo oh",
      "userId": "01035531558844683999"
     },
     "user_tz": -540
    },
    "id": "hTZ0lfsB0YIP"
   },
   "outputs": [],
   "source": [
    "model = Sequential()\n",
    "model.add(Dense(4, activation='relu', input_shape=(39,)))\n",
    "model.add(Dropout(0.3))\n",
    "model.add(Dense(3, activation='relu'))\n",
    "model.add(Dropout(0.3))\n",
    "model.add(Dense(1, activation='sigmoid'))"
   ]
  },
  {
   "cell_type": "markdown",
   "metadata": {
    "id": "awF-BLSo0YIQ"
   },
   "source": [
    "####  \n",
    "### 과적합 방지 모델 확인"
   ]
  },
  {
   "cell_type": "code",
   "execution_count": 69,
   "metadata": {
    "colab": {
     "base_uri": "https://localhost:8080/"
    },
    "executionInfo": {
     "elapsed": 981,
     "status": "ok",
     "timestamp": 1678957124415,
     "user": {
      "displayName": "yunwoo oh",
      "userId": "01035531558844683999"
     },
     "user_tz": -540
    },
    "id": "5EPZjdj80YIQ",
    "outputId": "7641449b-6279-41e5-d25b-56654edf88be"
   },
   "outputs": [
    {
     "name": "stdout",
     "output_type": "stream",
     "text": [
      "Model: \"sequential_1\"\n",
      "_________________________________________________________________\n",
      " Layer (type)                Output Shape              Param #   \n",
      "=================================================================\n",
      " dense_3 (Dense)             (None, 4)                 160       \n",
      "                                                                 \n",
      " dropout (Dropout)           (None, 4)                 0         \n",
      "                                                                 \n",
      " dense_4 (Dense)             (None, 3)                 15        \n",
      "                                                                 \n",
      " dropout_1 (Dropout)         (None, 3)                 0         \n",
      "                                                                 \n",
      " dense_5 (Dense)             (None, 1)                 4         \n",
      "                                                                 \n",
      "=================================================================\n",
      "Total params: 179\n",
      "Trainable params: 179\n",
      "Non-trainable params: 0\n",
      "_________________________________________________________________\n"
     ]
    }
   ],
   "source": [
    "model.summary()"
   ]
  },
  {
   "cell_type": "markdown",
   "metadata": {
    "id": "1VOruMmv0YIQ"
   },
   "source": [
    "####  \n",
    "### 모델 컴파일 – 이진 분류 모델"
   ]
  },
  {
   "cell_type": "code",
   "execution_count": 70,
   "metadata": {
    "executionInfo": {
     "elapsed": 4,
     "status": "ok",
     "timestamp": 1678957124415,
     "user": {
      "displayName": "yunwoo oh",
      "userId": "01035531558844683999"
     },
     "user_tz": -540
    },
    "id": "nVZnbiNp0YIQ"
   },
   "outputs": [],
   "source": [
    "model.compile(optimizer='adam', \n",
    "              loss='binary_crossentropy', \n",
    "              metrics=['accuracy']) "
   ]
  },
  {
   "cell_type": "markdown",
   "metadata": {
    "id": "mHEfmI450YIQ"
   },
   "source": [
    "- 모델 컴파일 – 다중 분류 모델 (Y값을 One-Hot-Encoding 한경우) <br>\n",
    "model.compile(optimizer='adam', loss='categorical_crossentropy', metrics=['accuracy'])"
   ]
  },
  {
   "cell_type": "markdown",
   "metadata": {
    "id": "qvjLtvLO0YIR"
   },
   "source": [
    "- 모델 컴파일 – 다중 분류 모델  (Y값을 One-Hot-Encoding 하지 않은 경우) <br>\n",
    "model.compile(optimizer='adam', loss='sparse_categorical_crossentropy', metrics=['accuracy'])"
   ]
  },
  {
   "cell_type": "markdown",
   "metadata": {
    "id": "AK35wHQq0YIR"
   },
   "source": [
    "- 모델 컴파일 – 예측 모델\n",
    "model.compile(optimizer='adam', loss='mse')"
   ]
  },
  {
   "cell_type": "markdown",
   "metadata": {
    "id": "rTX4ExMb0YIR"
   },
   "source": [
    "####  \n",
    "### 모델 학습"
   ]
  },
  {
   "cell_type": "markdown",
   "metadata": {
    "id": "l-H8W9R80YIR"
   },
   "source": [
    "##### <font color=blue> **[문제] 요구사항대로 DNN 모델을 학습시키세요.** </font>\n",
    "+ 모델 이름 : model\n",
    "+ epoch : 10번\n",
    "+ batch_size : 10번"
   ]
  },
  {
   "cell_type": "code",
   "execution_count": 71,
   "metadata": {
    "colab": {
     "base_uri": "https://localhost:8080/"
    },
    "executionInfo": {
     "elapsed": 29397,
     "status": "ok",
     "timestamp": 1678957153808,
     "user": {
      "displayName": "yunwoo oh",
      "userId": "01035531558844683999"
     },
     "user_tz": -540
    },
    "id": "l0VkwonN0YIS",
    "outputId": "9bca4952-9318-4d61-fc5d-09ecb9824190"
   },
   "outputs": [
    {
     "name": "stdout",
     "output_type": "stream",
     "text": [
      "Epoch 1/10\n",
      "492/492 [==============================] - 4s 3ms/step - loss: 0.5996 - accuracy: 0.7336 - val_loss: 0.5019 - val_accuracy: 0.7345\n",
      "Epoch 2/10\n",
      "492/492 [==============================] - 1s 3ms/step - loss: 0.5408 - accuracy: 0.7344 - val_loss: 0.4752 - val_accuracy: 0.7345\n",
      "Epoch 3/10\n",
      "492/492 [==============================] - 2s 4ms/step - loss: 0.5258 - accuracy: 0.7344 - val_loss: 0.4758 - val_accuracy: 0.7345\n",
      "Epoch 4/10\n",
      "492/492 [==============================] - 3s 6ms/step - loss: 0.5285 - accuracy: 0.7344 - val_loss: 0.4764 - val_accuracy: 0.7345\n",
      "Epoch 5/10\n",
      "492/492 [==============================] - 3s 5ms/step - loss: 0.5201 - accuracy: 0.7344 - val_loss: 0.4754 - val_accuracy: 0.7345\n",
      "Epoch 6/10\n",
      "492/492 [==============================] - 4s 9ms/step - loss: 0.5169 - accuracy: 0.7344 - val_loss: 0.4749 - val_accuracy: 0.7345\n",
      "Epoch 7/10\n",
      "492/492 [==============================] - 3s 5ms/step - loss: 0.5221 - accuracy: 0.7344 - val_loss: 0.4705 - val_accuracy: 0.7345\n",
      "Epoch 8/10\n",
      "492/492 [==============================] - 2s 5ms/step - loss: 0.5186 - accuracy: 0.7344 - val_loss: 0.4767 - val_accuracy: 0.7345\n",
      "Epoch 9/10\n",
      "492/492 [==============================] - 4s 8ms/step - loss: 0.5183 - accuracy: 0.7344 - val_loss: 0.4717 - val_accuracy: 0.7345\n",
      "Epoch 10/10\n",
      "492/492 [==============================] - 4s 8ms/step - loss: 0.5179 - accuracy: 0.7344 - val_loss: 0.4803 - val_accuracy: 0.7345\n"
     ]
    },
    {
     "data": {
      "text/plain": [
       "<keras.callbacks.History at 0x7f71143cebb0>"
      ]
     },
     "execution_count": 71,
     "metadata": {},
     "output_type": "execute_result"
    }
   ],
   "source": [
    "# 앞쪽에서 정의된 모델 이름 : model\n",
    "# Sequential 모델의 fit() 함수 사용\n",
    "# @인자\n",
    "### X, y : X_train, y_train\n",
    "### validation_data=(X_test, y_test)\n",
    "### epochs 10번\n",
    "### batch_size 10번\n",
    "\n",
    "\n",
    "model.fit(X_train, y_train, \n",
    "          validation_data=(X_test, y_test),\n",
    "          epochs=10, \n",
    "          batch_size=10)"
   ]
  },
  {
   "cell_type": "markdown",
   "metadata": {
    "id": "WPZYzqib0YIS"
   },
   "source": [
    "####  \n",
    "### B. 다중 분류 DNN 구성\n",
    "+ 13개 input layer\n",
    "+ unit 5개 hidden layer\n",
    "+ dropout\n",
    "+ unit 4개 hidden layer \n",
    "+ dropout\n",
    "+ 2개 output layser : 이진분류"
   ]
  },
  {
   "cell_type": "markdown",
   "metadata": {
    "id": "Opb5-0OI0YIS"
   },
   "source": [
    "![다중분류](https://github.com/gzone2000/TEMP_TEST/raw/master/hidden_layer2.PNG)\n",
    "+ [출처] https://www.educba.com/dnn-neural-network/"
   ]
  },
  {
   "cell_type": "code",
   "execution_count": 72,
   "metadata": {
    "executionInfo": {
     "elapsed": 25,
     "status": "ok",
     "timestamp": 1678957153808,
     "user": {
      "displayName": "yunwoo oh",
      "userId": "01035531558844683999"
     },
     "user_tz": -540
    },
    "id": "k0Tiq3A40YIS"
   },
   "outputs": [],
   "source": [
    "# 39개 input layer\n",
    "# unit 5개 hidden layer\n",
    "# dropout\n",
    "# unit 4개 hidden layer \n",
    "# dropout\n",
    "# 2개 output layser : 다중분류\n",
    "\n",
    "model = Sequential()\n",
    "model.add(Dense(5, activation='relu', input_shape=(39,)))\n",
    "model.add(Dropout(0.3))\n",
    "model.add(Dense(4, activation='relu'))\n",
    "model.add(Dropout(0.3))\n",
    "model.add(Dense(2, activation='softmax'))"
   ]
  },
  {
   "cell_type": "markdown",
   "metadata": {
    "id": "sheeDtax0YIS"
   },
   "source": [
    "####  \n",
    "### 모델 확인"
   ]
  },
  {
   "cell_type": "code",
   "execution_count": 73,
   "metadata": {
    "colab": {
     "base_uri": "https://localhost:8080/"
    },
    "executionInfo": {
     "elapsed": 24,
     "status": "ok",
     "timestamp": 1678957153809,
     "user": {
      "displayName": "yunwoo oh",
      "userId": "01035531558844683999"
     },
     "user_tz": -540
    },
    "id": "sLGbErrf0YIT",
    "outputId": "5bc6afe5-73a3-40c0-8abc-063fd298125d"
   },
   "outputs": [
    {
     "name": "stdout",
     "output_type": "stream",
     "text": [
      "Model: \"sequential_2\"\n",
      "_________________________________________________________________\n",
      " Layer (type)                Output Shape              Param #   \n",
      "=================================================================\n",
      " dense_6 (Dense)             (None, 5)                 200       \n",
      "                                                                 \n",
      " dropout_2 (Dropout)         (None, 5)                 0         \n",
      "                                                                 \n",
      " dense_7 (Dense)             (None, 4)                 24        \n",
      "                                                                 \n",
      " dropout_3 (Dropout)         (None, 4)                 0         \n",
      "                                                                 \n",
      " dense_8 (Dense)             (None, 2)                 10        \n",
      "                                                                 \n",
      "=================================================================\n",
      "Total params: 234\n",
      "Trainable params: 234\n",
      "Non-trainable params: 0\n",
      "_________________________________________________________________\n"
     ]
    }
   ],
   "source": [
    "model.summary()"
   ]
  },
  {
   "cell_type": "markdown",
   "metadata": {
    "id": "uSa3lsUp0YIT"
   },
   "source": [
    "####  \n",
    "### 모델 컴파일 – 다중 분류 모델"
   ]
  },
  {
   "cell_type": "code",
   "execution_count": 74,
   "metadata": {
    "executionInfo": {
     "elapsed": 1441,
     "status": "ok",
     "timestamp": 1678957155234,
     "user": {
      "displayName": "yunwoo oh",
      "userId": "01035531558844683999"
     },
     "user_tz": -540
    },
    "id": "8uqwCzFC0YIT"
   },
   "outputs": [],
   "source": [
    "model.compile(optimizer='adam', \n",
    "              loss='sparse_categorical_crossentropy', \n",
    "              metrics=['accuracy']) "
   ]
  },
  {
   "cell_type": "markdown",
   "metadata": {
    "id": "RhUlTphR0YIT"
   },
   "source": [
    "####  \n",
    "### 모델 학습"
   ]
  },
  {
   "cell_type": "code",
   "execution_count": null,
   "metadata": {
    "colab": {
     "base_uri": "https://localhost:8080/"
    },
    "id": "FfooZ2jr0YIT",
    "outputId": "c6c08284-1adb-4efd-86d8-5957235954d7"
   },
   "outputs": [
    {
     "name": "stdout",
     "output_type": "stream",
     "text": [
      "Epoch 1/20\n",
      "308/308 [==============================] - 3s 6ms/step - loss: 0.5874 - accuracy: 0.7342 - val_loss: 0.5134 - val_accuracy: 0.7345\n",
      "Epoch 2/20\n",
      "308/308 [==============================] - 1s 5ms/step - loss: 0.5437 - accuracy: 0.7344 - val_loss: 0.4891 - val_accuracy: 0.7345\n",
      "Epoch 3/20\n",
      "308/308 [==============================] - 2s 7ms/step - loss: 0.5225 - accuracy: 0.7344 - val_loss: 0.4767 - val_accuracy: 0.7345\n",
      "Epoch 4/20\n",
      "308/308 [==============================] - 2s 5ms/step - loss: 0.5183 - accuracy: 0.7344 - val_loss: 0.4760 - val_accuracy: 0.7345\n",
      "Epoch 5/20\n",
      "308/308 [==============================] - 1s 5ms/step - loss: 0.5149 - accuracy: 0.7344 - val_loss: 0.4706 - val_accuracy: 0.7345\n",
      "Epoch 6/20\n",
      "308/308 [==============================] - 1s 4ms/step - loss: 0.5119 - accuracy: 0.7344 - val_loss: 0.4661 - val_accuracy: 0.7345\n",
      "Epoch 7/20\n",
      "308/308 [==============================] - 1s 3ms/step - loss: 0.4984 - accuracy: 0.7344 - val_loss: 0.4541 - val_accuracy: 0.7345\n",
      "Epoch 8/20\n",
      "308/308 [==============================] - 1s 3ms/step - loss: 0.4998 - accuracy: 0.7344 - val_loss: 0.4589 - val_accuracy: 0.7345\n",
      "Epoch 9/20\n",
      "308/308 [==============================] - 1s 3ms/step - loss: 0.4943 - accuracy: 0.7344 - val_loss: 0.4513 - val_accuracy: 0.7345\n",
      "Epoch 10/20\n",
      "308/308 [==============================] - 1s 3ms/step - loss: 0.4902 - accuracy: 0.7344 - val_loss: 0.4519 - val_accuracy: 0.7345\n",
      "Epoch 11/20\n",
      "308/308 [==============================] - 1s 3ms/step - loss: 0.4913 - accuracy: 0.7344 - val_loss: 0.4474 - val_accuracy: 0.7345\n",
      "Epoch 12/20\n",
      "308/308 [==============================] - 1s 3ms/step - loss: 0.4823 - accuracy: 0.7344 - val_loss: 0.4433 - val_accuracy: 0.7345\n",
      "Epoch 13/20\n",
      "308/308 [==============================] - 1s 3ms/step - loss: 0.4852 - accuracy: 0.7344 - val_loss: 0.4468 - val_accuracy: 0.7345\n",
      "Epoch 14/20\n",
      "308/308 [==============================] - 1s 3ms/step - loss: 0.4870 - accuracy: 0.7344 - val_loss: 0.4489 - val_accuracy: 0.7345\n",
      "Epoch 15/20\n",
      "308/308 [==============================] - 1s 3ms/step - loss: 0.4856 - accuracy: 0.7344 - val_loss: 0.4440 - val_accuracy: 0.7345\n",
      "Epoch 16/20\n",
      "308/308 [==============================] - 1s 3ms/step - loss: 0.4863 - accuracy: 0.7344 - val_loss: 0.4457 - val_accuracy: 0.7345\n",
      "Epoch 17/20\n",
      "308/308 [==============================] - 1s 4ms/step - loss: 0.4844 - accuracy: 0.7344 - val_loss: 0.4428 - val_accuracy: 0.7345\n",
      "Epoch 18/20\n",
      "308/308 [==============================] - 3s 9ms/step - loss: 0.4791 - accuracy: 0.7344 - val_loss: 0.4428 - val_accuracy: 0.7345\n",
      "Epoch 19/20\n",
      "230/308 [=====================>........] - ETA: 0s - loss: 0.4785 - accuracy: 0.7367"
     ]
    }
   ],
   "source": [
    "history = model.fit(X_train, y_train, \n",
    "          validation_data=(X_test, y_test),\n",
    "          epochs=20, \n",
    "          batch_size=16)"
   ]
  },
  {
   "cell_type": "markdown",
   "metadata": {
    "id": "qsohXyXZ0YIT"
   },
   "source": [
    "####  \n",
    "### Callback : 조기종료, 모델 저장"
   ]
  },
  {
   "cell_type": "code",
   "execution_count": null,
   "metadata": {
    "id": "z7d_nFMf0YIU"
   },
   "outputs": [],
   "source": [
    "from tensorflow.keras.callbacks import EarlyStopping, ModelCheckpoint"
   ]
  },
  {
   "cell_type": "code",
   "execution_count": null,
   "metadata": {
    "id": "hoOULwhL0YIU"
   },
   "outputs": [],
   "source": [
    "# val_loss 모니터링해서 성능이 5번 지나도록 좋아지지 않으면 조기 종료\n",
    "early_stop = EarlyStopping(monitor='val_loss', mode='min', \n",
    "                           verbose=1, patience=5)"
   ]
  },
  {
   "cell_type": "code",
   "execution_count": null,
   "metadata": {
    "id": "bKT5doN10YIU"
   },
   "outputs": [],
   "source": [
    "# val_loss 가장 낮은 값을 가질때마다 모델저장\n",
    "check_point = ModelCheckpoint('best_model.h5', verbose=1, \n",
    "                              monitor='val_loss', mode='min', save_best_only=True)"
   ]
  },
  {
   "cell_type": "markdown",
   "metadata": {
    "id": "3IUAfPnJ0YIU"
   },
   "source": [
    "####  \n",
    "### 모델 학습"
   ]
  },
  {
   "cell_type": "code",
   "execution_count": null,
   "metadata": {
    "colab": {
     "background_save": true
    },
    "id": "-TYvrlT90YIU"
   },
   "outputs": [
    {
     "name": "stdout",
     "output_type": "stream",
     "text": [
      "Epoch 1/50\n",
      "231/246 [===========================>..] - ETA: 0s - loss: 0.4797 - accuracy: 0.7361\n",
      "Epoch 1: val_loss improved from inf to 0.44493, saving model to best_model.h5\n",
      "246/246 [==============================] - 1s 4ms/step - loss: 0.4819 - accuracy: 0.7344 - val_loss: 0.4449 - val_accuracy: 0.7345\n",
      "Epoch 2/50\n",
      "230/246 [===========================>..] - ETA: 0s - loss: 0.4864 - accuracy: 0.7322\n",
      "Epoch 2: val_loss improved from 0.44493 to 0.44383, saving model to best_model.h5\n",
      "246/246 [==============================] - 1s 4ms/step - loss: 0.4850 - accuracy: 0.7344 - val_loss: 0.4438 - val_accuracy: 0.7345\n",
      "Epoch 3/50\n",
      "235/246 [===========================>..] - ETA: 0s - loss: 0.4860 - accuracy: 0.7332\n",
      "Epoch 3: val_loss did not improve from 0.44383\n",
      "246/246 [==============================] - 1s 3ms/step - loss: 0.4860 - accuracy: 0.7344 - val_loss: 0.4442 - val_accuracy: 0.7345\n",
      "Epoch 4/50\n",
      "235/246 [===========================>..] - ETA: 0s - loss: 0.4864 - accuracy: 0.7313\n",
      "Epoch 4: val_loss improved from 0.44383 to 0.44283, saving model to best_model.h5\n",
      "246/246 [==============================] - 1s 3ms/step - loss: 0.4837 - accuracy: 0.7344 - val_loss: 0.4428 - val_accuracy: 0.7345\n",
      "Epoch 5/50\n",
      "238/246 [============================>.] - ETA: 0s - loss: 0.4781 - accuracy: 0.7353\n",
      "Epoch 5: val_loss improved from 0.44283 to 0.44143, saving model to best_model.h5\n",
      "246/246 [==============================] - 1s 4ms/step - loss: 0.4790 - accuracy: 0.7344 - val_loss: 0.4414 - val_accuracy: 0.7345\n",
      "Epoch 6/50\n",
      "234/246 [===========================>..] - ETA: 0s - loss: 0.4862 - accuracy: 0.7329\n",
      "Epoch 6: val_loss did not improve from 0.44143\n",
      "246/246 [==============================] - 1s 5ms/step - loss: 0.4840 - accuracy: 0.7344 - val_loss: 0.4433 - val_accuracy: 0.7345\n",
      "Epoch 7/50\n",
      "235/246 [===========================>..] - ETA: 0s - loss: 0.4758 - accuracy: 0.7362\n",
      "Epoch 7: val_loss improved from 0.44143 to 0.43899, saving model to best_model.h5\n",
      "246/246 [==============================] - 1s 3ms/step - loss: 0.4750 - accuracy: 0.7344 - val_loss: 0.4390 - val_accuracy: 0.7345\n",
      "Epoch 8/50\n",
      "225/246 [==========================>...] - ETA: 0s - loss: 0.4789 - accuracy: 0.7356\n",
      "Epoch 8: val_loss did not improve from 0.43899\n",
      "246/246 [==============================] - 1s 3ms/step - loss: 0.4792 - accuracy: 0.7344 - val_loss: 0.4414 - val_accuracy: 0.7345\n",
      "Epoch 9/50\n",
      "236/246 [===========================>..] - ETA: 0s - loss: 0.4770 - accuracy: 0.7364\n",
      "Epoch 9: val_loss did not improve from 0.43899\n",
      "246/246 [==============================] - 1s 2ms/step - loss: 0.4790 - accuracy: 0.7344 - val_loss: 0.4406 - val_accuracy: 0.7345\n",
      "Epoch 10/50\n",
      "224/246 [==========================>...] - ETA: 0s - loss: 0.4813 - accuracy: 0.7335\n",
      "Epoch 10: val_loss did not improve from 0.43899\n",
      "246/246 [==============================] - 1s 3ms/step - loss: 0.4816 - accuracy: 0.7344 - val_loss: 0.4401 - val_accuracy: 0.7345\n",
      "Epoch 11/50\n",
      "229/246 [==========================>...] - ETA: 0s - loss: 0.4758 - accuracy: 0.7336\n",
      "Epoch 11: val_loss did not improve from 0.43899\n",
      "246/246 [==============================] - 1s 3ms/step - loss: 0.4771 - accuracy: 0.7344 - val_loss: 0.4406 - val_accuracy: 0.7345\n",
      "Epoch 12/50\n",
      "222/246 [==========================>...] - ETA: 0s - loss: 0.4752 - accuracy: 0.7369\n",
      "Epoch 12: val_loss did not improve from 0.43899\n",
      "246/246 [==============================] - 1s 3ms/step - loss: 0.4786 - accuracy: 0.7344 - val_loss: 0.4393 - val_accuracy: 0.7345\n",
      "Epoch 12: early stopping\n"
     ]
    }
   ],
   "source": [
    "history = model.fit(x=X_train, y=y_train, \n",
    "          epochs=50 , batch_size=20,\n",
    "          validation_data=(X_test, y_test), verbose=1,\n",
    "          callbacks=[early_stop, check_point])"
   ]
  },
  {
   "cell_type": "markdown",
   "metadata": {
    "id": "pWF_TAU-0YIV"
   },
   "source": [
    "####  \n",
    "## ⑧ 모델 성능 평가"
   ]
  },
  {
   "cell_type": "markdown",
   "metadata": {
    "id": "LwkmcZV90YIV"
   },
   "source": [
    "### 성능 시각화"
   ]
  },
  {
   "cell_type": "code",
   "execution_count": null,
   "metadata": {
    "colab": {
     "background_save": true
    },
    "id": "p3Z4OGG40YIW",
    "scrolled": true
   },
   "outputs": [
    {
     "data": {
      "image/png": "[encoded data removed]",
      "text/plain": [
       "<Figure size 432x288 with 1 Axes>"
      ]
     },
     "metadata": {},
     "output_type": "display_data"
    }
   ],
   "source": [
    "plt.plot(history.history['accuracy'])\n",
    "plt.plot(history.history['val_accuracy'])\n",
    "plt.title('Accuracy')\n",
    "plt.xlabel('Epochs')\n",
    "plt.ylabel('Acc')\n",
    "plt.legend(['acc', 'val_acc'])\n",
    "plt.show()"
   ]
  },
  {
   "cell_type": "markdown",
   "metadata": {
    "id": "1u_eyBJL0YIW"
   },
   "source": [
    "### 성능 평가"
   ]
  },
  {
   "cell_type": "code",
   "execution_count": null,
   "metadata": {
    "colab": {
     "background_save": true
    },
    "id": "7tztF7yi0YIW"
   },
   "outputs": [],
   "source": [
    "from sklearn.metrics import accuracy_score, precision_score, recall_score, f1_score\n",
    "from sklearn.metrics import classification_report"
   ]
  },
  {
   "cell_type": "code",
   "execution_count": null,
   "metadata": {
    "colab": {
     "background_save": true
    },
    "id": "3IWrThr20YIW"
   },
   "outputs": [
    {
     "name": "stdout",
     "output_type": "stream",
     "text": [
      "66/66 [==============================] - 0s 1ms/step\n"
     ]
    }
   ],
   "source": [
    "pred = model.predict(X_test)"
   ]
  },
  {
   "cell_type": "code",
   "execution_count": null,
   "metadata": {
    "colab": {
     "background_save": true
    },
    "id": "y_q7Pz-j0YIW"
   },
   "outputs": [
    {
     "data": {
      "text/plain": [
       "(2109, 2)"
      ]
     },
     "execution_count": 83,
     "metadata": {},
     "output_type": "execute_result"
    }
   ],
   "source": [
    "pred.shape"
   ]
  },
  {
   "cell_type": "code",
   "execution_count": null,
   "metadata": {
    "colab": {
     "background_save": true
    },
    "id": "ogC2i7810YIa"
   },
   "outputs": [],
   "source": [
    "y_pred = np.argmax(pred, axis=1)"
   ]
  },
  {
   "cell_type": "code",
   "execution_count": null,
   "metadata": {
    "colab": {
     "background_save": true
    },
    "id": "nEI_Exmv0YIa"
   },
   "outputs": [
    {
     "data": {
      "text/plain": [
       "0.7344713134186819"
      ]
     },
     "execution_count": 85,
     "metadata": {},
     "output_type": "execute_result"
    }
   ],
   "source": [
    "# 정확도 80%\n",
    "accuracy_score(y_test, y_pred)"
   ]
  },
  {
   "cell_type": "code",
   "execution_count": null,
   "metadata": {
    "colab": {
     "background_save": true
    },
    "id": "Ftb7Y6K_0YIa"
   },
   "outputs": [
    {
     "data": {
      "text/plain": [
       "0.0"
      ]
     },
     "execution_count": 86,
     "metadata": {},
     "output_type": "execute_result"
    }
   ],
   "source": [
    "# 재현율 성능이 좋지 않다\n",
    "recall_score(y_test, y_pred)"
   ]
  },
  {
   "cell_type": "code",
   "execution_count": null,
   "metadata": {
    "colab": {
     "background_save": true
    },
    "id": "zEdx0ESm0YIb"
   },
   "outputs": [
    {
     "name": "stdout",
     "output_type": "stream",
     "text": [
      "              precision    recall  f1-score   support\n",
      "\n",
      "           0       0.73      1.00      0.85      1549\n",
      "           1       0.00      0.00      0.00       560\n",
      "\n",
      "    accuracy                           0.73      2109\n",
      "   macro avg       0.37      0.50      0.42      2109\n",
      "weighted avg       0.54      0.73      0.62      2109\n",
      "\n"
     ]
    },
    {
     "name": "stderr",
     "output_type": "stream",
     "text": [
      "/usr/local/lib/python3.9/dist-packages/sklearn/metrics/_classification.py:1344: UndefinedMetricWarning: Precision and F-score are ill-defined and being set to 0.0 in labels with no predicted samples. Use `zero_division` parameter to control this behavior.\n",
      "  _warn_prf(average, modifier, msg_start, len(result))\n",
      "/usr/local/lib/python3.9/dist-packages/sklearn/metrics/_classification.py:1344: UndefinedMetricWarning: Precision and F-score are ill-defined and being set to 0.0 in labels with no predicted samples. Use `zero_division` parameter to control this behavior.\n",
      "  _warn_prf(average, modifier, msg_start, len(result))\n",
      "/usr/local/lib/python3.9/dist-packages/sklearn/metrics/_classification.py:1344: UndefinedMetricWarning: Precision and F-score are ill-defined and being set to 0.0 in labels with no predicted samples. Use `zero_division` parameter to control this behavior.\n",
      "  _warn_prf(average, modifier, msg_start, len(result))\n"
     ]
    }
   ],
   "source": [
    "# accuracy, recall, precision 성능 한번에 보기\n",
    "\n",
    "print(classification_report(y_test, y_pred))"
   ]
  },
  {
   "cell_type": "markdown",
   "metadata": {
    "id": "7897QYB80YIb"
   },
   "source": [
    "#  \n",
    "# 2. 재현율 성능이 좋지 않다. 어떻게 성능향상 할수 있나?\n",
    "+ 성능향상 할수 있는 방법은 여러가지 있습니다.\n",
    "+ DNN 하이퍼 파라미터 수정하면서 성능향상이 되는지 확인\n",
    "+ 데이터 줄이거나 늘리거나, Feature(컬럼)을 늘리거나 줄이거나 하는 식의 Feature Engineering 방법"
   ]
  },
  {
   "cell_type": "markdown",
   "metadata": {
    "id": "fiWiXYwK0YIb"
   },
   "source": [
    "####  \n",
    "## Feature Engineering 통한 성능향상\n",
    "+ 불균현 Churn 데이터 균형 맞추기 : OverSampling, UnderSampling\n",
    "+ OverSampling 기법 : SMOTE(Synthetic Minority Over-sampling Technique) \n",
    "+ 참조사이트 : https://datascienceschool.net/03%20machine%20learning/14.02%20%EB%B9%84%EB%8C%80%EC%B9%AD%20%EB%8D%B0%EC%9D%B4%ED%84%B0%20%EB%AC%B8%EC%A0%9C.html"
   ]
  },
  {
   "cell_type": "markdown",
   "metadata": {
    "id": "b3YkI1TY0YIb"
   },
   "source": [
    "![SMOTE](https://github.com/gzone2000/TEMP_TEST/raw/master/SMOTE.png)"
   ]
  },
  {
   "cell_type": "markdown",
   "metadata": {
    "id": "kstnDhLB0YIb"
   },
   "source": [
    "### imbalanced-learn 패키지 설치\n",
    "+ imbalanced data 문제를 해결하기 위한 다양한 샘플링 방법을 구현한 파이썬 패키지"
   ]
  },
  {
   "cell_type": "code",
   "execution_count": null,
   "metadata": {
    "colab": {
     "background_save": true
    },
    "id": "0Z0Qetyc0YIb",
    "scrolled": true
   },
   "outputs": [
    {
     "name": "stdout",
     "output_type": "stream",
     "text": [
      "Looking in indexes: https://pypi.org/simple, https://us-python.pkg.dev/colab-wheels/public/simple/\n",
      "Requirement already satisfied: imbalanced-learn in /usr/local/lib/python3.9/dist-packages (0.8.1)\n",
      "Collecting imbalanced-learn\n",
      "  Downloading imbalanced_learn-0.10.1-py3-none-any.whl (226 kB)\n",
      "\u001b[2K     \u001b[90m━━━━━━━━━━━━━━━━━━━━━━━━━━━━━━━━━━━━━━━\u001b[0m \u001b[32m226.0/226.0 KB\u001b[0m \u001b[31m7.6 MB/s\u001b[0m eta \u001b[36m0:00:00\u001b[0m\n",
      "\u001b[?25hRequirement already satisfied: numpy>=1.17.3 in /usr/local/lib/python3.9/dist-packages (from imbalanced-learn) (1.22.4)\n",
      "Requirement already satisfied: scikit-learn>=1.0.2 in /usr/local/lib/python3.9/dist-packages (from imbalanced-learn) (1.2.2)\n",
      "Requirement already satisfied: threadpoolctl>=2.0.0 in /usr/local/lib/python3.9/dist-packages (from imbalanced-learn) (3.1.0)\n",
      "Requirement already satisfied: scipy>=1.3.2 in /usr/local/lib/python3.9/dist-packages (from imbalanced-learn) (1.10.1)\n",
      "Requirement already satisfied: joblib>=1.1.1 in /usr/local/lib/python3.9/dist-packages (from imbalanced-learn) (1.1.1)\n",
      "Installing collected packages: imbalanced-learn\n",
      "  Attempting uninstall: imbalanced-learn\n",
      "    Found existing installation: imbalanced-learn 0.8.1\n",
      "    Uninstalling imbalanced-learn-0.8.1:\n",
      "      Successfully uninstalled imbalanced-learn-0.8.1\n",
      "Successfully installed imbalanced-learn-0.10.1\n"
     ]
    }
   ],
   "source": [
    "!pip install -U imbalanced-learn"
   ]
  },
  {
   "cell_type": "markdown",
   "metadata": {
    "id": "3dvd2MA-0YIc"
   },
   "source": [
    "####  \n",
    "### SMOTE 함수 이용하여 Oversampling"
   ]
  },
  {
   "cell_type": "code",
   "execution_count": null,
   "metadata": {
    "colab": {
     "background_save": true
    },
    "id": "wCdb2lYr0YIc"
   },
   "outputs": [],
   "source": [
    "from imblearn.over_sampling import SMOTE"
   ]
  },
  {
   "cell_type": "code",
   "execution_count": null,
   "metadata": {
    "colab": {
     "background_save": true
    },
    "id": "Vr-FkjZC0YIc"
   },
   "outputs": [],
   "source": [
    "# SMOTE 함수 정의 및 Oversampling 수행\n",
    "\n",
    "smote = SMOTE(random_state=0)\n",
    "X_train_over, y_train_over = smote.fit_resample(X_train, y_train)"
   ]
  },
  {
   "cell_type": "code",
   "execution_count": null,
   "metadata": {
    "colab": {
     "background_save": true
    },
    "id": "AWs6dQU50YIc"
   },
   "outputs": [
    {
     "name": "stdout",
     "output_type": "stream",
     "text": [
      "SMOTE 적용 전 학습용 피처/레이블 데이터 세트:  (4918, 39) (4918,)\n",
      "SMOTE 적용 후 학습용 피처/레이블 데이터 세트:  (7224, 39) (7224,)\n"
     ]
    }
   ],
   "source": [
    "print('SMOTE 적용 전 학습용 피처/레이블 데이터 세트: ', X_train.shape, y_train.shape)\n",
    "print('SMOTE 적용 후 학습용 피처/레이블 데이터 세트: ', X_train_over.shape, y_train_over.shape)"
   ]
  },
  {
   "cell_type": "code",
   "execution_count": null,
   "metadata": {
    "colab": {
     "background_save": true
    },
    "id": "RPPj3I2T0YId"
   },
   "outputs": [
    {
     "data": {
      "text/plain": [
       "0    3612\n",
       "1    3612\n",
       "dtype: int64"
      ]
     },
     "execution_count": 92,
     "metadata": {},
     "output_type": "execute_result"
    }
   ],
   "source": [
    "# SMOTE 적용 후 레이블 값 분포 : 0과 1 갯수가 동일 \n",
    "pd.Series(y_train_over).value_counts()"
   ]
  },
  {
   "cell_type": "markdown",
   "metadata": {
    "id": "KWSRIlA20YId"
   },
   "source": [
    "####  \n",
    "### 데이터 정규화"
   ]
  },
  {
   "cell_type": "code",
   "execution_count": null,
   "metadata": {
    "colab": {
     "background_save": true
    },
    "id": "2Ykxk8kL0YId"
   },
   "outputs": [],
   "source": [
    "# MinMaxScaler\n",
    "from sklearn.preprocessing import MinMaxScaler\n",
    "\n",
    "scaler = MinMaxScaler()\n",
    "scaler.fit(X_train)\n",
    "X_train_over = scaler.transform(X_train_over)\n",
    "X_test = scaler.transform(X_test)"
   ]
  },
  {
   "cell_type": "code",
   "execution_count": null,
   "metadata": {
    "colab": {
     "background_save": true
    },
    "id": "Sg6z7eC30YId"
   },
   "outputs": [
    {
     "data": {
      "text/plain": [
       "((7224, 39), (7224,), (2109, 39), (2109,))"
      ]
     },
     "execution_count": 94,
     "metadata": {},
     "output_type": "execute_result"
    }
   ],
   "source": [
    "X_train_over.shape, y_train_over.shape, X_test.shape, y_test.shape"
   ]
  },
  {
   "cell_type": "markdown",
   "metadata": {
    "id": "pXNCh5DU0YId"
   },
   "source": [
    "####  \n",
    "### 모델 개발(Creating the Model)"
   ]
  },
  {
   "cell_type": "code",
   "execution_count": null,
   "metadata": {
    "colab": {
     "background_save": true
    },
    "id": "aqHIkUKF0YIe"
   },
   "outputs": [],
   "source": [
    "model = Sequential()\n",
    "model.add(Dense(64, activation='relu', input_shape=(39,)))\n",
    "model.add(Dropout(0.3))\n",
    "model.add(Dense(32, activation='relu'))\n",
    "model.add(Dropout(0.3))\n",
    "model.add(Dense(16, activation='relu'))\n",
    "model.add(Dropout(0.3))\n",
    "model.add(Dense(2, activation='softmax'))"
   ]
  },
  {
   "cell_type": "code",
   "execution_count": null,
   "metadata": {
    "colab": {
     "background_save": true
    },
    "id": "Q11y4xL00YIe"
   },
   "outputs": [],
   "source": [
    "model.compile(optimizer='adam', \n",
    "              loss='sparse_categorical_crossentropy', \n",
    "              metrics=['accuracy']) "
   ]
  },
  {
   "cell_type": "code",
   "execution_count": null,
   "metadata": {
    "colab": {
     "background_save": true
    },
    "id": "BEtI8XeR0YIe"
   },
   "outputs": [],
   "source": [
    "# 여기서는 val_accuracy 모니터링해서 성능이 좋아지지 않으면 조기 종료 하게 함.\n",
    "early_stop = EarlyStopping(monitor='val_accuracy', mode='max', \n",
    "                           verbose=1, patience=5)"
   ]
  },
  {
   "cell_type": "code",
   "execution_count": null,
   "metadata": {
    "colab": {
     "background_save": true
    },
    "id": "Rby6O0xa0YIe"
   },
   "outputs": [],
   "source": [
    "check_point = ModelCheckpoint('best_model.h5', verbose=1,\n",
    "                              monitor='val_loss', mode='min', \n",
    "                              save_best_only=True)"
   ]
  },
  {
   "cell_type": "code",
   "execution_count": null,
   "metadata": {
    "colab": {
     "background_save": true
    },
    "id": "-VXAZpC00YIe"
   },
   "outputs": [
    {
     "name": "stdout",
     "output_type": "stream",
     "text": [
      "Epoch 1/50\n",
      "218/226 [===========================>..] - ETA: 0s - loss: 0.5847 - accuracy: 0.6925\n",
      "Epoch 1: val_loss improved from inf to 0.49566, saving model to best_model.h5\n",
      "226/226 [==============================] - 3s 5ms/step - loss: 0.5839 - accuracy: 0.6937 - val_loss: 0.4957 - val_accuracy: 0.7359\n",
      "Epoch 2/50\n",
      "215/226 [===========================>..] - ETA: 0s - loss: 0.5277 - accuracy: 0.7539\n",
      "Epoch 2: val_loss did not improve from 0.49566\n",
      "226/226 [==============================] - 1s 2ms/step - loss: 0.5264 - accuracy: 0.7537 - val_loss: 0.5040 - val_accuracy: 0.7378\n",
      "Epoch 3/50\n",
      "209/226 [==========================>...] - ETA: 0s - loss: 0.5011 - accuracy: 0.7703\n",
      "Epoch 3: val_loss improved from 0.49566 to 0.48925, saving model to best_model.h5\n",
      "226/226 [==============================] - 1s 3ms/step - loss: 0.5035 - accuracy: 0.7694 - val_loss: 0.4892 - val_accuracy: 0.7463\n",
      "Epoch 4/50\n",
      "225/226 [============================>.] - ETA: 0s - loss: 0.4962 - accuracy: 0.7717\n",
      "Epoch 4: val_loss did not improve from 0.48925\n",
      "226/226 [==============================] - 1s 3ms/step - loss: 0.4955 - accuracy: 0.7719 - val_loss: 0.4896 - val_accuracy: 0.7454\n",
      "Epoch 5/50\n",
      "207/226 [==========================>...] - ETA: 0s - loss: 0.4893 - accuracy: 0.7720\n",
      "Epoch 5: val_loss improved from 0.48925 to 0.48801, saving model to best_model.h5\n",
      "226/226 [==============================] - 1s 3ms/step - loss: 0.4868 - accuracy: 0.7733 - val_loss: 0.4880 - val_accuracy: 0.7440\n",
      "Epoch 6/50\n",
      "213/226 [===========================>..] - ETA: 0s - loss: 0.4784 - accuracy: 0.7764\n",
      "Epoch 6: val_loss improved from 0.48801 to 0.47243, saving model to best_model.h5\n",
      "226/226 [==============================] - 1s 3ms/step - loss: 0.4793 - accuracy: 0.7753 - val_loss: 0.4724 - val_accuracy: 0.7534\n",
      "Epoch 7/50\n",
      "213/226 [===========================>..] - ETA: 0s - loss: 0.4746 - accuracy: 0.7808\n",
      "Epoch 7: val_loss did not improve from 0.47243\n",
      "226/226 [==============================] - 1s 4ms/step - loss: 0.4780 - accuracy: 0.7792 - val_loss: 0.4979 - val_accuracy: 0.7425\n",
      "Epoch 8/50\n",
      "212/226 [===========================>..] - ETA: 0s - loss: 0.4702 - accuracy: 0.7827\n",
      "Epoch 8: val_loss did not improve from 0.47243\n",
      "226/226 [==============================] - 1s 3ms/step - loss: 0.4715 - accuracy: 0.7820 - val_loss: 0.4766 - val_accuracy: 0.7572\n",
      "Epoch 9/50\n",
      "220/226 [============================>.] - ETA: 0s - loss: 0.4667 - accuracy: 0.7841\n",
      "Epoch 9: val_loss did not improve from 0.47243\n",
      "226/226 [==============================] - 1s 3ms/step - loss: 0.4668 - accuracy: 0.7834 - val_loss: 0.4738 - val_accuracy: 0.7606\n",
      "Epoch 10/50\n",
      "221/226 [============================>.] - ETA: 0s - loss: 0.4621 - accuracy: 0.7849\n",
      "Epoch 10: val_loss did not improve from 0.47243\n",
      "226/226 [==============================] - 1s 3ms/step - loss: 0.4606 - accuracy: 0.7864 - val_loss: 0.5079 - val_accuracy: 0.7278\n",
      "Epoch 11/50\n",
      "214/226 [===========================>..] - ETA: 0s - loss: 0.4568 - accuracy: 0.7915\n",
      "Epoch 11: val_loss did not improve from 0.47243\n",
      "226/226 [==============================] - 1s 3ms/step - loss: 0.4562 - accuracy: 0.7919 - val_loss: 0.4999 - val_accuracy: 0.7354\n",
      "Epoch 12/50\n",
      "216/226 [===========================>..] - ETA: 0s - loss: 0.4557 - accuracy: 0.7933\n",
      "Epoch 12: val_loss did not improve from 0.47243\n",
      "226/226 [==============================] - 1s 3ms/step - loss: 0.4551 - accuracy: 0.7926 - val_loss: 0.4880 - val_accuracy: 0.7496\n",
      "Epoch 13/50\n",
      "219/226 [============================>.] - ETA: 0s - loss: 0.4464 - accuracy: 0.7958\n",
      "Epoch 13: val_loss improved from 0.47243 to 0.47006, saving model to best_model.h5\n",
      "226/226 [==============================] - 1s 3ms/step - loss: 0.4481 - accuracy: 0.7951 - val_loss: 0.4701 - val_accuracy: 0.7606\n",
      "Epoch 14/50\n",
      "209/226 [==========================>...] - ETA: 0s - loss: 0.4428 - accuracy: 0.7935\n",
      "Epoch 14: val_loss improved from 0.47006 to 0.46873, saving model to best_model.h5\n",
      "226/226 [==============================] - 1s 3ms/step - loss: 0.4447 - accuracy: 0.7931 - val_loss: 0.4687 - val_accuracy: 0.7487\n",
      "Epoch 14: early stopping\n"
     ]
    }
   ],
   "source": [
    "history = model.fit(x=X_train_over, y=y_train_over, \n",
    "          epochs=50 , batch_size=32,\n",
    "          validation_data=(X_test, y_test), verbose=1,\n",
    "          callbacks=[early_stop, check_point])"
   ]
  },
  {
   "cell_type": "markdown",
   "metadata": {
    "id": "gEARelPF0YIf"
   },
   "source": [
    "####  \n",
    "### 모델 성능 평가"
   ]
  },
  {
   "cell_type": "markdown",
   "metadata": {
    "id": "D-Jy63Ku0YIf"
   },
   "source": [
    "#### 성능 시각화"
   ]
  },
  {
   "cell_type": "code",
   "execution_count": null,
   "metadata": {
    "colab": {
     "background_save": true
    },
    "id": "Dscj1l_C0YIg",
    "scrolled": true
   },
   "outputs": [
    {
     "data": {
      "image/png": "[encoded data removed]",
      "text/plain": [
       "<Figure size 432x288 with 1 Axes>"
      ]
     },
     "metadata": {},
     "output_type": "display_data"
    }
   ],
   "source": [
    "plt.plot(history.history['accuracy'])\n",
    "plt.plot(history.history['val_accuracy'])\n",
    "plt.title('Accuracy')\n",
    "plt.xlabel('Epochs')\n",
    "plt.ylabel('Acc')\n",
    "plt.legend(['acc', 'val_acc'])\n",
    "plt.show()"
   ]
  },
  {
   "cell_type": "markdown",
   "metadata": {
    "id": "JxdSoKeK0YIg"
   },
   "source": [
    "#### 성능 평가"
   ]
  },
  {
   "cell_type": "code",
   "execution_count": null,
   "metadata": {
    "colab": {
     "background_save": true
    },
    "id": "RcFwYbAw0YIg"
   },
   "outputs": [],
   "source": [
    "from sklearn.metrics import accuracy_score, precision_score, recall_score, f1_score\n",
    "from sklearn.metrics import classification_report"
   ]
  },
  {
   "cell_type": "code",
   "execution_count": null,
   "metadata": {
    "colab": {
     "background_save": true
    },
    "id": "K8q5K66K0YIg"
   },
   "outputs": [
    {
     "name": "stdout",
     "output_type": "stream",
     "text": [
      "66/66 [==============================] - 0s 1ms/step\n"
     ]
    }
   ],
   "source": [
    "pred = model.predict(X_test)"
   ]
  },
  {
   "cell_type": "code",
   "execution_count": null,
   "metadata": {
    "colab": {
     "background_save": true
    },
    "id": "o6aPdPsm0YIg"
   },
   "outputs": [
    {
     "data": {
      "text/plain": [
       "(2109, 2)"
      ]
     },
     "execution_count": 103,
     "metadata": {},
     "output_type": "execute_result"
    }
   ],
   "source": [
    "pred.shape"
   ]
  },
  {
   "cell_type": "code",
   "execution_count": null,
   "metadata": {
    "colab": {
     "background_save": true
    },
    "id": "DgLTZU3r0YIh"
   },
   "outputs": [],
   "source": [
    "y_pred = np.argmax(pred, axis=1)"
   ]
  },
  {
   "cell_type": "code",
   "execution_count": null,
   "metadata": {
    "colab": {
     "background_save": true
    },
    "id": "HnJuNtcG0YIh"
   },
   "outputs": [
    {
     "data": {
      "text/plain": [
       "0.7486960644855382"
      ]
     },
     "execution_count": 105,
     "metadata": {},
     "output_type": "execute_result"
    }
   ],
   "source": [
    "# 정확도 70~80%\n",
    "accuracy_score(y_test, y_pred)"
   ]
  },
  {
   "cell_type": "code",
   "execution_count": null,
   "metadata": {
    "colab": {
     "background_save": true
    },
    "id": "29pLPidt0YIh"
   },
   "outputs": [
    {
     "data": {
      "text/plain": [
       "0.7571428571428571"
      ]
     },
     "execution_count": 106,
     "metadata": {},
     "output_type": "execute_result"
    }
   ],
   "source": [
    "# 재현율 70% 정도로 이전보다 좋아졌다.\n",
    "recall_score(y_test, y_pred)"
   ]
  },
  {
   "cell_type": "code",
   "execution_count": null,
   "metadata": {
    "colab": {
     "background_save": true
    },
    "id": "-inYBRsx0YIh"
   },
   "outputs": [
    {
     "name": "stdout",
     "output_type": "stream",
     "text": [
      "              precision    recall  f1-score   support\n",
      "\n",
      "           0       0.89      0.75      0.81      1549\n",
      "           1       0.52      0.76      0.62       560\n",
      "\n",
      "    accuracy                           0.75      2109\n",
      "   macro avg       0.71      0.75      0.71      2109\n",
      "weighted avg       0.79      0.75      0.76      2109\n",
      "\n"
     ]
    }
   ],
   "source": [
    "# recall 성능을 올렸지만, 반대급부로 precision 성능은 떨어진다.\n",
    "# accuracy, recall, precision 어떤것에 집중할지 선택하는것도 필요하다.\n",
    "\n",
    "print(classification_report(y_test, y_pred))"
   ]
  },
  {
   "cell_type": "markdown",
   "metadata": {
    "id": "KsnemPIy0YIi"
   },
   "source": [
    "###  \n",
    "## 배운 내용 정리\n",
    "1. 딥러닝 심층신경망(DNN) 모델 프로세스\n",
    " + 데이터 가져오기\n",
    " + 데이터 전처리\n",
    " + Train, Test 데이터셋 분할\n",
    " + 데이터 정규화\n",
    " + DNN 딥러닝 모델\n",
    "2. 재현율 성능이 좋지 않다. 어떻게 성능향상 방법은?\n",
    " + Feature Engineering : 성능 잘 나올수 있도록 데이터 가공\n",
    " + 불균현 데이터 문제 해소 : under-sampling, over-sampling\n",
    " + Over-Sampling 기법 : SMOTE"
   ]
  }
 ],
 "metadata": {
  "colab": {
   "name": "",
   "version": ""
  },
  "kernelspec": {
   "display_name": "Python 3 (ipykernel)",
   "language": "python",
   "name": "python3"
  },
  "language_info": {
   "codemirror_mode": {
    "name": "ipython",
    "version": 3
   },
   "file_extension": ".py",
   "mimetype": "text/x-python",
   "name": "python",
   "nbconvert_exporter": "python",
   "pygments_lexer": "ipython3",
   "version": "3.11.5"
  }
 },
 "nbformat": 4,
 "nbformat_minor": 1
}
