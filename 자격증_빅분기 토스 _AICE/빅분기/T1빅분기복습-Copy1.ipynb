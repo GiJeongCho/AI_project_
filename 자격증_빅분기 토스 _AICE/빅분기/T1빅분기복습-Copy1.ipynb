{
 "cells": [
  {
   "cell_type": "code",
   "execution_count": 7,
   "metadata": {},
   "outputs": [],
   "source": [
    "path = r\"C:\\Users\\Happy\\Desktop\\AI_project\\자격증_빅분기 토스 _AICE\\빅분기\\input\""
   ]
  },
  {
   "cell_type": "code",
   "execution_count": null,
   "metadata": {},
   "outputs": [],
   "source": []
  },
  {
   "cell_type": "markdown",
   "metadata": {},
   "source": [
    "T1\n",
    "데이터에서 IQR을 활용해 Fare컬럼의 이상치를 찾고, 이상치 데이터의 여성 수를 구하시오\n",
    "강의 영상 : https://youtu.be/ipBW5D_UJEo\n",
    "데이터셋 : titanic\n",
    "오른쪽 상단 copy&edit 클릭 -> 예상문제 풀이 시작\n",
    "데이터 위치 \"../input/titanic/train.csv\" (copy&edit가 아닐 경우 별도로 데이터셋 불러와야 함)"
   ]
  },
  {
   "cell_type": "code",
   "execution_count": 8,
   "metadata": {},
   "outputs": [
    {
     "data": {
      "text/html": [
       "<div>\n",
       "<style scoped>\n",
       "    .dataframe tbody tr th:only-of-type {\n",
       "        vertical-align: middle;\n",
       "    }\n",
       "\n",
       "    .dataframe tbody tr th {\n",
       "        vertical-align: top;\n",
       "    }\n",
       "\n",
       "    .dataframe thead th {\n",
       "        text-align: right;\n",
       "    }\n",
       "</style>\n",
       "<table border=\"1\" class=\"dataframe\">\n",
       "  <thead>\n",
       "    <tr style=\"text-align: right;\">\n",
       "      <th></th>\n",
       "      <th>PassengerId</th>\n",
       "      <th>Survived</th>\n",
       "      <th>Pclass</th>\n",
       "      <th>Name</th>\n",
       "      <th>Sex</th>\n",
       "      <th>Age</th>\n",
       "      <th>SibSp</th>\n",
       "      <th>Parch</th>\n",
       "      <th>Ticket</th>\n",
       "      <th>Fare</th>\n",
       "      <th>Cabin</th>\n",
       "      <th>Embarked</th>\n",
       "    </tr>\n",
       "  </thead>\n",
       "  <tbody>\n",
       "    <tr>\n",
       "      <th>0</th>\n",
       "      <td>1</td>\n",
       "      <td>0</td>\n",
       "      <td>3</td>\n",
       "      <td>Braund, Mr. Owen Harris</td>\n",
       "      <td>male</td>\n",
       "      <td>22.0</td>\n",
       "      <td>1</td>\n",
       "      <td>0</td>\n",
       "      <td>A/5 21171</td>\n",
       "      <td>7.2500</td>\n",
       "      <td>NaN</td>\n",
       "      <td>S</td>\n",
       "    </tr>\n",
       "    <tr>\n",
       "      <th>1</th>\n",
       "      <td>2</td>\n",
       "      <td>1</td>\n",
       "      <td>1</td>\n",
       "      <td>Cumings, Mrs. John Bradley (Florence Briggs Th...</td>\n",
       "      <td>female</td>\n",
       "      <td>38.0</td>\n",
       "      <td>1</td>\n",
       "      <td>0</td>\n",
       "      <td>PC 17599</td>\n",
       "      <td>71.2833</td>\n",
       "      <td>C85</td>\n",
       "      <td>C</td>\n",
       "    </tr>\n",
       "    <tr>\n",
       "      <th>2</th>\n",
       "      <td>3</td>\n",
       "      <td>1</td>\n",
       "      <td>3</td>\n",
       "      <td>Heikkinen, Miss. Laina</td>\n",
       "      <td>female</td>\n",
       "      <td>26.0</td>\n",
       "      <td>0</td>\n",
       "      <td>0</td>\n",
       "      <td>STON/O2. 3101282</td>\n",
       "      <td>7.9250</td>\n",
       "      <td>NaN</td>\n",
       "      <td>S</td>\n",
       "    </tr>\n",
       "    <tr>\n",
       "      <th>3</th>\n",
       "      <td>4</td>\n",
       "      <td>1</td>\n",
       "      <td>1</td>\n",
       "      <td>Futrelle, Mrs. Jacques Heath (Lily May Peel)</td>\n",
       "      <td>female</td>\n",
       "      <td>35.0</td>\n",
       "      <td>1</td>\n",
       "      <td>0</td>\n",
       "      <td>113803</td>\n",
       "      <td>53.1000</td>\n",
       "      <td>C123</td>\n",
       "      <td>S</td>\n",
       "    </tr>\n",
       "    <tr>\n",
       "      <th>4</th>\n",
       "      <td>5</td>\n",
       "      <td>0</td>\n",
       "      <td>3</td>\n",
       "      <td>Allen, Mr. William Henry</td>\n",
       "      <td>male</td>\n",
       "      <td>35.0</td>\n",
       "      <td>0</td>\n",
       "      <td>0</td>\n",
       "      <td>373450</td>\n",
       "      <td>8.0500</td>\n",
       "      <td>NaN</td>\n",
       "      <td>S</td>\n",
       "    </tr>\n",
       "    <tr>\n",
       "      <th>...</th>\n",
       "      <td>...</td>\n",
       "      <td>...</td>\n",
       "      <td>...</td>\n",
       "      <td>...</td>\n",
       "      <td>...</td>\n",
       "      <td>...</td>\n",
       "      <td>...</td>\n",
       "      <td>...</td>\n",
       "      <td>...</td>\n",
       "      <td>...</td>\n",
       "      <td>...</td>\n",
       "      <td>...</td>\n",
       "    </tr>\n",
       "    <tr>\n",
       "      <th>886</th>\n",
       "      <td>887</td>\n",
       "      <td>0</td>\n",
       "      <td>2</td>\n",
       "      <td>Montvila, Rev. Juozas</td>\n",
       "      <td>male</td>\n",
       "      <td>27.0</td>\n",
       "      <td>0</td>\n",
       "      <td>0</td>\n",
       "      <td>211536</td>\n",
       "      <td>13.0000</td>\n",
       "      <td>NaN</td>\n",
       "      <td>S</td>\n",
       "    </tr>\n",
       "    <tr>\n",
       "      <th>887</th>\n",
       "      <td>888</td>\n",
       "      <td>1</td>\n",
       "      <td>1</td>\n",
       "      <td>Graham, Miss. Margaret Edith</td>\n",
       "      <td>female</td>\n",
       "      <td>19.0</td>\n",
       "      <td>0</td>\n",
       "      <td>0</td>\n",
       "      <td>112053</td>\n",
       "      <td>30.0000</td>\n",
       "      <td>B42</td>\n",
       "      <td>S</td>\n",
       "    </tr>\n",
       "    <tr>\n",
       "      <th>888</th>\n",
       "      <td>889</td>\n",
       "      <td>0</td>\n",
       "      <td>3</td>\n",
       "      <td>Johnston, Miss. Catherine Helen \"Carrie\"</td>\n",
       "      <td>female</td>\n",
       "      <td>NaN</td>\n",
       "      <td>1</td>\n",
       "      <td>2</td>\n",
       "      <td>W./C. 6607</td>\n",
       "      <td>23.4500</td>\n",
       "      <td>NaN</td>\n",
       "      <td>S</td>\n",
       "    </tr>\n",
       "    <tr>\n",
       "      <th>889</th>\n",
       "      <td>890</td>\n",
       "      <td>1</td>\n",
       "      <td>1</td>\n",
       "      <td>Behr, Mr. Karl Howell</td>\n",
       "      <td>male</td>\n",
       "      <td>26.0</td>\n",
       "      <td>0</td>\n",
       "      <td>0</td>\n",
       "      <td>111369</td>\n",
       "      <td>30.0000</td>\n",
       "      <td>C148</td>\n",
       "      <td>C</td>\n",
       "    </tr>\n",
       "    <tr>\n",
       "      <th>890</th>\n",
       "      <td>891</td>\n",
       "      <td>0</td>\n",
       "      <td>3</td>\n",
       "      <td>Dooley, Mr. Patrick</td>\n",
       "      <td>male</td>\n",
       "      <td>32.0</td>\n",
       "      <td>0</td>\n",
       "      <td>0</td>\n",
       "      <td>370376</td>\n",
       "      <td>7.7500</td>\n",
       "      <td>NaN</td>\n",
       "      <td>Q</td>\n",
       "    </tr>\n",
       "  </tbody>\n",
       "</table>\n",
       "<p>891 rows × 12 columns</p>\n",
       "</div>"
      ],
      "text/plain": [
       "     PassengerId  Survived  Pclass  \\\n",
       "0              1         0       3   \n",
       "1              2         1       1   \n",
       "2              3         1       3   \n",
       "3              4         1       1   \n",
       "4              5         0       3   \n",
       "..           ...       ...     ...   \n",
       "886          887         0       2   \n",
       "887          888         1       1   \n",
       "888          889         0       3   \n",
       "889          890         1       1   \n",
       "890          891         0       3   \n",
       "\n",
       "                                                  Name     Sex   Age  SibSp  \\\n",
       "0                              Braund, Mr. Owen Harris    male  22.0      1   \n",
       "1    Cumings, Mrs. John Bradley (Florence Briggs Th...  female  38.0      1   \n",
       "2                               Heikkinen, Miss. Laina  female  26.0      0   \n",
       "3         Futrelle, Mrs. Jacques Heath (Lily May Peel)  female  35.0      1   \n",
       "4                             Allen, Mr. William Henry    male  35.0      0   \n",
       "..                                                 ...     ...   ...    ...   \n",
       "886                              Montvila, Rev. Juozas    male  27.0      0   \n",
       "887                       Graham, Miss. Margaret Edith  female  19.0      0   \n",
       "888           Johnston, Miss. Catherine Helen \"Carrie\"  female   NaN      1   \n",
       "889                              Behr, Mr. Karl Howell    male  26.0      0   \n",
       "890                                Dooley, Mr. Patrick    male  32.0      0   \n",
       "\n",
       "     Parch            Ticket     Fare Cabin Embarked  \n",
       "0        0         A/5 21171   7.2500   NaN        S  \n",
       "1        0          PC 17599  71.2833   C85        C  \n",
       "2        0  STON/O2. 3101282   7.9250   NaN        S  \n",
       "3        0            113803  53.1000  C123        S  \n",
       "4        0            373450   8.0500   NaN        S  \n",
       "..     ...               ...      ...   ...      ...  \n",
       "886      0            211536  13.0000   NaN        S  \n",
       "887      0            112053  30.0000   B42        S  \n",
       "888      2        W./C. 6607  23.4500   NaN        S  \n",
       "889      0            111369  30.0000  C148        C  \n",
       "890      0            370376   7.7500   NaN        Q  \n",
       "\n",
       "[891 rows x 12 columns]"
      ]
     },
     "execution_count": 8,
     "metadata": {},
     "output_type": "execute_result"
    }
   ],
   "source": [
    "# 라이브러리 및 데이터 불러오기\n",
    "import pandas as pd\n",
    "import numpy as np\n",
    "df = pd.read_csv(path+'\\\\titanic\\\\train.csv')\n",
    "df"
   ]
  },
  {
   "cell_type": "code",
   "execution_count": 35,
   "metadata": {},
   "outputs": [
    {
     "name": "stdout",
     "output_type": "stream",
     "text": [
      "70\n"
     ]
    }
   ],
   "source": [
    "IQR에 1.5 안곱해서 틀림\n",
    "\n",
    "Q3 = df['Fare'].quantile(0.75)\n",
    "Q1 = df['Fare'].quantile(0.25)\n",
    "IQR = Q3 - Q1\n",
    "IQR_upper = Q3 + IQR * 1.5 # @@ 1.5 곱해야함 !!\n",
    "IQR_lower = Q1 - IQR * 1.5\n",
    "df_1 = df.loc[(df['Fare']>IQR_upper) | (df['Fare']<IQR_lower)] # 이상치들\n",
    "print(len(df_1.loc[df_1[\"Sex\"] == \"female\"]))"
   ]
  },
  {
   "cell_type": "code",
   "execution_count": null,
   "metadata": {},
   "outputs": [],
   "source": []
  },
  {
   "cell_type": "code",
   "execution_count": null,
   "metadata": {},
   "outputs": [],
   "source": []
  },
  {
   "cell_type": "code",
   "execution_count": null,
   "metadata": {},
   "outputs": [],
   "source": []
  },
  {
   "cell_type": "code",
   "execution_count": 34,
   "metadata": {},
   "outputs": [
    {
     "name": "stdout",
     "output_type": "stream",
     "text": [
      "70\n"
     ]
    },
    {
     "name": "stderr",
     "output_type": "stream",
     "text": [
      "C:\\Users\\Happy\\AppData\\Local\\Temp\\ipykernel_2988\\3573486473.py:6: FutureWarning: Calling float on a single element Series is deprecated and will raise a TypeError in the future. Use float(ser.iloc[0]) instead\n",
      "  IQR_Q1 = float(Q1 - IQR * 1.5)\n",
      "C:\\Users\\Happy\\AppData\\Local\\Temp\\ipykernel_2988\\3573486473.py:7: FutureWarning: Calling float on a single element Series is deprecated and will raise a TypeError in the future. Use float(ser.iloc[0]) instead\n",
      "  IQR_Q3 = float(Q3 + IQR * 1.5)\n"
     ]
    }
   ],
   "source": [
    "Q3 = df[[\"Fare\"]].quantile(0.75)\n",
    "Q1 = df[[\"Fare\"]].quantile(0.25)\n",
    "\n",
    "IQR = Q3 - Q1\n",
    "\n",
    "IQR_Q1 = float(Q1 - IQR * 1.5)\n",
    "IQR_Q3 = float(Q3 + IQR * 1.5)\n",
    "\n",
    "print(len(df.loc[(df[\"Fare\"]<IQR_Q1) | (df[\"Fare\"]>IQR_Q3) & (df[\"Sex\"]==\"female\") ]))"
   ]
  },
  {
   "cell_type": "code",
   "execution_count": null,
   "metadata": {},
   "outputs": [],
   "source": []
  },
  {
   "cell_type": "code",
   "execution_count": null,
   "metadata": {},
   "outputs": [],
   "source": []
  },
  {
   "cell_type": "code",
   "execution_count": 100,
   "metadata": {},
   "outputs": [
    {
     "name": "stdout",
     "output_type": "stream",
     "text": [
      "70\n"
     ]
    }
   ],
   "source": [
    "# IQR 구하기\n",
    "df['Fare']\n",
    "Q3 = df['Fare'].quantile(0.75)\n",
    "Q1 = df['Fare'].quantile(0.25)\n",
    "\n",
    "IQR = Q3 - Q1\n",
    "\n",
    "IQR_Q3 = Q3 + IQR * 1.5\n",
    "IQR_Q1 = Q1 - IQR * 1.5\n",
    "\n",
    "df2 = df.loc[((IQR_Q1 > df[\"Fare\"]) | (IQR_Q3 < df[\"Fare\"]))] # 이상치 데이터 IQR을 이용한\n",
    "\n",
    "# 이상치 데이터에서 여성 수 구하기, 출력하기 print()\n",
    "\n",
    "print(len(df2.loc[(df2['Sex'] == 'female')]))"
   ]
  },
  {
   "cell_type": "code",
   "execution_count": 81,
   "metadata": {},
   "outputs": [
    {
     "name": "stdout",
     "output_type": "stream",
     "text": [
      "70\n"
     ]
    }
   ],
   "source": [
    "# df[[\"Fare\"]]\n",
    "upper = df[[\"Fare\"]].quantile(0.75)\n",
    "lower = df[[\"Fare\"]].quantile(0.25)\n",
    "IQR  = (upper - lower) * 1.5 \n",
    "a = float(lower - IQR) # @ 조선식 쓸 경우 데이터 타입 확인\n",
    "b = float(IQR + upper)\n",
    "answer = df.loc[(df[\"Fare\"]<a)|(b<df[\"Fare\"])][\"Sex\"].value_counts()[\"female\"] # @ femail 여성\n",
    "print(answer)"
   ]
  },
  {
   "cell_type": "markdown",
   "metadata": {},
   "source": [
    "T1-2\n",
    "\n",
    "이상치를 찾아라(소수점 나이)\n",
    "주어진 데이터에서 이상치(소수점 나이 컬럼)를 찾고 올림, 내림, 버림(절사)했을때 3가지 모두 이상치 'age' 평균을 구한 다음 모두 더하여 출력하시오\n",
    "데이터셋 : basic1.csv\n",
    "오른쪽 상단 copy&edit 클릭 -> 예상문제 풀이 시작"
   ]
  },
  {
   "cell_type": "code",
   "execution_count": 41,
   "metadata": {},
   "outputs": [
    {
     "data": {
      "text/html": [
       "<div>\n",
       "<style scoped>\n",
       "    .dataframe tbody tr th:only-of-type {\n",
       "        vertical-align: middle;\n",
       "    }\n",
       "\n",
       "    .dataframe tbody tr th {\n",
       "        vertical-align: top;\n",
       "    }\n",
       "\n",
       "    .dataframe thead th {\n",
       "        text-align: right;\n",
       "    }\n",
       "</style>\n",
       "<table border=\"1\" class=\"dataframe\">\n",
       "  <thead>\n",
       "    <tr style=\"text-align: right;\">\n",
       "      <th></th>\n",
       "      <th>id</th>\n",
       "      <th>age</th>\n",
       "      <th>city</th>\n",
       "      <th>f1</th>\n",
       "      <th>f2</th>\n",
       "      <th>f3</th>\n",
       "      <th>f4</th>\n",
       "      <th>f5</th>\n",
       "    </tr>\n",
       "  </thead>\n",
       "  <tbody>\n",
       "    <tr>\n",
       "      <th>0</th>\n",
       "      <td>id01</td>\n",
       "      <td>2.0</td>\n",
       "      <td>서울</td>\n",
       "      <td>NaN</td>\n",
       "      <td>0</td>\n",
       "      <td>NaN</td>\n",
       "      <td>ENFJ</td>\n",
       "      <td>91.297791</td>\n",
       "    </tr>\n",
       "    <tr>\n",
       "      <th>1</th>\n",
       "      <td>id02</td>\n",
       "      <td>9.0</td>\n",
       "      <td>서울</td>\n",
       "      <td>70.0</td>\n",
       "      <td>1</td>\n",
       "      <td>NaN</td>\n",
       "      <td>ENFJ</td>\n",
       "      <td>60.339826</td>\n",
       "    </tr>\n",
       "    <tr>\n",
       "      <th>2</th>\n",
       "      <td>id03</td>\n",
       "      <td>27.0</td>\n",
       "      <td>서울</td>\n",
       "      <td>61.0</td>\n",
       "      <td>1</td>\n",
       "      <td>NaN</td>\n",
       "      <td>ISTJ</td>\n",
       "      <td>17.252986</td>\n",
       "    </tr>\n",
       "    <tr>\n",
       "      <th>3</th>\n",
       "      <td>id04</td>\n",
       "      <td>75.0</td>\n",
       "      <td>서울</td>\n",
       "      <td>NaN</td>\n",
       "      <td>2</td>\n",
       "      <td>NaN</td>\n",
       "      <td>INFP</td>\n",
       "      <td>52.667078</td>\n",
       "    </tr>\n",
       "    <tr>\n",
       "      <th>4</th>\n",
       "      <td>id05</td>\n",
       "      <td>24.0</td>\n",
       "      <td>서울</td>\n",
       "      <td>85.0</td>\n",
       "      <td>2</td>\n",
       "      <td>NaN</td>\n",
       "      <td>ISFJ</td>\n",
       "      <td>29.269869</td>\n",
       "    </tr>\n",
       "  </tbody>\n",
       "</table>\n",
       "</div>"
      ],
      "text/plain": [
       "     id   age city    f1  f2   f3    f4         f5\n",
       "0  id01   2.0   서울   NaN   0  NaN  ENFJ  91.297791\n",
       "1  id02   9.0   서울  70.0   1  NaN  ENFJ  60.339826\n",
       "2  id03  27.0   서울  61.0   1  NaN  ISTJ  17.252986\n",
       "3  id04  75.0   서울   NaN   2  NaN  INFP  52.667078\n",
       "4  id05  24.0   서울  85.0   2  NaN  ISFJ  29.269869"
      ]
     },
     "execution_count": 41,
     "metadata": {},
     "output_type": "execute_result"
    }
   ],
   "source": [
    "# 라이브러리 및 데이터 불러오기\n",
    "import pandas as pd\n",
    "import numpy as np\n",
    "\n",
    "df = pd.read_csv(path+'\\\\bigdatacertificationkr\\\\basic1.csv')\n",
    "df.head()"
   ]
  },
  {
   "cell_type": "code",
   "execution_count": 51,
   "metadata": {},
   "outputs": [],
   "source": []
  },
  {
   "cell_type": "code",
   "execution_count": 61,
   "metadata": {},
   "outputs": [
    {
     "data": {
      "text/plain": [
       "69.5"
      ]
     },
     "execution_count": 61,
     "metadata": {},
     "output_type": "execute_result"
    }
   ],
   "source": [
    "np.이다.\n",
    "\n",
    "df1 = df[~(df[\"age\"] == np.floor(df[\"age\"]))]\n",
    "np.mean(np.ceil(df1[\"age\"])) + np.mean(np.trunc(df1[\"age\"])) + np.mean(np.floor(df1[\"age\"]))"
   ]
  },
  {
   "cell_type": "code",
   "execution_count": null,
   "metadata": {},
   "outputs": [],
   "source": []
  },
  {
   "cell_type": "code",
   "execution_count": null,
   "metadata": {},
   "outputs": [],
   "source": []
  },
  {
   "cell_type": "code",
   "execution_count": 49,
   "metadata": {},
   "outputs": [
    {
     "name": "stdout",
     "output_type": "stream",
     "text": [
      "69.5\n"
     ]
    }
   ],
   "source": [
    "# 소수점 데이터 찾기\n",
    "df1 = df.loc[df['age'] != np.floor(df[\"age\"])] \n",
    "\n",
    "a = np.mean(np.ceil(df1['age']))\n",
    "b = np.mean(np.floor(df1['age']))\n",
    "c = np.mean(np.trunc(df1['age']))\n",
    "print(a+b+c)"
   ]
  },
  {
   "cell_type": "markdown",
   "metadata": {},
   "source": [
    "T1-3 @@ 한번틀림\n",
    "## 결측치 처리\n",
    "-  주어진 데이터에서 결측치가 80%이상 되는 컬럼은(변수는) 삭제하고, 80% 미만인 결측치가 있는 컬럼은 'city'별 중앙값으로 값을 대체하고 'f1'컬럼의 평균값을 출력하세요!\n",
    "- 데이터셋 : basic1.csv 오른쪽 상단 copy&edit 클릭 -> 예상문제 풀이 시작\n",
    "- 강의 영상 : https://youtu.be/WqlpqBRn7x4"
   ]
  },
  {
   "cell_type": "code",
   "execution_count": 92,
   "metadata": {},
   "outputs": [
    {
     "data": {
      "text/html": [
       "<div>\n",
       "<style scoped>\n",
       "    .dataframe tbody tr th:only-of-type {\n",
       "        vertical-align: middle;\n",
       "    }\n",
       "\n",
       "    .dataframe tbody tr th {\n",
       "        vertical-align: top;\n",
       "    }\n",
       "\n",
       "    .dataframe thead th {\n",
       "        text-align: right;\n",
       "    }\n",
       "</style>\n",
       "<table border=\"1\" class=\"dataframe\">\n",
       "  <thead>\n",
       "    <tr style=\"text-align: right;\">\n",
       "      <th></th>\n",
       "      <th>id</th>\n",
       "      <th>age</th>\n",
       "      <th>city</th>\n",
       "      <th>f1</th>\n",
       "      <th>f2</th>\n",
       "      <th>f3</th>\n",
       "      <th>f4</th>\n",
       "      <th>f5</th>\n",
       "    </tr>\n",
       "  </thead>\n",
       "  <tbody>\n",
       "    <tr>\n",
       "      <th>0</th>\n",
       "      <td>id01</td>\n",
       "      <td>2.0</td>\n",
       "      <td>서울</td>\n",
       "      <td>NaN</td>\n",
       "      <td>0</td>\n",
       "      <td>NaN</td>\n",
       "      <td>ENFJ</td>\n",
       "      <td>91.297791</td>\n",
       "    </tr>\n",
       "    <tr>\n",
       "      <th>1</th>\n",
       "      <td>id02</td>\n",
       "      <td>9.0</td>\n",
       "      <td>서울</td>\n",
       "      <td>70.0</td>\n",
       "      <td>1</td>\n",
       "      <td>NaN</td>\n",
       "      <td>ENFJ</td>\n",
       "      <td>60.339826</td>\n",
       "    </tr>\n",
       "    <tr>\n",
       "      <th>2</th>\n",
       "      <td>id03</td>\n",
       "      <td>27.0</td>\n",
       "      <td>서울</td>\n",
       "      <td>61.0</td>\n",
       "      <td>1</td>\n",
       "      <td>NaN</td>\n",
       "      <td>ISTJ</td>\n",
       "      <td>17.252986</td>\n",
       "    </tr>\n",
       "    <tr>\n",
       "      <th>3</th>\n",
       "      <td>id04</td>\n",
       "      <td>75.0</td>\n",
       "      <td>서울</td>\n",
       "      <td>NaN</td>\n",
       "      <td>2</td>\n",
       "      <td>NaN</td>\n",
       "      <td>INFP</td>\n",
       "      <td>52.667078</td>\n",
       "    </tr>\n",
       "    <tr>\n",
       "      <th>4</th>\n",
       "      <td>id05</td>\n",
       "      <td>24.0</td>\n",
       "      <td>서울</td>\n",
       "      <td>85.0</td>\n",
       "      <td>2</td>\n",
       "      <td>NaN</td>\n",
       "      <td>ISFJ</td>\n",
       "      <td>29.269869</td>\n",
       "    </tr>\n",
       "    <tr>\n",
       "      <th>...</th>\n",
       "      <td>...</td>\n",
       "      <td>...</td>\n",
       "      <td>...</td>\n",
       "      <td>...</td>\n",
       "      <td>...</td>\n",
       "      <td>...</td>\n",
       "      <td>...</td>\n",
       "      <td>...</td>\n",
       "    </tr>\n",
       "    <tr>\n",
       "      <th>95</th>\n",
       "      <td>id96</td>\n",
       "      <td>92.0</td>\n",
       "      <td>경기</td>\n",
       "      <td>53.0</td>\n",
       "      <td>1</td>\n",
       "      <td>NaN</td>\n",
       "      <td>ENTJ</td>\n",
       "      <td>52.667078</td>\n",
       "    </tr>\n",
       "    <tr>\n",
       "      <th>96</th>\n",
       "      <td>id97</td>\n",
       "      <td>100.0</td>\n",
       "      <td>경기</td>\n",
       "      <td>NaN</td>\n",
       "      <td>0</td>\n",
       "      <td>NaN</td>\n",
       "      <td>INFP</td>\n",
       "      <td>67.886373</td>\n",
       "    </tr>\n",
       "    <tr>\n",
       "      <th>97</th>\n",
       "      <td>id98</td>\n",
       "      <td>39.0</td>\n",
       "      <td>경기</td>\n",
       "      <td>58.0</td>\n",
       "      <td>2</td>\n",
       "      <td>NaN</td>\n",
       "      <td>INFP</td>\n",
       "      <td>98.429899</td>\n",
       "    </tr>\n",
       "    <tr>\n",
       "      <th>98</th>\n",
       "      <td>id99</td>\n",
       "      <td>1.0</td>\n",
       "      <td>경기</td>\n",
       "      <td>47.0</td>\n",
       "      <td>0</td>\n",
       "      <td>NaN</td>\n",
       "      <td>ESFJ</td>\n",
       "      <td>97.381034</td>\n",
       "    </tr>\n",
       "    <tr>\n",
       "      <th>99</th>\n",
       "      <td>id100</td>\n",
       "      <td>47.0</td>\n",
       "      <td>경기</td>\n",
       "      <td>53.0</td>\n",
       "      <td>0</td>\n",
       "      <td>vip</td>\n",
       "      <td>ESFP</td>\n",
       "      <td>33.308999</td>\n",
       "    </tr>\n",
       "  </tbody>\n",
       "</table>\n",
       "<p>100 rows × 8 columns</p>\n",
       "</div>"
      ],
      "text/plain": [
       "       id    age city    f1  f2   f3    f4         f5\n",
       "0    id01    2.0   서울   NaN   0  NaN  ENFJ  91.297791\n",
       "1    id02    9.0   서울  70.0   1  NaN  ENFJ  60.339826\n",
       "2    id03   27.0   서울  61.0   1  NaN  ISTJ  17.252986\n",
       "3    id04   75.0   서울   NaN   2  NaN  INFP  52.667078\n",
       "4    id05   24.0   서울  85.0   2  NaN  ISFJ  29.269869\n",
       "..    ...    ...  ...   ...  ..  ...   ...        ...\n",
       "95   id96   92.0   경기  53.0   1  NaN  ENTJ  52.667078\n",
       "96   id97  100.0   경기   NaN   0  NaN  INFP  67.886373\n",
       "97   id98   39.0   경기  58.0   2  NaN  INFP  98.429899\n",
       "98   id99    1.0   경기  47.0   0  NaN  ESFJ  97.381034\n",
       "99  id100   47.0   경기  53.0   0  vip  ESFP  33.308999\n",
       "\n",
       "[100 rows x 8 columns]"
      ]
     },
     "execution_count": 92,
     "metadata": {},
     "output_type": "execute_result"
    }
   ],
   "source": [
    "# 라이브러리 및 데이터 불러오기\n",
    "import pandas as pd\n",
    "import numpy as np\n",
    "\n",
    "df = pd.read_csv(path+'\\\\bigdatacertificationkr\\\\basic1.csv')\n",
    "\n",
    "df"
   ]
  },
  {
   "cell_type": "code",
   "execution_count": 137,
   "metadata": {},
   "outputs": [
    {
     "name": "stdout",
     "output_type": "stream",
     "text": [
      "id       0\n",
      "age      0\n",
      "city     0\n",
      "f1      31\n",
      "f2       0\n",
      "f3      95\n",
      "f4       0\n",
      "f5       0\n",
      "dtype: int64\n"
     ]
    },
    {
     "data": {
      "text/plain": [
       "65.52"
      ]
     },
     "execution_count": 137,
     "metadata": {},
     "output_type": "execute_result"
    }
   ],
   "source": [
    "df = pd.read_csv(path+'\\\\bigdatacertificationkr\\\\basic1.csv')\n",
    "\n",
    "print(df.isna().sum())\n",
    "\n",
    "df = df.drop(['f3',\"id\",\"f4\"],axis = 1) # 파이썬 버젼이 커지면 이렇게는 실행이 안됨.. STR형식 다 변환 필요\n",
    "\n",
    "# df.fillna(df['city'].median)\n",
    "df = df.groupby(['city']).apply(lambda x : x.fillna(x.median())) \n",
    "df['f1'].mean()"
   ]
  },
  {
   "cell_type": "code",
   "execution_count": 91,
   "metadata": {},
   "outputs": [
    {
     "name": "stdout",
     "output_type": "stream",
     "text": [
      "<class 'pandas.core.frame.DataFrame'>\n",
      "RangeIndex: 100 entries, 0 to 99\n",
      "Data columns (total 8 columns):\n",
      " #   Column  Non-Null Count  Dtype  \n",
      "---  ------  --------------  -----  \n",
      " 0   id      100 non-null    object \n",
      " 1   age     100 non-null    float64\n",
      " 2   city    100 non-null    object \n",
      " 3   f1      69 non-null     float64\n",
      " 4   f2      100 non-null    int64  \n",
      " 5   f3      5 non-null      object \n",
      " 6   f4      100 non-null    object \n",
      " 7   f5      100 non-null    float64\n",
      "dtypes: float64(3), int64(1), object(4)\n",
      "memory usage: 6.4+ KB\n",
      "None\n",
      "58.0 75.0 62.0 68.0\n",
      "65.52\n"
     ]
    }
   ],
   "source": [
    "print(df.info())\n",
    "# 80%이상 결측치 컬럼, 삭제\n",
    "df = df.drop(['f3'],axis =1)\n",
    "\n",
    "# @@ 틀렷던 부분\n",
    "# df.groupby(\"city\").apply(lambda x:x.fillna(x.median()))\n",
    "k, d, b, s = df.groupby('city')['f1'].median()\n",
    "\n",
    "# 80%미만 결측치 컬럼, city별 중앙값으로 대체\n",
    "print(k,d,b,s)\n",
    "\n",
    "# f1결측치 city별 중앙값으로 대체\n",
    "#@@ 틀렷던 부분.\n",
    "df['f1'] = df['f1'].fillna(df['city'].map({'서울':s,'경기':k,'부산':b,'대구':d})) # @@ 이부분\n",
    "\n",
    "# f1 평균값 결과 출력\n",
    "print(df['f1'].mean())"
   ]
  },
  {
   "cell_type": "code",
   "execution_count": null,
   "metadata": {},
   "outputs": [],
   "source": [
    "del df['f3']\n",
    "# df[df[]]\n",
    "# print(df.info())\n",
    "# print(df.groupby([\"city\"]).median()['f1'])\n",
    "a,b,c,d = df.groupby([\"city\"]).median()['f1']\n",
    "# print(a,b,c,d)\n",
    "\n",
    "print(df.loc[((df[\"city\"]==\"서울\")&(df[\"f1\"]==None))])\n",
    "df.loc[(df[\"city\"]==\"경기\")&(df[\"f1\"].isna()==True),\"f1\"] = a\n",
    "df.loc[(df[\"city\"]==\"대구\")&(df[\"f1\"].isna()==True),\"f1\"] = b\n",
    "df.loc[(df[\"city\"]==\"부산\")&(df[\"f1\"].isna()==True),\"f1\"] = c\n",
    "df.loc[(df[\"city\"]==\"서울\")&(df[\"f1\"].isna()==True),\"f1\"] = d\n",
    "# print(df.info())\n",
    "answer = df[\"f1\"].mean()\n",
    "print(answer)"
   ]
  },
  {
   "cell_type": "markdown",
   "metadata": {},
   "source": [
    "t1-4\n",
    "\n",
    "왜도와 첨도 구하기\n",
    "주어진 데이터 중 train.csv에서 'SalePrice'컬럼의 왜도와 첨도를 구한 값과, 'SalePrice'컬럼을 스케일링(log1p)로 변환한 이후 왜도와 첨도를 구해 모두 더한 다음 소수점 2째자리까지 출력하시오\n",
    "\n",
    "비대칭도(非對稱度, skewness) 또는 왜도(歪度)는 실수 값 확률 변수의 확률 분포 비대칭성을 나타내는 지표이다. 왜도의 값은 양수나 음수가 될 수 있으며 정의되지 않을 수도 있다. 왜도가 음수일 경우에는 확률밀도함수의 왼쪽 부분에 긴 꼬리를 가지며 중앙값을 포함한 자료가 오른쪽에 더 많이 분포해 있다. 왜도가 양수일 때는 확률밀도함수의 오른쪽 부분에 긴 꼬리를 가지며 자료가 왼쪽에 더 많이 분포해 있다는 것을 나타낸다. 평균과 중앙값이 같으면 왜도는 0이 된다."
   ]
  },
  {
   "cell_type": "code",
   "execution_count": 138,
   "metadata": {},
   "outputs": [
    {
     "data": {
      "text/plain": [
       "0    208500\n",
       "1    181500\n",
       "2    223500\n",
       "3    140000\n",
       "4    250000\n",
       "Name: SalePrice, dtype: int64"
      ]
     },
     "execution_count": 138,
     "metadata": {},
     "output_type": "execute_result"
    }
   ],
   "source": [
    "# 데이터 불러오기\n",
    "df = pd.read_csv(path+\"\\\\house-prices-advanced-regression-techniques\\\\train.csv\")\n",
    "df['SalePrice'].head()"
   ]
  },
  {
   "cell_type": "code",
   "execution_count": 11,
   "metadata": {},
   "outputs": [
    {
     "data": {
      "text/plain": [
       "9.35"
      ]
     },
     "execution_count": 11,
     "metadata": {},
     "output_type": "execute_result"
    }
   ],
   "source": [
    "a1 = df['SalePrice'].skew() #@@ 왜도 \n",
    "a2 = df['SalePrice'].kurt() #@@ 첨도\n",
    "\n",
    "b1 = np.log(df['SalePrice']).skew() # 변환한 이후 왜도 첨도\n",
    "b2 = np.log(df['SalePrice']).kurt()\n",
    "\n",
    "round((a1+a2+b1+b2),2)"
   ]
  },
  {
   "cell_type": "markdown",
   "metadata": {},
   "source": [
    "t1-5\n",
    "\n",
    "# 주어진 데이터 중 basic1.csv에서 'f4'컬럼 값이 'ENFJ'와 'INFP'인 'f1'의 표준편차 차이를 절대값으로 구하시오 (자유도 = 1)\n",
    "# 데이터셋 : basic1.csv\n",
    "\n",
    "\n"
   ]
  },
  {
   "cell_type": "code",
   "execution_count": 83,
   "metadata": {},
   "outputs": [],
   "source": [
    "import pandas as pd\n",
    "import numpy as np\n",
    "df = pd.read_csv(path+'\\\\bigdatacertificationkr\\\\basic1.csv')"
   ]
  },
  {
   "cell_type": "code",
   "execution_count": 95,
   "metadata": {},
   "outputs": [
    {
     "name": "stdout",
     "output_type": "stream",
     "text": [
      "5.859621525876811\n"
     ]
    }
   ],
   "source": [
    "a1 = df.loc[(df['f4'] == \"ENFJ\")]['f1'].std()\n",
    "a2 = df.loc[(df['f4'] == \"INFP\")]['f1'].std()\n",
    "print(abs(a1 - a2))"
   ]
  },
  {
   "cell_type": "markdown",
   "metadata": {},
   "source": [
    "# t1-6 결측치 제거 및 그룹 합계에서 조건에 맞는 값 찾아 출력\n",
    "\n",
    "주어진 데이터 중 basic1.csv에서 'f1'컬럼 결측 데이터를 제거하고, 'city'와 'f2'을 기준으로 묶어 합계를 구하고, 'city가 경기이면서 f2가 0'인 조건에 만족하는 f1 값을 구하시오\n",
    "\n",
    "데이터셋 : basic1.csv\n",
    "오른쪽 상단 copy&edit 클릭 -> 예상문제 풀이 시작"
   ]
  },
  {
   "cell_type": "code",
   "execution_count": 29,
   "metadata": {},
   "outputs": [],
   "source": [
    "# 라이브러리 및 데이터 불러오기\n",
    "import pandas as pd\n",
    "import numpy as np\n",
    "\n",
    "df = pd.read_csv(path+'\\\\bigdatacertificationkr\\\\basic1.csv')"
   ]
  },
  {
   "cell_type": "code",
   "execution_count": 33,
   "metadata": {},
   "outputs": [
    {
     "data": {
      "text/html": [
       "<div>\n",
       "<style scoped>\n",
       "    .dataframe tbody tr th:only-of-type {\n",
       "        vertical-align: middle;\n",
       "    }\n",
       "\n",
       "    .dataframe tbody tr th {\n",
       "        vertical-align: top;\n",
       "    }\n",
       "\n",
       "    .dataframe thead th {\n",
       "        text-align: right;\n",
       "    }\n",
       "</style>\n",
       "<table border=\"1\" class=\"dataframe\">\n",
       "  <thead>\n",
       "    <tr style=\"text-align: right;\">\n",
       "      <th></th>\n",
       "      <th></th>\n",
       "      <th>age</th>\n",
       "      <th>f1</th>\n",
       "      <th>f5</th>\n",
       "    </tr>\n",
       "    <tr>\n",
       "      <th>city</th>\n",
       "      <th>f2</th>\n",
       "      <th></th>\n",
       "      <th></th>\n",
       "      <th></th>\n",
       "    </tr>\n",
       "  </thead>\n",
       "  <tbody>\n",
       "    <tr>\n",
       "      <th rowspan=\"3\" valign=\"top\">경기</th>\n",
       "      <th>0</th>\n",
       "      <td>720.4</td>\n",
       "      <td>833.0</td>\n",
       "      <td>943.944823</td>\n",
       "    </tr>\n",
       "    <tr>\n",
       "      <th>1</th>\n",
       "      <td>696.0</td>\n",
       "      <td>670.0</td>\n",
       "      <td>657.241212</td>\n",
       "    </tr>\n",
       "    <tr>\n",
       "      <th>2</th>\n",
       "      <td>239.0</td>\n",
       "      <td>311.0</td>\n",
       "      <td>362.300060</td>\n",
       "    </tr>\n",
       "    <tr>\n",
       "      <th rowspan=\"3\" valign=\"top\">대구</th>\n",
       "      <th>0</th>\n",
       "      <td>387.0</td>\n",
       "      <td>527.0</td>\n",
       "      <td>183.199568</td>\n",
       "    </tr>\n",
       "    <tr>\n",
       "      <th>1</th>\n",
       "      <td>217.6</td>\n",
       "      <td>235.0</td>\n",
       "      <td>241.333824</td>\n",
       "    </tr>\n",
       "    <tr>\n",
       "      <th>2</th>\n",
       "      <td>140.0</td>\n",
       "      <td>211.0</td>\n",
       "      <td>79.667919</td>\n",
       "    </tr>\n",
       "    <tr>\n",
       "      <th rowspan=\"3\" valign=\"top\">부산</th>\n",
       "      <th>0</th>\n",
       "      <td>331.0</td>\n",
       "      <td>389.0</td>\n",
       "      <td>284.371097</td>\n",
       "    </tr>\n",
       "    <tr>\n",
       "      <th>1</th>\n",
       "      <td>188.7</td>\n",
       "      <td>315.0</td>\n",
       "      <td>299.270973</td>\n",
       "    </tr>\n",
       "    <tr>\n",
       "      <th>2</th>\n",
       "      <td>-13.5</td>\n",
       "      <td>47.0</td>\n",
       "      <td>67.886373</td>\n",
       "    </tr>\n",
       "    <tr>\n",
       "      <th rowspan=\"3\" valign=\"top\">서울</th>\n",
       "      <th>0</th>\n",
       "      <td>145.0</td>\n",
       "      <td>278.0</td>\n",
       "      <td>218.528577</td>\n",
       "    </tr>\n",
       "    <tr>\n",
       "      <th>1</th>\n",
       "      <td>315.3</td>\n",
       "      <td>534.0</td>\n",
       "      <td>438.485010</td>\n",
       "    </tr>\n",
       "    <tr>\n",
       "      <th>2</th>\n",
       "      <td>68.3</td>\n",
       "      <td>207.0</td>\n",
       "      <td>126.661135</td>\n",
       "    </tr>\n",
       "  </tbody>\n",
       "</table>\n",
       "</div>"
      ],
      "text/plain": [
       "           age     f1          f5\n",
       "city f2                          \n",
       "경기   0   720.4  833.0  943.944823\n",
       "     1   696.0  670.0  657.241212\n",
       "     2   239.0  311.0  362.300060\n",
       "대구   0   387.0  527.0  183.199568\n",
       "     1   217.6  235.0  241.333824\n",
       "     2   140.0  211.0   79.667919\n",
       "부산   0   331.0  389.0  284.371097\n",
       "     1   188.7  315.0  299.270973\n",
       "     2   -13.5   47.0   67.886373\n",
       "서울   0   145.0  278.0  218.528577\n",
       "     1   315.3  534.0  438.485010\n",
       "     2    68.3  207.0  126.661135"
      ]
     },
     "execution_count": 33,
     "metadata": {},
     "output_type": "execute_result"
    }
   ],
   "source": [
    "df = df.loc[(df['f1'].isna()==False)] # 결측데이터 제거\n",
    "# df.groupby([\"city\",\"f1\"]) #@@ 몰랐음\n",
    "df1 = df.groupby([\"city\",\"f2\"]).sum()\n",
    "# df.loc[(df[\"city\"]==\"경기\") & (df[\"f2\"]==0)].f1 #문제 오해함\n",
    "df1\n"
   ]
  },
  {
   "cell_type": "code",
   "execution_count": 34,
   "metadata": {
    "scrolled": true
   },
   "outputs": [
    {
     "name": "stdout",
     "output_type": "stream",
     "text": [
      "833.0\n",
      "833.0\n"
     ]
    }
   ],
   "source": [
    "# @@ 이부분 또 틀림\n",
    "print(df1.iloc[0][\"f1\"])\n",
    "print(df1.loc[\"경기\",0][\"f1\"])"
   ]
  },
  {
   "cell_type": "code",
   "execution_count": 35,
   "metadata": {},
   "outputs": [
    {
     "name": "stdout",
     "output_type": "stream",
     "text": [
      "833.0\n"
     ]
    }
   ],
   "source": [
    "\n",
    "df = df.loc[(df[\"f1\"].isna()==False)] # = df = df.dropna([\"f1\"],axis = 0)\n",
    "\n",
    "df1 = df.groupby(by = [\"city\",\"f2\"]).sum()\n",
    "# print(df1)\n",
    "# print(df1.index)\n",
    "print(df1.loc[(\"경기\",0)]['f1'])\n"
   ]
  },
  {
   "cell_type": "markdown",
   "metadata": {},
   "source": [
    "## T1-7 \n",
    "# 'f4'컬럼의 값이 'ESFJ'인 데이터를 'ISFJ'로 대체하고, 'city'가 '경기'이면서 'f4'가 'ISFJ'인 데이터 중 'age'컬럼의 최대값을 출력하시오!"
   ]
  },
  {
   "cell_type": "code",
   "execution_count": 36,
   "metadata": {},
   "outputs": [],
   "source": [
    "# 라이브러리 및 데이터 불러오기\n",
    "import pandas as pd\n",
    "import numpy as np\n",
    "# path = \"C:\\\\Users\\\\Happy\\\\Desktop\\\\help\\\\input\"\n",
    "df = pd.read_csv(path + '\\\\bigdatacertificationkr\\\\basic1.csv')"
   ]
  },
  {
   "cell_type": "code",
   "execution_count": 27,
   "metadata": {},
   "outputs": [
    {
     "name": "stdout",
     "output_type": "stream",
     "text": [
      "90.0\n"
     ]
    },
    {
     "name": "stderr",
     "output_type": "stream",
     "text": [
      "c:\\users\\happy\\appdata\\local\\programs\\python\\python37\\lib\\site-packages\\pandas\\core\\indexing.py:1637: SettingWithCopyWarning: \n",
      "A value is trying to be set on a copy of a slice from a DataFrame\n",
      "\n",
      "See the caveats in the documentation: https://pandas.pydata.org/pandas-docs/stable/user_guide/indexing.html#returning-a-view-versus-a-copy\n",
      "  self._setitem_single_block(indexer, value, name)\n"
     ]
    }
   ],
   "source": [
    "df.loc[df['f4']=='ESFJ']\n",
    "df['f4'].loc[df['f4']=='ESFJ'] = 'ISFJ'\n",
    "answer = max(df.loc[(df[\"city\"]==\"경기\") & (df['f4'] == 'ISFJ')]['age'])\n",
    "print(answer)"
   ]
  },
  {
   "cell_type": "code",
   "execution_count": null,
   "metadata": {},
   "outputs": [],
   "source": [
    "df.loc[df['f4']==\"ESFJ\",\"f4\"] = \"ISFJ\"\n",
    "\n",
    "asnwer = df.loc[(df['city']==\"경기\")& (df['f4']==\"ISFJ\")]['age'].max()\n",
    "print(asnwer)"
   ]
  },
  {
   "cell_type": "markdown",
   "metadata": {},
   "source": [
    "## T1-8\n",
    "주어진 데이터 셋에서 'f2' 컬럼이 1인 조건에 해당하는 데이터의 'f1'컬럼 누적합을 계산한다. 이때 발생하는 누적합 결측치는 바로 뒤의 값을 채우고, 누적합의 평균값을 출력한다. (단, 결측치 바로 뒤의 값이 없으면 다음에 나오는 값을 채워넣는다"
   ]
  },
  {
   "cell_type": "code",
   "execution_count": 28,
   "metadata": {},
   "outputs": [],
   "source": [
    "# 라이브러리 및 데이터 불러오기\n",
    "import pandas as pd\n",
    "import numpy as np\n",
    "# path = \"C:\\\\Users\\\\Happy\\\\Desktop\\\\help\\\\input\"\n",
    "df = pd.read_csv(path + '\\\\bigdatacertificationkr\\\\basic1.csv')\n"
   ]
  },
  {
   "cell_type": "code",
   "execution_count": 29,
   "metadata": {},
   "outputs": [
    {
     "name": "stdout",
     "output_type": "stream",
     "text": [
      "980.3783783783783\n"
     ]
    }
   ],
   "source": [
    "# @ cumsum 은 누적합\n",
    "aa = df.loc[df['f2']==1]['f1'].cumsum() # 누적합 계산\n",
    "\n",
    "# bfill\n",
    "# ffill\n",
    "# interpolate 선형보간\n",
    "\n",
    "bb = aa.backfill() # 뒤값으로 보간\n",
    "print(np.average(bb))"
   ]
  },
  {
   "cell_type": "markdown",
   "metadata": {},
   "source": [
    "## T1-9 \n",
    "주어진 데이터에서 'f5'컬럼을 표준화(Standardization (Z-score Normalization))하고 그 중앙값을 구하시오"
   ]
  },
  {
   "cell_type": "code",
   "execution_count": 12,
   "metadata": {},
   "outputs": [],
   "source": [
    "import pandas as pd\n",
    "import numpy as np\n",
    "df = pd.read_csv(path + '\\\\bigdatacertificationkr\\\\basic1.csv')"
   ]
  },
  {
   "cell_type": "code",
   "execution_count": 13,
   "metadata": {},
   "outputs": [],
   "source": [
    "df = pd.get_dummies(df)\n",
    "# @@ 사이킷런 스펠링\n",
    "from sklearn.preprocessing import StandardScaler\n",
    "SS = StandardScaler()\n",
    "# @@ SS.fit_transform(df[['f5']]) <= fit_transform 안에 df를 데이터프레임(df[[]])으로 받아야함 !!!\n",
    "df[['f5']] = SS.fit_transform(df[['f5']])"
   ]
  },
  {
   "cell_type": "code",
   "execution_count": 14,
   "metadata": {},
   "outputs": [
    {
     "name": "stdout",
     "output_type": "stream",
     "text": [
      "0.26061962955901474\n"
     ]
    }
   ],
   "source": [
    "\n",
    "from sklearn.preprocessing import StandardScaler\n",
    "Scaler = StandardScaler()\n",
    "\n",
    "col = df.columns\n",
    "\n",
    "df1 = Scaler.fit_transform(df)\n",
    "\n",
    "a = pd.DataFrame(df1, columns = col)\n",
    "answer = a[\"f5\"].median()\n",
    "print(answer)"
   ]
  },
  {
   "cell_type": "code",
   "execution_count": null,
   "metadata": {},
   "outputs": [],
   "source": [
    "from sklearn.preprocessing import StandardScaler\n",
    "Sclaer = StandardScaler()\n",
    "\n",
    "df[[\"f5\"]] = Sclaer.fit_transform(df[[\"f5\"]])\n",
    "\n",
    "answer = df[\"f5\"].median()\n",
    "print(answer)"
   ]
  },
  {
   "cell_type": "markdown",
   "metadata": {},
   "source": [
    "# T1-10. 여-존슨과 박스-칵스 변환 Expected Questions\n",
    "주어진 데이터에서 20세 이상인 데이터를 추출하고 'f1'컬럼을 결측치를 최빈값으로 채운 후, \n",
    "f1 컬럼의 여-존슨하고 박스콕스 변환 값을 구하고,\n",
    "두 값의 차이를 절대값으로 구한다음 모두 더해 소수점 둘째 자리까지 출력(반올림)하시오"
   ]
  },
  {
   "cell_type": "code",
   "execution_count": 18,
   "metadata": {},
   "outputs": [],
   "source": [
    "import pandas as pd\n",
    "import numpy as np\n",
    "\n",
    "df = pd.read_csv(path + '\\\\bigdatacertificationkr\\\\basic1.csv')"
   ]
  },
  {
   "cell_type": "code",
   "execution_count": 19,
   "metadata": {},
   "outputs": [
    {
     "name": "stdout",
     "output_type": "stream",
     "text": [
      "0.05\n"
     ]
    }
   ],
   "source": [
    "df1 = df.loc[(df[\"age\"]>= 20)].copy()\n",
    "df1[\"f1\"] = df1[\"f1\"].fillna(df1[\"f1\"].mode()[0])\n",
    "\n",
    "\n",
    "from sklearn.preprocessing import PowerTransformer\n",
    "PT = PowerTransformer(method = \"yeo-johnson\")\n",
    "df1[[\"yeo\"]] = PT.fit_transform(df1[[\"f1\"]])\n",
    "\n",
    "PT = PowerTransformer(method = \"box-cox\")\n",
    "df1[[\"box\"]] = PT.fit_transform(df1[[\"f1\"]])\n",
    "answer = round(sum(abs(df1[\"yeo\"] - df1[\"box\"])),2)\n",
    "print(answer)"
   ]
  },
  {
   "cell_type": "code",
   "execution_count": 16,
   "metadata": {},
   "outputs": [
    {
     "name": "stdout",
     "output_type": "stream",
     "text": [
      "0.05\n"
     ]
    },
    {
     "name": "stderr",
     "output_type": "stream",
     "text": [
      "c:\\users\\happy\\appdata\\local\\programs\\python\\python37\\lib\\site-packages\\ipykernel_launcher.py:3: SettingWithCopyWarning: \n",
      "A value is trying to be set on a copy of a slice from a DataFrame.\n",
      "Try using .loc[row_indexer,col_indexer] = value instead\n",
      "\n",
      "See the caveats in the documentation: https://pandas.pydata.org/pandas-docs/stable/user_guide/indexing.html#returning-a-view-versus-a-copy\n",
      "  This is separate from the ipykernel package so we can avoid doing imports until\n",
      "c:\\users\\happy\\appdata\\local\\programs\\python\\python37\\lib\\site-packages\\ipykernel_launcher.py:11: SettingWithCopyWarning: \n",
      "A value is trying to be set on a copy of a slice from a DataFrame.\n",
      "Try using .loc[row_indexer,col_indexer] = value instead\n",
      "\n",
      "See the caveats in the documentation: https://pandas.pydata.org/pandas-docs/stable/user_guide/indexing.html#returning-a-view-versus-a-copy\n",
      "  # This is added back by InteractiveShellApp.init_path()\n",
      "c:\\users\\happy\\appdata\\local\\programs\\python\\python37\\lib\\site-packages\\ipykernel_launcher.py:13: SettingWithCopyWarning: \n",
      "A value is trying to be set on a copy of a slice from a DataFrame.\n",
      "Try using .loc[row_indexer,col_indexer] = value instead\n",
      "\n",
      "See the caveats in the documentation: https://pandas.pydata.org/pandas-docs/stable/user_guide/indexing.html#returning-a-view-versus-a-copy\n",
      "  del sys.path[0]\n",
      "c:\\users\\happy\\appdata\\local\\programs\\python\\python37\\lib\\site-packages\\ipykernel_launcher.py:15: SettingWithCopyWarning: \n",
      "A value is trying to be set on a copy of a slice from a DataFrame.\n",
      "Try using .loc[row_indexer,col_indexer] = value instead\n",
      "\n",
      "See the caveats in the documentation: https://pandas.pydata.org/pandas-docs/stable/user_guide/indexing.html#returning-a-view-versus-a-copy\n",
      "  from ipykernel import kernelapp as app\n"
     ]
    }
   ],
   "source": [
    "\n",
    "df1 = df.loc[df['age']>=20] # 조건\n",
    "mode = df1.f1.mode() # 최빈값\n",
    "df1['f1'] = df1['f1'].fillna(mode[0]) # @@ mode에서 계속틀림\n",
    "\n",
    "#  => df['f1'] = df['f1'].fillna(df['f1'].mode()[0]) \n",
    "#한줄로도 가능\n",
    "\n",
    "# @@ 여- 존스 박스콕스 변환 값\n",
    "from sklearn.preprocessing import power_transform \n",
    "#@@ power_transform 으로 소문자이다!!!!!!\n",
    "df1['Y'] = power_transform(df1[['f1']],method  = 'yeo-johnson') # @@ 파워 트렌스폼은 데이터프레임 df[[\"컬럼명\"]]으로 받아야 한다!!!\n",
    "\n",
    "df1['B'] = power_transform(df1[['f1']],method  = 'box-cox')\n",
    "\n",
    "df1['answer'] = abs(df1['Y'] - df1['B'])\n",
    "\n",
    "print(round(sum(df1['answer']),2))"
   ]
  },
  {
   "cell_type": "code",
   "execution_count": 17,
   "metadata": {},
   "outputs": [
    {
     "name": "stdout",
     "output_type": "stream",
     "text": [
      "조건 적용 전: (100, 8)\n",
      "조건 적용 후: (83, 8)\n",
      "결측치 처리 전: \n",
      " id       0\n",
      "age      0\n",
      "city     0\n",
      "f1      26\n",
      "f2       0\n",
      "f3      78\n",
      "f4       0\n",
      "f5       0\n",
      "dtype: int64\n",
      "최빈값:  50.0\n",
      "결측치 처리 후: \n",
      " id       0\n",
      "age      0\n",
      "city     0\n",
      "f1       0\n",
      "f2       0\n",
      "f3      78\n",
      "f4       0\n",
      "f5       0\n",
      "dtype: int64\n"
     ]
    },
    {
     "data": {
      "text/plain": [
       "2    21.067090\n",
       "3    18.305263\n",
       "4    26.557680\n",
       "5    20.084373\n",
       "6    20.823545\n",
       "Name: b, dtype: float64"
      ]
     },
     "execution_count": 17,
     "metadata": {},
     "output_type": "execute_result"
    }
   ],
   "source": [
    "# 라이브러리 및 데이터 불러오기\n",
    "import pandas as pd\n",
    "import numpy as np\n",
    "from sklearn.preprocessing import power_transform\n",
    "\n",
    "df = pd.read_csv(path + '\\\\bigdatacertificationkr\\\\basic1.csv')\n",
    "df.head(5)\n",
    "\n",
    "# 조건에 맞는 데이터\n",
    "print(\"조건 적용 전:\", df.shape)\n",
    "df = df[df['age']>=20]\n",
    "print(\"조건 적용 후:\", df.shape)\n",
    "\n",
    "# 최빈값으로 'f1' 컬럼 결측치 대체\n",
    "print(\"결측치 처리 전: \\n\", df.isnull().sum())\n",
    "print(\"최빈값: \",df['f1'].mode()[0])\n",
    "df['f1'] = df['f1'].fillna(df['f1'].mode()[0])\n",
    "print(\"결측치 처리 후: \\n\", df.isnull().sum())   \n",
    "\n",
    "# 'f1'데이터 여-존슨 yeo-johnson 값 구하기\n",
    "df['y'] = power_transform(df[['f1']]) # method 디폴트 값은 여-존슨’yeo-johnson’\n",
    "df['y'].head()\n",
    "# 'f1'데이터 여-존슨 yeo-johnson 값 구하기\n",
    "df['y'] = power_transform(df[['f1']],standardize=False) # method 디폴트 값은 여-존슨’yeo-johnson’\n",
    "df['y'].head()\n",
    "# 'f1'데이터 박스-콕스 box-cox 값 구하기\n",
    "df['b'] = power_transform(df[['f1']], method='box-cox')\n",
    "df['b'].head()\n",
    "# 'f1'데이터 박스-콕스 box-cox 값 구하기\n",
    "df['b'] = power_transform(df[['f1']], method='box-cox', standardize=False)\n",
    "df['b'].head()"
   ]
  },
  {
   "cell_type": "markdown",
   "metadata": {},
   "source": [
    "# T1-11\n",
    "## 주어진 데이터에서 'f5'컬럼을 min-max 스케일 변환한 후, 상위 5%와 하위 5% 값의 합을 구하시오\n"
   ]
  },
  {
   "cell_type": "code",
   "execution_count": 3,
   "metadata": {},
   "outputs": [],
   "source": [
    "import numpy as np\n",
    "import pandas as pd\n",
    "df = pd.read_csv(path + '\\\\bigdatacertificationkr\\\\basic1.csv')"
   ]
  },
  {
   "cell_type": "code",
   "execution_count": 4,
   "metadata": {},
   "outputs": [
    {
     "name": "stdout",
     "output_type": "stream",
     "text": [
      "1.0248740983597389\n"
     ]
    }
   ],
   "source": [
    "# from sklearn.preprocessing  import MinMaxScaler\n",
    "# scaler = MinMaxScaler()\n",
    "# scaled = scaler.fit_transform(df[['f5']])\n",
    "# scaled = pd.DataFrame(scaled)\n",
    "# answer = scaled[0].quantile(0.05) + scaled[0].quantile(0.95)\n",
    "# print(answer)\n",
    "\n",
    "from sklearn.preprocessing import MinMaxScaler\n",
    "Scaler = MinMaxScaler()\n",
    "\n",
    "df[['f5']] = Scaler.fit_transform(df[['f5']])\n",
    "a = df['f5'].quantile(0.95)\n",
    "b = df['f5'].quantile(0.05)\n",
    "answer = a + b\n",
    "print(answer)"
   ]
  },
  {
   "cell_type": "code",
   "execution_count": null,
   "metadata": {},
   "outputs": [],
   "source": []
  },
  {
   "cell_type": "markdown",
   "metadata": {},
   "source": [
    "# T1-12\n",
    "#### 주어진 데이터에서 접종률 상위 10개 국가의 접종률 평균과 하위 10개 국가의 접종률 평균을 구하고, 그 차이를 구해보세요 \n",
    "#### (단, 100%가 넘는 접종률 제거, 소수 첫째자리까지 출력)"
   ]
  },
  {
   "cell_type": "code",
   "execution_count": 23,
   "metadata": {},
   "outputs": [],
   "source": [
    "import numpy as np\n",
    "import pandas as pd\n",
    "df = pd.read_csv(path + '\\\\archive\\\\covid-vaccination-vs-death_ratio.csv')\n",
    "\n"
   ]
  },
  {
   "cell_type": "code",
   "execution_count": 33,
   "metadata": {},
   "outputs": [
    {
     "name": "stdout",
     "output_type": "stream",
     "text": [
      "91.84468429574308 1.9129097691393397\n",
      "93.8\n"
     ]
    }
   ],
   "source": []
  },
  {
   "cell_type": "code",
   "execution_count": 31,
   "metadata": {},
   "outputs": [
    {
     "name": "stdout",
     "output_type": "stream",
     "text": [
      "1.9129097691393402 91.84468429574308\n",
      "89.9\n"
     ]
    }
   ],
   "source": [
    "df1 = df.loc[~(df[\"ratio\"]>100)].copy()\n",
    "df2 = df1.groupby([\"country\"]).max() # 시간에 따라서 접종률이 올라가서 max했다고 함.. @ 좀 문제가 그렇네;;\n",
    "\n",
    "a = df2.sort_values(['ratio'],ascending= True).iloc[0:10,:].ratio.mean()\n",
    "b = df2.sort_values(['ratio'],ascending= False).iloc[0:10,:].ratio.mean()\n",
    "answer = round(b-a,1)\n",
    "print(a,b)\n",
    "print(answer)"
   ]
  },
  {
   "cell_type": "markdown",
   "metadata": {},
   "source": [
    "# T1-13\n",
    "#### 상관관계 구하기\n",
    " 주어진 데이터에서 상관관계를 구하고, quality와의 상관관계가 가장 큰 값과, 가장 작은 값을 구한 다음 더하시오!\n",
    " 단, quality와 quality 상관관계 제외, 소수점 둘째 자리까지 출력"
   ]
  },
  {
   "cell_type": "code",
   "execution_count": 34,
   "metadata": {},
   "outputs": [],
   "source": [
    "# 상관관계 구하기\n",
    "# 주어진 데이터에서 상관관계를 구하고, quality와의 상관관계가 가장 큰 값과, 가장 작은 값을 구한 다음 더하시오!\n",
    "# 단, quality와 quality 상관관계 제외, 소수점 둘째 자리까지 출력\n",
    "\n",
    "df = pd.read_csv(path + '\\\\archive\\\\winequality-red.csv')\n"
   ]
  },
  {
   "cell_type": "code",
   "execution_count": 35,
   "metadata": {},
   "outputs": [
    {
     "name": "stdout",
     "output_type": "stream",
     "text": [
      "0.46\n"
     ]
    }
   ],
   "source": [
    "corr = df.corr()[\"quality\"][:-1].values\n",
    "\n",
    "corr_max = max(abs(corr))\n",
    "corr_min = min(abs(corr))\n",
    "\n",
    "if corr_max != max(corr): # corr값중에서 max값이 절댓값 corr max값과 같지않다면 음수일 것\n",
    "    corr_max = -corr_max\n",
    "if corr_min != min(corr): \n",
    "    corr_min = -corr_min\n",
    "    \n",
    "answer = round(corr_max + corr_min, 2)\n",
    "print(answer)"
   ]
  },
  {
   "cell_type": "code",
   "execution_count": 36,
   "metadata": {},
   "outputs": [
    {
     "name": "stdout",
     "output_type": "stream",
     "text": [
      "0.46\n"
     ]
    }
   ],
   "source": [
    "# 상관관계 구함 # quality 제외\n",
    "df_corr = df.corr()\n",
    "val_list = df_corr[\"quality\"][:-1].values\n",
    "# print(val_list)\n",
    "# quality와의 상관관계가 가장 큰 값과, 가장 작은 값을 구한 \n",
    "## 상관관계는 가장 큰게 음수 일수도 있음!!\n",
    "a = max(abs(val_list))\n",
    "b = min(abs(val_list))\n",
    "\n",
    "if a != max(val_list):\n",
    "    a = -a\n",
    "\n",
    "if b != min(val_list):\n",
    "    b= -b\n",
    "    \n",
    "# print(a,b)\n",
    "# 구한 두값을 더함(소수점 둘째 자리까지 출력)\n",
    "answer = round(a+b,2)\n",
    "print(answer)"
   ]
  },
  {
   "cell_type": "code",
   "execution_count": 13,
   "metadata": {},
   "outputs": [
    {
     "name": "stdout",
     "output_type": "stream",
     "text": [
      "0.46\n"
     ]
    }
   ],
   "source": [
    "# corr = (df.corr()['quality'][:-1].values)\n",
    "# corr= pd.DataFrame(corr)\n",
    "\n",
    "# corr_max = float(max(abs(corr.values)))\n",
    "# corr_min = float(min(abs(corr.values)))\n",
    "\n",
    "# # 같지 않다면 하나가 음수일 것이다.\n",
    "# if corr_max != float(max(corr.values)):\n",
    "#     corr_max = -corr_max\n",
    "# if corr_min != float(min(corr.values)):\n",
    "#     corr_min = -corr_min\n",
    "    \n",
    "# answer = round((corr_max + corr_min),2)\n",
    "# print(answer)"
   ]
  },
  {
   "cell_type": "markdown",
   "metadata": {},
   "source": [
    "# T1-14. 2개 조건에 따른 상위 값 Expected Question\n",
    "city와 f4를 기준으로 f5의 평균값을 구한 다음, f5를 기준으로 상위 7개 값을 모두 더해 출력하시오 (소수점 둘째자리까지 출력)"
   ]
  },
  {
   "cell_type": "code",
   "execution_count": 41,
   "metadata": {},
   "outputs": [],
   "source": [
    "import pandas as pd\n",
    "import numpy as np\n",
    "\n",
    "df = pd.read_csv(path + '\\\\bigdatacertificationkr\\\\basic1.csv')"
   ]
  },
  {
   "cell_type": "code",
   "execution_count": 40,
   "metadata": {},
   "outputs": [
    {
     "name": "stdout",
     "output_type": "stream",
     "text": [
      "643.68\n"
     ]
    }
   ],
   "source": [
    "\n",
    "df1 = df.groupby(['city','f4']).mean()\n",
    "df2 = df1.sort_values(by =['f5'],ascending = False) # @ ascending = 오름차순이니까 False라서 내림차순 => 계단내려가듯이 큰거부터 작은거\n",
    "answer = round((sum(df2['f5'].values[0:7])),2)\n",
    "print(answer)\n",
    "\n",
    "# df_1 = df.groupby([\"city\",'f4']).mean()\n",
    "# df_2 = df_1.sort_values(['f5'],ascending=False)[:7].sum()\n",
    "# print(df_2['f5'].sum())"
   ]
  },
  {
   "cell_type": "code",
   "execution_count": 43,
   "metadata": {},
   "outputs": [
    {
     "name": "stdout",
     "output_type": "stream",
     "text": [
      "643.68\n"
     ]
    }
   ],
   "source": [
    "# 기준값으로 f5평균값 구함\n",
    "df_groupby = df.groupby(by = [\"city\",\"f4\"]).mean()\n",
    "\n",
    "# print(df_groupby.index)\n",
    "# f5기준 상위 7개 값 더함\n",
    "answer = df_groupby.sort_values(by = [\"f5\"],ascending= False).iloc[0:7].f5.sum()\n",
    "answer = round(answer, 2)\n",
    "print(answer)\n"
   ]
  },
  {
   "cell_type": "markdown",
   "metadata": {},
   "source": [
    "# T1-15\n",
    "주어진 데이터 셋에서 age컬럼 상위 20개의 데이터를 구한 다음\n",
    "f1의 결측치를 f1의 중앙값으로 채운다.\n",
    "그리고 f4가 ISFJ와 f5가 20 이상인 f1의 평균값을 출력하시오!"
   ]
  },
  {
   "cell_type": "code",
   "execution_count": 46,
   "metadata": {},
   "outputs": [],
   "source": [
    "df = pd.read_csv(path + '\\\\bigdatacertificationkr\\\\basic1.csv')"
   ]
  },
  {
   "cell_type": "code",
   "execution_count": 47,
   "metadata": {},
   "outputs": [
    {
     "name": "stdout",
     "output_type": "stream",
     "text": [
      "73.875\n"
     ]
    }
   ],
   "source": [
    "# val = df.sort_values(by= ['age'])[-20:].median()['f1'] # 결측치 채울 값\n",
    "# df['f1'] = df['f1'].fillna(val)\n",
    "# answer = df.loc[(df['f4']==\"ISFJ\")&(df['f5']>=20)]['f1'].mean()\n",
    "# print(answer)\n",
    "\n",
    "# ## @@ 틀렷는데 문제가 좀;; \n",
    "\n",
    "df_1 = df.sort_values([\"age\"])[-20:]\n",
    "df_2 = df_1.fillna(df_1['f1'].median())\n",
    "answer = df_2[(df_2['f4']==\"ISFJ\") & (df_2[\"f5\"]>20)]['f1'].mean()\n",
    "print(answer)"
   ]
  },
  {
   "cell_type": "code",
   "execution_count": 48,
   "metadata": {},
   "outputs": [
    {
     "name": "stdout",
     "output_type": "stream",
     "text": [
      "73.875\n"
     ]
    }
   ],
   "source": [
    "df1 = df.sort_values(by= 'age',ascending = False).iloc[:20]\n",
    "\n",
    "val = df1.f1.median()\n",
    "df1[\"f1\"] = df1[\"f1\"].fillna(val)\n",
    "\n",
    "answer = df1.loc[(df[\"f4\"]==\"ISFJ\")& (df[\"f5\"]>=20)].f1.mean()\n",
    "\n",
    "print(answer)"
   ]
  },
  {
   "cell_type": "code",
   "execution_count": null,
   "metadata": {},
   "outputs": [],
   "source": []
  },
  {
   "cell_type": "markdown",
   "metadata": {},
   "source": [
    "# T1-16. 분산 Expected Question\n",
    "\n",
    "주어진 데이터 셋에서 f2가 0값인 데이터를 age를 기준으로 오름차순 정렬하고\n",
    "앞에서 부터 20개의 데이터를 추출한 후 \n",
    "f1 결측치(최소값)를 채우기 전과 후의 (f1) 분산 차이를 계산하시오 (소수점 둘째 자리까지)\n",
    "자유도 = 1.(df.var)로 한다 \n",
    "##### 자유도 0 은 np.var, np.std"
   ]
  },
  {
   "cell_type": "code",
   "execution_count": 37,
   "metadata": {},
   "outputs": [],
   "source": [
    "df = pd.read_csv(path + '\\\\bigdatacertificationkr\\\\basic1.csv')"
   ]
  },
  {
   "cell_type": "code",
   "execution_count": 39,
   "metadata": {},
   "outputs": [
    {
     "name": "stdout",
     "output_type": "stream",
     "text": [
      "22.13\n"
     ]
    }
   ],
   "source": [
    "df1 = df.loc[df[\"f2\"]==0].copy()\n",
    "df1 = df1.sort_values(by= ['age'],ascending=True).iloc[:20]\n",
    "before = df1['f1'].var() # @ 분산인데 표준편차씀 ㅄ\n",
    "# before = np.var(df1['f1'])\n",
    "df1[\"f1\"] = df1[\"f1\"].fillna(df1[\"f1\"].min())\n",
    "after = df1['f1'].var()\n",
    "# after = np.var(df1['f1'])\n",
    "answer = round(before - after,2)\n",
    "print(answer)"
   ]
  },
  {
   "cell_type": "code",
   "execution_count": 51,
   "metadata": {},
   "outputs": [
    {
     "name": "stdout",
     "output_type": "stream",
     "text": [
      "38.44\n"
     ]
    }
   ],
   "source": [
    "df1 = df.loc[df[\"f2\"]==0]\n",
    "df1 = df1.sort_values(by= [\"age\"],ascending = True)\n",
    "df2 = df1[:20].copy()\n",
    "\n",
    "a = df2.f1.var(ddof = 1)\n",
    "\n",
    "df2[\"f1\"] = df2[\"f1\"].fillna(min(df2[\"f1\"]))\n",
    "b = df2.f1.var(ddof = 1)\n",
    "\n",
    "answer = round(a-b,2)\n",
    "print(answer)"
   ]
  },
  {
   "cell_type": "code",
   "execution_count": 17,
   "metadata": {},
   "outputs": [
    {
     "name": "stdout",
     "output_type": "stream",
     "text": [
      "38.44\n"
     ]
    }
   ],
   "source": [
    "# df1 = df.loc[(df['f2']==0)].sort_values(by=\"age\", ascending = True)[:20] # @@ ascending 외우기\n",
    "# df2 = df1.copy() # @ 틀리진 않았지만 copy를 쓰냐 안쓰냐로 데이터 값이 천차 만별임\n",
    "# df2['f1'] = df2['f1'].fillna(df2['f1'].min())\n",
    "\n",
    "# answer = round(df1['f1'].var()- df2['f1'].var(),2)\n",
    "# print(answer)\n",
    "\n",
    "# # df1 = df.loc[(df['f2']==0)].sort_values(by=\"age\", ascending = True)[:20] \n",
    "# # df2 = df1\n",
    "# # df2['f1'] = df2['f1'].fillna(df2['f1'].min())\n",
    "\n",
    "# # answer = round(df1['f1'].var()- df2['f1'].var(),2)\n",
    "# # print(answer)"
   ]
  },
  {
   "cell_type": "code",
   "execution_count": null,
   "metadata": {},
   "outputs": [],
   "source": [
    "# # f2가 0인 데이터 정렬(age 오름차순)\n",
    "# cond = (df['f2']==0)\n",
    "# df = df[cond].sort_values('age', ascending=True).reset_index(drop=True)\n",
    "\n",
    "# # 앞에서 부터 20개의 데이터 \n",
    "# df = df[:20]\n",
    "\n",
    "# # f1 결측치(최소값)를 채우기 전과 후의 분산\n",
    "# df_var1 = df['f1'].var()\n",
    "# df['f1'] = df['f1'].fillna(df['f1'].min())\n",
    "# df_var2 = df['f1'].var()\n",
    "\n",
    "# # 소수점 둘째자리까지 출력\n",
    "# print(round(df_var1 - df_var2, 2))\n",
    "\n",
    "# # 정답 : 38.44\n",
    "\n",
    "\n",
    "\n",
    "\n",
    "# # 추가 설명 판다스와 넘파이 기본값 비교\n",
    "\n",
    "# import numpy as np\n",
    "# print(\"numpy:\", np.var(df['f1']))\n",
    "# print(\"pandas(ddof=0):\",df['f1'].var(ddof=0))\n",
    "\n",
    "# print(\"pandas:\",df['f1'].var())\n",
    "# print(\"numpy(ddof=1):\", np.var(df['f1'], ddof=1))"
   ]
  },
  {
   "cell_type": "markdown",
   "metadata": {},
   "source": [
    "# T1-17 시계열 데이터\n",
    "\n",
    "2022년 5월 sales의 중앙값을 구하시오. 정수로 출력하시오"
   ]
  },
  {
   "cell_type": "code",
   "execution_count": 18,
   "metadata": {},
   "outputs": [],
   "source": [
    "import pandas as pd \n",
    "import numpy as np\n",
    "\n",
    "df = pd.read_csv(path + '\\\\bigdatacertificationkr\\\\basic2.csv')"
   ]
  },
  {
   "cell_type": "code",
   "execution_count": 19,
   "metadata": {},
   "outputs": [
    {
     "name": "stdout",
     "output_type": "stream",
     "text": [
      "1477685\n"
     ]
    }
   ],
   "source": [
    "df['Date'] = pd.to_datetime(df[\"Date\"]) # @@ 바보같이 문제 확인 제대로 안함\n",
    "\n",
    "df1 = df.loc[df['Date'].between(\"2022-05-01\",\"2022-05-31\")]\n",
    "answer = int(df1.Sales.median()) # df1['Sales'].median()\n",
    "print(answer)"
   ]
  },
  {
   "cell_type": "code",
   "execution_count": 66,
   "metadata": {},
   "outputs": [],
   "source": [
    "# df['Date'] = pd.to_datetime(df[\"Date\"]) # @@ 바보같이 문제 확인 제대로 안함\n",
    "\n",
    "# df['year'] = df['Date'].dt.year\n",
    "# df['month'] = df['Date'].dt.month\n",
    "# # df['day'] = df['Date'].dt.day\n",
    "# df1 = df.loc[(df['year'] == 2022) & (df['month'] == 5)]\n",
    "# answer = int(df1['Sales'].median())\n",
    "# print(answer)"
   ]
  },
  {
   "cell_type": "markdown",
   "metadata": {},
   "source": [
    "# T1-18. 시계열 데이터2\n",
    "\n",
    "주어진 데이터에서 2022년 5월 주말과 평일의 sales컬럼 평균값 차이를 구하시오 (소수점 둘째자리까지 출력, 반올림)"
   ]
  },
  {
   "cell_type": "code",
   "execution_count": 20,
   "metadata": {},
   "outputs": [],
   "source": [
    "df = pd.read_csv(path + '\\\\bigdatacertificationkr\\\\basic2.csv')"
   ]
  },
  {
   "cell_type": "code",
   "execution_count": 21,
   "metadata": {},
   "outputs": [
    {
     "name": "stdout",
     "output_type": "stream",
     "text": [
      "3010339.1\n"
     ]
    }
   ],
   "source": [
    "df['Date'] = pd.to_datetime(df['Date'])\n",
    "df = df.loc[df['Date'].between(\"2022-05-01\",\"2022-05-31\")]\n",
    "\n",
    "df['dayofweek'] = df[\"Date\"].dt.dayofweek # @@ dt를 꼭 써주어야만 dayofweek가 된다 # @@ 월화수목금토일 0~6\n",
    "\n",
    "df1 = df.loc[(df[\"dayofweek\"]== 5)|(df[\"dayofweek\"]== 6)] # 주말\n",
    "df2 = df.loc[~((df[\"dayofweek\"]== 5)|(df[\"dayofweek\"]== 6))] # 평일\n",
    "\n",
    "a1 = df1['Sales'].mean()\n",
    "a2 = df2['Sales'].mean()\n",
    "answer = round(abs(a1-a2),2)\n",
    "print(answer)"
   ]
  },
  {
   "cell_type": "markdown",
   "metadata": {},
   "source": [
    "# T1-19. 시계열 데이터3\n",
    "\n",
    "주어진 데이터에서 2022년 월별 Sales 합계 중 가장 큰 금액과\n",
    "2023년 월별 Sales 합계 중 가장 큰 금액의 차이를 절대값으로 구하시오.\n",
    "단 Events컬럼이 '1'인경우 80%의 Salse값만 반영함\n",
    "최종값은 소수점 반올림 후 정수 출력"
   ]
  },
  {
   "cell_type": "code",
   "execution_count": 64,
   "metadata": {},
   "outputs": [],
   "source": [
    "df = pd.read_csv(path + '\\\\bigdatacertificationkr\\\\basic2.csv')"
   ]
  },
  {
   "cell_type": "code",
   "execution_count": 67,
   "metadata": {},
   "outputs": [
    {
     "name": "stdout",
     "output_type": "stream",
     "text": [
      "42473436\n",
      "197145878.0\n",
      "239619313.8\n"
     ]
    }
   ],
   "source": [
    "\n",
    "df[\"Date\"] = pd.to_datetime(df[\"Date\"])\n",
    "\n",
    "df[\"year\"] = df[\"Date\"].dt.year\n",
    "df[\"month\"] = df[\"Date\"].dt.month\n",
    "\n",
    "df.loc[(df['Events']==1),\"Sales_1\"] =df[\"Sales\"]*0.8\n",
    "df.loc[(df['Events']!=1),\"Sales_1\"] =df[\"Sales\"]\n",
    "\n",
    "df_1 = df[df[\"year\"]==2022]\n",
    "val_1 = df_1.groupby([\"year\",\"month\"]).sum()[\"Sales_1\"].max()\n",
    "# print(df_1)\n",
    "df_2 = df[df[\"year\"]==2023]\n",
    "val_2 = df_2.groupby([\"year\",\"month\"]).sum()[\"Sales_1\"].max()\n",
    "print(int(round(abs(val_1-val_2),0)))\n",
    "print(val_1)\n",
    "print(val_2)"
   ]
  },
  {
   "cell_type": "code",
   "execution_count": 63,
   "metadata": {},
   "outputs": [
    {
     "name": "stdout",
     "output_type": "stream",
     "text": [
      "42473436\n"
     ]
    }
   ],
   "source": [
    "df[\"Date\"] = pd.to_datetime(df[\"Date\"])\n",
    "df[\"year\"] = df[\"Date\"].dt.year\n",
    "df[\"month\"] = df[\"Date\"].dt.month\n",
    "\n",
    "df[\"reSales\"] = df[\"Sales\"]\n",
    "\n",
    "df.loc[(df[\"Events\"]==1),\"reSales\"] = df.loc[(df[\"Events\"]==1)][\"Sales\"] * 0.8\n",
    "# df.loc[(df[\"Events\"]==1),\"reSales\"] = df[\"Sales\"] * 0.8\n",
    "\n",
    "df_groupby = df.groupby(by = [\"year\",\"month\"]).sum()\n",
    "\n",
    "a = max(df_groupby.loc[2022,:].reSales)\n",
    "b = max(df_groupby.loc[2023,:].reSales)\n",
    "answer = int(round(abs(a-b),0))\n",
    "print(answer)"
   ]
  },
  {
   "cell_type": "code",
   "execution_count": 60,
   "metadata": {},
   "outputs": [
    {
     "name": "stdout",
     "output_type": "stream",
     "text": [
      "42473436\n"
     ]
    }
   ],
   "source": [
    "df['Date'] = pd.to_datetime(df['Date'])\n",
    "df['year'] = df['Date'].dt.year\n",
    "df['month'] = df['Date'].dt.month\n",
    "\n",
    "# Salse 항목이 1인 경우는 80% 만 반영한다\n",
    "# 그룹바이로 집계 내리기 전에 해야 한다. 이벤트 컬럼도 바뀌기 떄문.\n",
    "df[\"reSales\"] = df[\"Sales\"]\n",
    "df.loc[df[\"Events\"]== 1,['reSales']] = df[\"Sales\"] * 0.8 # @@ loc쓰면 데이터프레임 인덱스 봐서 찾아주는 기능이 있나봄\n",
    "\n",
    "df_groupby = df.groupby(by = ['year','month']).sum()  \n",
    "\n",
    "# @ groupby 된 항목은 index보고 df.loc[( , )]형식으로 불러올수 있다\n",
    "df_1 = df_groupby.loc[(2022,)]\n",
    "df_2 = df_groupby.loc[(2023,)]\n",
    "\n",
    "val_1 = df_1.reSales.max()\n",
    "val_2 = df_2.reSales.max()\n",
    "\n",
    "answer = int(round((abs(val_1-val_2)),0))\n",
    "print(answer)"
   ]
  },
  {
   "cell_type": "code",
   "execution_count": null,
   "metadata": {},
   "outputs": [],
   "source": [
    "# 날짜 컬럼 생성\n",
    "df['year'] = df['Date'].dt.year\n",
    "df['month'] = df['Date'].dt.month\n",
    "df['day'] = df['Date'].dt.day\n",
    "df['dayofweek'] = df['Date'].dt.dayofweek\n",
    "\n",
    "# 이벤트가 1인 sales값은 80%만 반영\n",
    "\n",
    "def event_sales(x):\n",
    "    if x['Events'] == 1:\n",
    "        x['Sales2'] = x['Sales']*0.8\n",
    "    else:\n",
    "        x['Sales2'] = x['Sales']\n",
    "    return x\n",
    "\n",
    "\n",
    "df = df.apply(lambda x: event_sales(x), axis=1) #1일 경우 row, 0일 경우 컬럼\n",
    "df.head()\n",
    "\n",
    "# 2022년 월별 합계 중 가장 큰 값\n",
    "cond = df['year'] == 2022\n",
    "df1 = df[cond]\n",
    "sale1 = df1.groupby('month')['Sales2'].sum().max()\n",
    "\n",
    "\n",
    "# 2023년 월별 합계 중 가장 큰 값\n",
    "cond = df['year'] == 2023\n",
    "df2 = df[cond]\n",
    "sale2 = df2.groupby('month')['Sales2'].sum().max()\n",
    "\n",
    "# 결과값 반올림 후 정수 출력\n",
    "int(round(abs(sale1 - sale2),0))"
   ]
  },
  {
   "cell_type": "markdown",
   "metadata": {},
   "source": [
    "# T1-20\n",
    "basic1 데이터 중 'f4'를 기준으로 basic3 데이터 'f4'값을 기준으로 병합하고,\n",
    "병합한 데이터에서 r2결측치를 제거한다음, 앞에서 부터 20개 데이터를 선택하고 'f2'컬럼 합을 구하시오"
   ]
  },
  {
   "cell_type": "code",
   "execution_count": 76,
   "metadata": {},
   "outputs": [],
   "source": [
    "import pandas as pd\n",
    "import numpy as np\n",
    "df1 = pd.read_csv(path + '\\\\bigdatacertificationkr\\\\basic1.csv')\n",
    "df3 = pd.read_csv(path + '\\\\bigdatacertificationkr\\\\basic3.csv')"
   ]
  },
  {
   "cell_type": "code",
   "execution_count": 74,
   "metadata": {},
   "outputs": [
    {
     "name": "stdout",
     "output_type": "stream",
     "text": [
      "15\n"
     ]
    }
   ],
   "source": [
    "df = pd.merge(df1,df3,on = 'f4',how = \"left\") #@@ how에 left를 쓸 경우 df1의 고유값을 기준으로 한다\n",
    "df = df.loc[df['r2'].isna()==False]\n",
    "df = df.reset_index(drop= True)\n",
    "answer = df[:20]['f2'].sum()\n",
    "print(answer)"
   ]
  },
  {
   "cell_type": "code",
   "execution_count": 82,
   "metadata": {},
   "outputs": [
    {
     "name": "stdout",
     "output_type": "stream",
     "text": [
      "15\n"
     ]
    }
   ],
   "source": [
    "df = pd.merge(df1,df3,how = \"left\", on = \"f4\")\n",
    "# print(df.info())\n",
    "\n",
    "df = df.loc[df[\"r2\"].isna()==False]\n",
    "aa = df.iloc[:20].f2.sum()\n",
    "print(aa)"
   ]
  },
  {
   "cell_type": "markdown",
   "metadata": {},
   "source": [
    "# T1-21\n",
    "basic1 데이터 중 'age'컬럼 이상치를 제거하고, 동일한 개수로 나이 순으로 3그룹으로 나눈 뒤(오름차순) 각 그룹의 중앙값을 더하시오\n",
    "(이상치는 음수(0포함), 소수점 값)"
   ]
  },
  {
   "cell_type": "code",
   "execution_count": 8,
   "metadata": {},
   "outputs": [],
   "source": [
    "import pandas as pd\n",
    "import numpy as np# T1-21\n",
    "\n",
    "df = pd.read_csv(path + '\\\\bigdatacertificationkr\\\\basic1.csv')"
   ]
  },
  {
   "cell_type": "code",
   "execution_count": 9,
   "metadata": {},
   "outputs": [
    {
     "name": "stdout",
     "output_type": "stream",
     "text": [
      "165.0\n"
     ]
    }
   ],
   "source": [
    "#age 컬럼 이상치 (음수, 소수점 값)제거\n",
    "df = df.loc[~(df[\"age\"]<=0)]\n",
    "df = df.loc[(df[\"age\"]//1 == df[\"age\"])]\n",
    "\n",
    "\n",
    "# print(df[[\"age\"]])\n",
    "#나이순 오름차순 정렬 후 3그룹으로 나눔\n",
    "df = df.sort_values(by = [\"age\"],ascending = True) \n",
    "# print(df.age)\n",
    "a = int(len(df)/3)\n",
    "df1 = df.iloc[:a,:]\n",
    "df2 = df.iloc[a:a*2,:]\n",
    "df3 = df.iloc[a*2:,:]\n",
    "# print((df1.index),(df2.index),(df3.index))\n",
    "# print(df1[\"age\"])\n",
    "#그 그룹의 중앙값을 더함\n",
    "answer = (df1.age.median() + df2.age.median() + df3.age.median())\n",
    "print(answer)"
   ]
  },
  {
   "cell_type": "code",
   "execution_count": 10,
   "metadata": {},
   "outputs": [
    {
     "name": "stdout",
     "output_type": "stream",
     "text": [
      "165.0\n"
     ]
    }
   ],
   "source": [
    "df1 = df.loc[~((df[\"age\"]<=0) | ((df[\"age\"]//1)!=df[\"age\"]) )]\n",
    "df1 = df1.sort_values(by= 'age',ascending= True)\n",
    "df1 = df1.reset_index(drop = True)\n",
    "\n",
    "by_len = int(len(df1)/3)\n",
    "\n",
    "df_1 = df1[:by_len]\n",
    "df_2 = df1[by_len:by_len+by_len]\n",
    "df_3 = df1[by_len+by_len:]\n",
    "\n",
    "answer = df_1.age.median()+df_2.age.median()+df_3.age.median()\n",
    "print(answer)"
   ]
  },
  {
   "cell_type": "code",
   "execution_count": null,
   "metadata": {},
   "outputs": [],
   "source": [
    "\n",
    "# # age 이상치 (음수(0포함), 소수점 제거)\n",
    "# print('전체 데이터:', df.shape)\n",
    "# df = df[~(df['age'] <= 0)]\n",
    "# print('음수(0포함)값 제거 후 데이터 크기:', df.shape)\n",
    "\n",
    "# df = df[(df['age'] == round(df['age'],0))]\n",
    "\n",
    "# df['range'] = pd.qcut(df['age'], q=3, labels=['group1','group2','group3'])\n",
    "# g1_med = df[df['range'] == 'group1']['age'].median()\n",
    "# g2_med = df[df['range'] == 'group2']['age'].median()\n",
    "# g3_med = df[df['range'] == 'group3']['age'].median()\n",
    "# print(g1_med + g2_med + g3_med)"
   ]
  },
  {
   "cell_type": "code",
   "execution_count": null,
   "metadata": {},
   "outputs": [],
   "source": []
  },
  {
   "cell_type": "markdown",
   "metadata": {},
   "source": [
    "# T1-22. Time-Series4 (Weekly data)\n",
    "주어진 데이터(basic2.csv)에서 주 단위 Sales의 합계를 구하고, 가장 큰 값을 가진 주와 작은 값을 가진 주의 차이를 구하시오(절대값)"
   ]
  },
  {
   "cell_type": "code",
   "execution_count": 11,
   "metadata": {},
   "outputs": [],
   "source": [
    "import numpy as np\n",
    "import pandas as pd\n",
    "df = pd.read_csv(path + '\\\\bigdatacertificationkr\\\\basic2.csv')"
   ]
  },
  {
   "cell_type": "code",
   "execution_count": 14,
   "metadata": {},
   "outputs": [
    {
     "name": "stdout",
     "output_type": "stream",
     "text": [
      "91639050\n"
     ]
    },
    {
     "name": "stderr",
     "output_type": "stream",
     "text": [
      "c:\\users\\happy\\appdata\\local\\programs\\python\\python37\\lib\\site-packages\\ipykernel_launcher.py:6: FutureWarning: Series.dt.weekofyear and Series.dt.week have been deprecated.  Please use Series.dt.isocalendar().week instead.\n",
      "  \n"
     ]
    }
   ],
   "source": [
    "df[\"day\"] = pd.to_datetime(df[\"Date\"])\n",
    "# df[\"day\"] = df.index \n",
    "# print(df.info())\n",
    "\n",
    "df[\"year\"] = df.day.dt.year\n",
    "df[\"weekofyear\"] = df.day.dt.weekofyear\n",
    "\n",
    "# 주단위 Salse의 합계\n",
    "df_groupby = df.groupby(by = [\"year\",\"weekofyear\"]).sum()\n",
    "\n",
    "# 가장 큰 값과 가장 작은 주의 차를 구하라\n",
    "a = min(df_groupby.Sales)\n",
    "b = max(df_groupby.Sales)\n",
    "# print(df_groupby.Sales.values)\n",
    "\n",
    "answer = abs(a-b)\n",
    "print(answer)"
   ]
  },
  {
   "cell_type": "code",
   "execution_count": 12,
   "metadata": {},
   "outputs": [
    {
     "name": "stdout",
     "output_type": "stream",
     "text": [
      "91639050\n"
     ]
    },
    {
     "name": "stderr",
     "output_type": "stream",
     "text": [
      "c:\\users\\happy\\appdata\\local\\programs\\python\\python37\\lib\\site-packages\\ipykernel_launcher.py:3: FutureWarning: Series.dt.weekofyear and Series.dt.week have been deprecated.  Please use Series.dt.isocalendar().week instead.\n",
      "  This is separate from the ipykernel package so we can avoid doing imports until\n"
     ]
    }
   ],
   "source": [
    "df[\"Date\"] = pd.to_datetime(df[\"Date\"])\n",
    "\n",
    "df[\"weekofyear\"] = df[\"Date\"].dt.weekofyear# @@ 주단위는 dayoweek\n",
    "df[\"year\"] = df[\"Date\"].dt.year# @@ 주단위는 dayoweek\n",
    "\n",
    "df_groupby = df.groupby(by= [\"year\",\"weekofyear\"]).sum()\n",
    "\n",
    "df_max = df_groupby[\"Sales\"].max()\n",
    "df_min = df_groupby[\"Sales\"].min()\n",
    "answer = abs(df_max - df_min)\n",
    "print(answer)"
   ]
  },
  {
   "cell_type": "code",
   "execution_count": 50,
   "metadata": {},
   "outputs": [
    {
     "name": "stdout",
     "output_type": "stream",
     "text": [
      "91639050\n"
     ]
    }
   ],
   "source": [
    "df = pd.read_csv(path + '\\\\bigdatacertificationkr\\\\basic2.csv')\n",
    "# @ 인덱스 자체가 타임 테이블 형이면 resample 방식도 가능한것 같다,\n",
    "df[\"Date\"] = pd.to_datetime(df[\"Date\"])\n",
    "\n",
    "df = df.set_index([\"Date\"])\n",
    "\n",
    "df_w = df.resample('W').sum()\n",
    "\n",
    "\n",
    "ma = df_w['Sales'].max()\n",
    "mi = df_w['Sales'].min()\n",
    "print(ma - mi)"
   ]
  },
  {
   "cell_type": "markdown",
   "metadata": {},
   "source": [
    "# T1-23. 중복 데이터 제거 Drop Duplicates\n",
    "f1의 결측치를 채운 후 age 컬럼의 중복 제거 전과 후의 'f1' 중앙값 차이를 구하시오\n",
    "- 결측치는 f1의 데이터 중 내림차순 정렬 후 10번째 값으로 채움 (채우기만 하고 df를 내림차순 정렬은 x)\n",
    "- 중복 데이터 발생시 뒤에 나오는 데이터를 삭제함\n",
    "- 최종 결과값은 절대값으로 출력"
   ]
  },
  {
   "cell_type": "code",
   "execution_count": 16,
   "metadata": {},
   "outputs": [],
   "source": [
    "import numpy as np\n",
    "import pandas as pd\n",
    "df = pd.read_csv(path+'\\\\bigdatacertificationkr\\\\basic1.csv')"
   ]
  },
  {
   "cell_type": "code",
   "execution_count": null,
   "metadata": {},
   "outputs": [],
   "source": [
    "# f1 결측치 채운 후 (f1의 데이터중 내림차순 정렬 후 10번째 값)\n",
    "a = df.sort_values(by = [\"f1\"], ascending = False).f1.iloc[9]\n",
    "# print(df.sort_values(by = [\"f1\"], ascending = False).f1.iloc[0:10])\n",
    "df['f1'] = df.f1.fillna(a)\n",
    "\n",
    "# age 컬럼 중복 제거 전 f1중앙값\n",
    "before = df['f1'].median()\n",
    "\n",
    "# age 컬럼 중복 제거 후 f1중앙값\n",
    "df = df.drop_duplicates([\"age\"])\n",
    "\n",
    "after = df.f1.median()\n",
    "# 두 값의차이 절대값\n",
    "\n",
    "answer = (before - after)\n",
    "print(answer)\n"
   ]
  },
  {
   "cell_type": "code",
   "execution_count": 17,
   "metadata": {},
   "outputs": [
    {
     "name": "stdout",
     "output_type": "stream",
     "text": [
      "87.0\n",
      "56    111.0\n",
      "7     101.0\n",
      "57    100.0\n",
      "73     98.0\n",
      "71     97.0\n",
      "69     96.0\n",
      "77     96.0\n",
      "32     94.0\n",
      "48     88.0\n",
      "44     88.0\n",
      "Name: f1, dtype: float64\n"
     ]
    }
   ],
   "source": [
    "a = df.sort_values(by = [\"f1\"], ascending = False).f1.iloc[10]\n",
    "print(a)\n",
    "print(df.sort_values(by = [\"f1\"], ascending = False).f1.iloc[0:10])"
   ]
  },
  {
   "cell_type": "code",
   "execution_count": 18,
   "metadata": {},
   "outputs": [
    {
     "name": "stdout",
     "output_type": "stream",
     "text": [
      "0.5\n"
     ]
    }
   ],
   "source": [
    "# 틀림 !!! val = df[\"f1\"].sort_values(ascending = False)[10] # 내림차순 정렬 후 9 번쨰 값 @@ .iloc를 이용할것 !!!!! \n",
    "val = df[\"f1\"].sort_values(ascending = False).iloc[9] # @@ 내림차순 정렬 후 9 번쨰 값 @@ .iloc를 이용할것 !!!!! \n",
    "df['f1'] = df['f1'].fillna(val) # @@ df는 초기화 하지 않았음 ;; 문제 ..\n",
    "\n",
    "df_before = df\n",
    "\n",
    "df_after = df.loc[~df[\"age\"].duplicated()]# duplicated로 중복 제거\n",
    "\n",
    "a = df_before[\"f1\"].median()\n",
    "b = df_after[\"f1\"].median()\n",
    "answer = abs(a - b)\n",
    "print(answer)"
   ]
  },
  {
   "cell_type": "markdown",
   "metadata": {},
   "source": [
    "# T1-24. Time-Series5 (Lagged Feature) 시차 데이터 생성\n",
    "주어진 데이터(basic2.csv)에서 pv 컬럼의 하루 전 데이터를 이용한 새로운 컬럼(1일 이전 시차 컬럼)을 만들고, Events가 1이면서 Sales가 1000000이하인 조건에 맞는 새로운 컬럼의 합을 구하시오 \n",
    "단, 결측값은 이전 값으로 채우시오"
   ]
  },
  {
   "cell_type": "code",
   "execution_count": 20,
   "metadata": {},
   "outputs": [],
   "source": [
    "df = pd.read_csv(path + '\\\\bigdatacertificationkr\\\\basic2.csv')"
   ]
  },
  {
   "cell_type": "code",
   "execution_count": null,
   "metadata": {},
   "outputs": [],
   "source": [
    "df[\"PV_shift\"] = df[\"PV\"].shift(1).fillna(method = \"bfill\") # @@ shift 틀림\n",
    "df = df.loc[(df[\"Events\"]==1)]\n",
    "df = df.loc[df[\"Sales\"]<=1000000]\n",
    "print(df.PV_shift)\n",
    "df.PV_shift.sum()\n",
    "\n",
    "answer = df.loc[((df[\"Events\"]==1) & (df[\"Sales\"]<=1000000))].PV_shift.sum()\n",
    "print(answer)"
   ]
  },
  {
   "cell_type": "code",
   "execution_count": 21,
   "metadata": {},
   "outputs": [
    {
     "name": "stdout",
     "output_type": "stream",
     "text": [
      "1894876.0\n"
     ]
    }
   ],
   "source": [
    "df['Date'] = pd.to_datetime(df['Date']) # @ 자꾸 틀리네\n",
    "df[\"new_cal\"] = df[\"PV\"].shift(1) # @@  shift( ) 라는 메서드를 사용하면 원하는 수 만큼 시프트 시킬 수 있음\n",
    "df1 = df.loc[((df['Events']== 1)& (df[\"Sales\"] <= 1000000))].fillna(method = \"bfill\") # @ 여기 실수함 괄호 조건!\n",
    "# backfill 은 이전 값! \n",
    "\n",
    "answer = df1[\"new_cal\"].sum()\n",
    "print(answer)"
   ]
  },
  {
   "cell_type": "code",
   "execution_count": null,
   "metadata": {},
   "outputs": [],
   "source": []
  },
  {
   "cell_type": "markdown",
   "metadata": {},
   "source": [
    "# T1-작업형 모의고사\n",
    "\n",
    "1. 첫번째 데이터 부터 순서대로 50:50으로 데이터를 나누고, 앞에서 부터 50%의 데이터(이하, A그룹)는 'f1'컬럼의 결측치를 A그룹의 중앙값으로 채우고, 뒤에서부터 50% 데이터(이하, B그룹)는 'f1'컬럼의 결측치를 B그룹의 최대값으로 채운 후, A그룹과 B그룹의 f1 컬럼의 표준편차 합을 구하시오\n",
    "단, 소수점 첫째자리까지 구하시오 (둘째자리에서 반올림),(자유도 = 1)\n"
   ]
  },
  {
   "cell_type": "code",
   "execution_count": 22,
   "metadata": {},
   "outputs": [],
   "source": [
    "import numpy as np \n",
    "import pandas as pd\n",
    "df = pd.read_csv(path + '\\\\bigdatacertificationkr\\\\basic1.csv')\n"
   ]
  },
  {
   "cell_type": "code",
   "execution_count": 23,
   "metadata": {},
   "outputs": [
    {
     "name": "stdout",
     "output_type": "stream",
     "text": [
      "42.0\n"
     ]
    }
   ],
   "source": [
    "a = int(len(df)/2)\n",
    "\n",
    "#f1 컬럼의 결측치를 A그룹의 중앙값으로 채움\n",
    "df_A = df.iloc[:a,:].copy()\n",
    "df_A[\"f1\"] = df_A.f1.fillna(df_A.f1.median())\n",
    "\n",
    "# f1 컬럼의 결측치를 b그룹의 최대값으로 채움 \n",
    "df_B = df.iloc[a:,:].copy()\n",
    "df_B[\"f1\"] = df_B.f1.fillna(df_B.f1.max())\n",
    "\n",
    "#a,b그룹의 f1컬럼의 표준편차의 합을 소숫점 첫재짜리까지 반올림, 자유도 = 1\n",
    "\n",
    "a = df_A.f1.std(ddof = 1)\n",
    "b = df_B.f1.std(ddof = 1)\n",
    "answer = round(a + b,1)\n",
    "print(answer)"
   ]
  },
  {
   "cell_type": "code",
   "execution_count": 24,
   "metadata": {},
   "outputs": [
    {
     "name": "stdout",
     "output_type": "stream",
     "text": [
      "42.0\n"
     ]
    },
    {
     "name": "stderr",
     "output_type": "stream",
     "text": [
      "c:\\users\\happy\\appdata\\local\\programs\\python\\python37\\lib\\site-packages\\pandas\\core\\frame.py:3188: SettingWithCopyWarning: \n",
      "A value is trying to be set on a copy of a slice from a DataFrame.\n",
      "Try using .loc[row_indexer,col_indexer] = value instead\n",
      "\n",
      "See the caveats in the documentation: https://pandas.pydata.org/pandas-docs/stable/user_guide/indexing.html#returning-a-view-versus-a-copy\n",
      "  self[k1] = value[k2]\n"
     ]
    }
   ],
   "source": [
    "df_A = df[:int(len(df)/2)]\n",
    "df_B = df[int(len(df)/2):]\n",
    "\n",
    "df_A[[\"f1\"]] = df_A[[\"f1\"]].fillna(df_A[[\"f1\"]].fillna(df_A[[\"f1\"]].median()))\n",
    "\n",
    "df_B[[\"f1\"]] = df_B[[\"f1\"]].fillna(df_B[[\"f1\"]].fillna(df_B[[\"f1\"]].max()))\n",
    "\n",
    "a = df_A[[\"f1\"]].std()\n",
    "b = df_B[[\"f1\"]].std()\n",
    "\n",
    "answer = float(round(a+b,1)) # @ 이런식으로 써야 타입이 float가 됨..\n",
    "print(answer)"
   ]
  },
  {
   "cell_type": "markdown",
   "metadata": {},
   "source": [
    "2. 'f4'컬럼을 기준 내림차순 정렬과 'f5'컬럼기준 오름차순 정렬을 순서대로 다중 조건 정렬하고나서 앞에서부터 10개의 데이터 중 'f5'컬럼의 최소값 찾고, 이 최소값으로 앞에서 부터 10개의 'f5'컬럼 데이터를 변경함. 그리고 'f5'컬럼의 평균값을 계산함\n",
    "단 소수점 둘째자리까지 출력(셋째자리에서 반올림)"
   ]
  },
  {
   "cell_type": "code",
   "execution_count": 25,
   "metadata": {},
   "outputs": [],
   "source": [
    "df = pd.read_csv(path+'\\\\bigdatacertificationkr\\\\basic1.csv')"
   ]
  },
  {
   "cell_type": "code",
   "execution_count": 26,
   "metadata": {},
   "outputs": [
    {
     "name": "stdout",
     "output_type": "stream",
     "text": [
      "53.63\n"
     ]
    },
    {
     "name": "stderr",
     "output_type": "stream",
     "text": [
      "c:\\users\\happy\\appdata\\local\\programs\\python\\python37\\lib\\site-packages\\pandas\\core\\generic.py:5491: SettingWithCopyWarning: \n",
      "A value is trying to be set on a copy of a slice from a DataFrame.\n",
      "Try using .loc[row_indexer,col_indexer] = value instead\n",
      "\n",
      "See the caveats in the documentation: https://pandas.pydata.org/pandas-docs/stable/user_guide/indexing.html#returning-a-view-versus-a-copy\n",
      "  self[name] = value\n"
     ]
    }
   ],
   "source": [
    "# f4내림차순 , f5 오름차순 다중정렬 이후\n",
    "df = df.sort_values(by = [\"f4\",\"f5\"], ascending = [False, True])\n",
    "# print(df)\n",
    "\n",
    "# 앞에서부터 10개의 데이터 중 f5컬럼의 최솟값 찾고, 최솟값으로 부터 앞에서 10개 f5컬럼의 데이터를 변경\n",
    "# print(df.iloc[:10].f5)\n",
    "a = df.iloc[:10].f5.min()\n",
    "df.iloc[:10].f5 = a\n",
    "# print(df.iloc[:10].f5)\n",
    "# f5컬럼의 평균값 계산 . 소수점 둘째까지 출력\n",
    "answer = df.f5.mean()\n",
    "answer = round(answer,2)\n",
    "print(answer)"
   ]
  },
  {
   "cell_type": "code",
   "execution_count": 27,
   "metadata": {},
   "outputs": [
    {
     "name": "stdout",
     "output_type": "stream",
     "text": [
      "53.63\n"
     ]
    }
   ],
   "source": [
    "df = df.sort_values(['f4','f5'], ascending=[False, True]).reset_index(drop=True)\n",
    "df.iloc[:10,7] = df['f5'][:10].min()\n",
    "print(round(df['f5'].mean(),2))"
   ]
  },
  {
   "cell_type": "code",
   "execution_count": 28,
   "metadata": {},
   "outputs": [
    {
     "name": "stdout",
     "output_type": "stream",
     "text": [
      "53.63\n"
     ]
    }
   ],
   "source": [
    "# df = df.sort_values(by = [\"f4\"],ascending= False)\n",
    "# df = df.sort_values(by = [\"f5\"] , ascending= True)\n",
    "\n",
    "df = df.sort_values(['f4','f5'], ascending=[False, True]) # @@ 이걸로 틀림..\n",
    "val = df.iloc[:10,:].f5.min()\n",
    "\n",
    "df.iloc[:10,:].f5 = val\n",
    "answer = round(df.f5.mean(),2)\n",
    "print(answer)"
   ]
  },
  {
   "cell_type": "markdown",
   "metadata": {},
   "source": [
    "3. 'age' 컬럼의 IQR방식을 이용한 이상치 수와 표준편차*1.5방식을 이용한 이상치 수 합을 구하시오\n",
    "IQR방식 : Q1 - 1.5 IQR, Q3 + 1.5 IQR에서 벗어나는 영역을 이상치라고 판단함 (Q1은 데이터의 25%, Q3는 데이터의 75% 지점임)\n",
    "표준편차1.5방식: 평균으로부터 '표준편차1.5'를 벗어나는 영역을 이상치라고 판단함"
   ]
  },
  {
   "cell_type": "code",
   "execution_count": 33,
   "metadata": {},
   "outputs": [],
   "source": [
    "df = pd.read_csv(path+'\\\\bigdatacertificationkr\\\\basic1.csv')"
   ]
  },
  {
   "cell_type": "code",
   "execution_count": 34,
   "metadata": {},
   "outputs": [
    {
     "name": "stdout",
     "output_type": "stream",
     "text": [
      "14\n"
     ]
    }
   ],
   "source": [
    "Q3 = df[\"age\"].quantile(0.75)\n",
    "Q1 = df[\"age\"].quantile(0.25)\n",
    "\n",
    "# age IQR 이용한 이상치 수 \n",
    "IQR_15 = (Q3 - Q1) * 1.5\n",
    "# print(IQR_15)\n",
    "# print(Q1 - IQR_15)\n",
    "# print(Q3 + IQR_15)\n",
    "df1 = df.loc[(df[\"age\"]<(Q1- IQR_15))|((Q3 + IQR_15)<df[\"age\"])]\n",
    "# print(df.describe())\n",
    "\n",
    "# age 표준편차 1.5 방식을 이용한 이상치수 \n",
    "a = df.age.std()\n",
    "mean = df.age.mean()\n",
    "upper = mean + a * 1.5\n",
    "lower = mean - a * 1.5\n",
    "df2 = df.loc[~((lower<=df[\"age\"])&(df[\"age\"]<=upper))]\n",
    "\n",
    "# 두수 의 합 \n",
    "answer = int(len(df1) + len(df2))\n",
    "print(answer)"
   ]
  },
  {
   "cell_type": "code",
   "execution_count": 35,
   "metadata": {},
   "outputs": [
    {
     "name": "stdout",
     "output_type": "stream",
     "text": [
      "14\n"
     ]
    }
   ],
   "source": [
    "Q3 = df[\"age\"].quantile(0.75)\n",
    "Q1 = df[\"age\"].quantile(0.25)\n",
    "\n",
    "IQR_Q3 = Q3 + (Q3 - Q1) * 1.5\n",
    "IQR_Q1 = Q1 - (Q3 - Q1) * 1.5\n",
    "\n",
    "# IQR = Q3 - Q1\n",
    "\n",
    "# IQR_Q3 = Q3 + IQR * 1.5\n",
    "# IQR_Q1 = Q1 - IQR * 1.5\n",
    "\n",
    "val_1 = len(df.loc[((df[\"age\"]<IQR_Q1) | (IQR_Q3 < df[\"age\"]))])\n",
    "upper = df.age.mean() + df.age.std()*1.5\n",
    "lower = df.age.mean() - df.age.std()*1.5\n",
    "val_2 = len(df.loc[((upper<df['age']) | (df['age']< lower))])\n",
    "\n",
    "answer = (int(val_1 + val_2))\n",
    "print(answer)"
   ]
  },
  {
   "cell_type": "markdown",
   "metadata": {},
   "source": [
    "# 캐글 문제 "
   ]
  },
  {
   "cell_type": "code",
   "execution_count": 32,
   "metadata": {},
   "outputs": [
    {
     "name": "stdout",
     "output_type": "stream",
     "text": [
      "9\n"
     ]
    }
   ],
   "source": [
    "# 캐글에서 쓸것.\n",
    "\n",
    "import pandas as pd\n",
    "df = pd.read_csv(path + '\\\\mtcars.csv', index_col=0)\n",
    "\n",
    "# print(df)\n",
    "from sklearn.preprocessing import MinMaxScaler\n",
    "Scaler = MinMaxScaler()\n",
    "df[[\"qsec\"]] = Scaler.fit_transform(df[[\"qsec\"]])\n",
    "answer = len(df.loc[df[\"qsec\"]>0.5])\n",
    "print(answer)\n",
    "# print(dir(sklearn))\n"
   ]
  },
  {
   "cell_type": "code",
   "execution_count": null,
   "metadata": {},
   "outputs": [],
   "source": []
  },
  {
   "cell_type": "code",
   "execution_count": null,
   "metadata": {},
   "outputs": [],
   "source": [
    "20226월 추가 문제."
   ]
  },
  {
   "cell_type": "code",
   "execution_count": 8,
   "metadata": {},
   "outputs": [],
   "source": [
    "# ##1. index가 짝수인 행만(0포함) 선택해 \"petal width (cm)\" 값을 모두 더하시오\n",
    "import pandas as pd\n",
    "from sklearn.datasets import load_iris\n",
    "dataset = load_iris()\n",
    "data_df = pd.DataFrame(dataset.data, columns=dataset.feature_names )\n",
    "data_df.to_csv(\"data1.csv\", index=False)\n",
    "del data_df, dataset\n",
    "# 초기 제공 코드\n",
    "df = pd.read_csv(\"data1.csv\")"
   ]
  },
  {
   "cell_type": "code",
   "execution_count": null,
   "metadata": {},
   "outputs": [],
   "source": [
    "print(df.groupby('city').sum().sort_values('f1', ascending=False).index[0])"
   ]
  },
  {
   "cell_type": "code",
   "execution_count": 9,
   "metadata": {},
   "outputs": [],
   "source": [
    "df[\"idx\"] = df.index\n",
    "df = df.loc[(df[\"idx\"]//2) == (df[\"idx\"]/2)] # 몫과 나머지가 없는 것과 같다면.. 모두 짝수!!\n",
    "print(df.index)\n",
    "answer = df[\"petal width (cm)\"].sum()\n",
    "print(answer)"
   ]
  },
  {
   "cell_type": "code",
   "execution_count": 20,
   "metadata": {},
   "outputs": [],
   "source": [
    "# ## 2. city를 기준으로 'f1'컬럼의 그룹합을 더한 뒤 그 값이 가장 큰 인덱스 명을 구하시오\n",
    "data = '{\"id\":{\"0\":\"id01\",\"1\":\"id02\",\"2\":\"id03\",\"3\":\"id04\",\"4\":\"id05\",\"5\":\"id06\",\"6\":\"id07\",\"7\":\"id08\",\"8\":\"id09\",\"9\":\"id10\",\"10\":\"id11\",\"11\":\"id12\",\"12\":\"id13\",\"13\":\"id14\",\"14\":\"id15\",\"15\":\"id16\",\"16\":\"id17\",\"17\":\"id18\",\"18\":\"id19\",\"19\":\"id20\",\"20\":\"id21\",\"21\":\"id22\",\"22\":\"id23\",\"23\":\"id24\",\"24\":\"id25\",\"25\":\"id26\",\"26\":\"id27\",\"27\":\"id28\",\"28\":\"id29\",\"29\":\"id30\",\"30\":\"id31\",\"31\":\"id32\",\"32\":\"id33\",\"33\":\"id34\",\"34\":\"id35\",\"35\":\"id36\",\"36\":\"id37\",\"37\":\"id38\",\"38\":\"id39\",\"39\":\"id40\",\"40\":\"id41\",\"41\":\"id42\",\"42\":\"id43\",\"43\":\"id44\",\"44\":\"id45\",\"45\":\"id46\",\"46\":\"id47\",\"47\":\"id48\",\"48\":\"id49\",\"49\":\"id50\",\"50\":\"id51\",\"51\":\"id52\",\"52\":\"id53\",\"53\":\"id54\",\"54\":\"id55\",\"55\":\"id56\",\"56\":\"id57\",\"57\":\"id58\",\"58\":\"id59\",\"59\":\"id60\",\"60\":\"id61\",\"61\":\"id62\",\"62\":\"id63\",\"63\":\"id64\",\"64\":\"id65\",\"65\":\"id66\",\"66\":\"id67\",\"67\":\"id68\",\"68\":\"id69\",\"69\":\"id70\",\"70\":\"id71\",\"71\":\"id72\",\"72\":\"id73\",\"73\":\"id74\",\"74\":\"id75\",\"75\":\"id76\",\"76\":\"id77\",\"77\":\"id78\",\"78\":\"id79\",\"79\":\"id80\",\"80\":\"id81\",\"81\":\"id82\",\"82\":\"id83\",\"83\":\"id84\",\"84\":\"id85\",\"85\":\"id86\",\"86\":\"id87\",\"87\":\"id88\",\"88\":\"id89\",\"89\":\"id90\",\"90\":\"id91\",\"91\":\"id92\",\"92\":\"id93\",\"93\":\"id94\",\"94\":\"id95\",\"95\":\"id96\",\"96\":\"id97\",\"97\":\"id98\",\"98\":\"id99\",\"99\":\"id100\"},\"age\":{\"0\":2.0,\"1\":9.0,\"2\":27.0,\"3\":75.0,\"4\":24.0,\"5\":22.0,\"6\":36.3,\"7\":38.0,\"8\":3.3,\"9\":95.0,\"10\":40.0,\"11\":20.0,\"12\":15.0,\"13\":77.0,\"14\":22.0,\"15\":68.0,\"16\":74.0,\"17\":41.0,\"18\":53.0,\"19\":11.0,\"20\":90.0,\"21\":-6.3,\"22\":34.0,\"23\":80.0,\"24\":34.0,\"25\":55.0,\"26\":37.0,\"27\":38.0,\"28\":-13.5,\"29\":16.0,\"30\":86.0,\"31\":25.0,\"32\":47.0,\"33\":65.0,\"34\":30.0,\"35\":68.0,\"36\":100.0,\"37\":87.0,\"38\":56.0,\"39\":56.0,\"40\":81.0,\"41\":65.0,\"42\":23.0,\"43\":44.0,\"44\":97.0,\"45\":93.0,\"46\":34.6,\"47\":18.0,\"48\":75.0,\"49\":86.0,\"50\":36.0,\"51\":97.0,\"52\":52.0,\"53\":53.0,\"54\":75.0,\"55\":59.0,\"56\":3.0,\"57\":0.0,\"58\":64.0,\"59\":56.0,\"60\":87.0,\"61\":52.0,\"62\":88.0,\"63\":43.0,\"64\":26.5,\"65\":87.0,\"66\":66.0,\"67\":35.0,\"68\":75.0,\"69\":-9.0,\"70\":35.0,\"71\":8.0,\"72\":90.0,\"73\":45.0,\"74\":63.0,\"75\":71.0,\"76\":77.0,\"77\":92.0,\"78\":30.0,\"79\":67.0,\"80\":86.0,\"81\":48.0,\"82\":73.0,\"83\":66.0,\"84\":83.6,\"85\":2.0,\"86\":19.0,\"87\":89.0,\"88\":34.0,\"89\":54.0,\"90\":6.0,\"91\":97.0,\"92\":21.8,\"93\":84.0,\"94\":77.0,\"95\":92.0,\"96\":100.0,\"97\":39.0,\"98\":1.0,\"99\":47.0},\"city\":{\"0\":\"\\uc11c\\uc6b8\",\"1\":\"\\uc11c\\uc6b8\",\"2\":\"\\uc11c\\uc6b8\",\"3\":\"\\uc11c\\uc6b8\",\"4\":\"\\uc11c\\uc6b8\",\"5\":\"\\uc11c\\uc6b8\",\"6\":\"\\uc11c\\uc6b8\",\"7\":\"\\uc11c\\uc6b8\",\"8\":\"\\uc11c\\uc6b8\",\"9\":\"\\uc11c\\uc6b8\",\"10\":\"\\uc11c\\uc6b8\",\"11\":\"\\uc11c\\uc6b8\",\"12\":\"\\uc11c\\uc6b8\",\"13\":\"\\uc11c\\uc6b8\",\"14\":\"\\uc11c\\uc6b8\",\"15\":\"\\uc11c\\uc6b8\",\"16\":\"\\uc11c\\uc6b8\",\"17\":\"\\uc11c\\uc6b8\",\"18\":\"\\uc11c\\uc6b8\",\"19\":\"\\uc11c\\uc6b8\",\"20\":\"\\ubd80\\uc0b0\",\"21\":\"\\ubd80\\uc0b0\",\"22\":\"\\ubd80\\uc0b0\",\"23\":\"\\ubd80\\uc0b0\",\"24\":\"\\ubd80\\uc0b0\",\"25\":\"\\ubd80\\uc0b0\",\"26\":\"\\ubd80\\uc0b0\",\"27\":\"\\ubd80\\uc0b0\",\"28\":\"\\ubd80\\uc0b0\",\"29\":\"\\ubd80\\uc0b0\",\"30\":\"\\ubd80\\uc0b0\",\"31\":\"\\ubd80\\uc0b0\",\"32\":\"\\ubd80\\uc0b0\",\"33\":\"\\ubd80\\uc0b0\",\"34\":\"\\ubd80\\uc0b0\",\"35\":\"\\ubd80\\uc0b0\",\"36\":\"\\ubd80\\uc0b0\",\"37\":\"\\ubd80\\uc0b0\",\"38\":\"\\ubd80\\uc0b0\",\"39\":\"\\ub300\\uad6c\",\"40\":\"\\ub300\\uad6c\",\"41\":\"\\ub300\\uad6c\",\"42\":\"\\ub300\\uad6c\",\"43\":\"\\ub300\\uad6c\",\"44\":\"\\ub300\\uad6c\",\"45\":\"\\ub300\\uad6c\",\"46\":\"\\ub300\\uad6c\",\"47\":\"\\ub300\\uad6c\",\"48\":\"\\ub300\\uad6c\",\"49\":\"\\ub300\\uad6c\",\"50\":\"\\ub300\\uad6c\",\"51\":\"\\ub300\\uad6c\",\"52\":\"\\ub300\\uad6c\",\"53\":\"\\ub300\\uad6c\",\"54\":\"\\ub300\\uad6c\",\"55\":\"\\ub300\\uad6c\",\"56\":\"\\ub300\\uad6c\",\"57\":\"\\ub300\\uad6c\",\"58\":\"\\ub300\\uad6c\",\"59\":\"\\uacbd\\uae30\",\"60\":\"\\uacbd\\uae30\",\"61\":\"\\uacbd\\uae30\",\"62\":\"\\uacbd\\uae30\",\"63\":\"\\uacbd\\uae30\",\"64\":\"\\uacbd\\uae30\",\"65\":\"\\uacbd\\uae30\",\"66\":\"\\uacbd\\uae30\",\"67\":\"\\uacbd\\uae30\",\"68\":\"\\uacbd\\uae30\",\"69\":\"\\uacbd\\uae30\",\"70\":\"\\uacbd\\uae30\",\"71\":\"\\uacbd\\uae30\",\"72\":\"\\uacbd\\uae30\",\"73\":\"\\uacbd\\uae30\",\"74\":\"\\uacbd\\uae30\",\"75\":\"\\uacbd\\uae30\",\"76\":\"\\uacbd\\uae30\",\"77\":\"\\uacbd\\uae30\",\"78\":\"\\uacbd\\uae30\",\"79\":\"\\uacbd\\uae30\",\"80\":\"\\uacbd\\uae30\",\"81\":\"\\uacbd\\uae30\",\"82\":\"\\uacbd\\uae30\",\"83\":\"\\uacbd\\uae30\",\"84\":\"\\uacbd\\uae30\",\"85\":\"\\uacbd\\uae30\",\"86\":\"\\uacbd\\uae30\",\"87\":\"\\uacbd\\uae30\",\"88\":\"\\uacbd\\uae30\",\"89\":\"\\uacbd\\uae30\",\"90\":\"\\uacbd\\uae30\",\"91\":\"\\uacbd\\uae30\",\"92\":\"\\uacbd\\uae30\",\"93\":\"\\uacbd\\uae30\",\"94\":\"\\uacbd\\uae30\",\"95\":\"\\uacbd\\uae30\",\"96\":\"\\uacbd\\uae30\",\"97\":\"\\uacbd\\uae30\",\"98\":\"\\uacbd\\uae30\",\"99\":\"\\uacbd\\uae30\"},\"f1\":{\"0\":null,\"1\":70.0,\"2\":61.0,\"3\":null,\"4\":85.0,\"5\":57.0,\"6\":60.0,\"7\":101.0,\"8\":35.0,\"9\":74.0,\"10\":68.0,\"11\":null,\"12\":68.0,\"13\":50.0,\"14\":67.0,\"15\":85.0,\"16\":null,\"17\":87.0,\"18\":null,\"19\":51.0,\"20\":null,\"21\":72.0,\"22\":75.0,\"23\":44.0,\"24\":null,\"25\":57.0,\"26\":60.0,\"27\":34.0,\"28\":47.0,\"29\":null,\"30\":77.0,\"31\":64.0,\"32\":94.0,\"33\":null,\"34\":null,\"35\":77.0,\"36\":null,\"37\":null,\"38\":50.0,\"39\":75.0,\"40\":55.0,\"41\":48.0,\"42\":60.0,\"43\":null,\"44\":88.0,\"45\":null,\"46\":75.0,\"47\":null,\"48\":88.0,\"49\":78.0,\"50\":null,\"51\":82.0,\"52\":50.0,\"53\":null,\"54\":63.0,\"55\":null,\"56\":111.0,\"57\":100.0,\"58\":null,\"59\":null,\"60\":62.0,\"61\":null,\"62\":86.0,\"63\":62.0,\"64\":null,\"65\":null,\"66\":52.0,\"67\":45.0,\"68\":85.0,\"69\":96.0,\"70\":84.0,\"71\":97.0,\"72\":null,\"73\":98.0,\"74\":47.0,\"75\":12.0,\"76\":31.0,\"77\":96.0,\"78\":null,\"79\":60.0,\"80\":50.0,\"81\":null,\"82\":50.0,\"83\":44.0,\"84\":55.0,\"85\":null,\"86\":null,\"87\":75.0,\"88\":66.0,\"89\":null,\"90\":72.0,\"91\":78.0,\"92\":57.0,\"93\":null,\"94\":43.0,\"95\":53.0,\"96\":null,\"97\":58.0,\"98\":47.0,\"99\":53.0},\"f2\":{\"0\":0,\"1\":1,\"2\":1,\"3\":2,\"4\":2,\"5\":0,\"6\":1,\"7\":1,\"8\":2,\"9\":1,\"10\":0,\"11\":0,\"12\":0,\"13\":1,\"14\":1,\"15\":0,\"16\":1,\"17\":2,\"18\":0,\"19\":1,\"20\":1,\"21\":1,\"22\":1,\"23\":0,\"24\":0,\"25\":1,\"26\":0,\"27\":1,\"28\":2,\"29\":0,\"30\":0,\"31\":0,\"32\":0,\"33\":1,\"34\":2,\"35\":1,\"36\":0,\"37\":1,\"38\":0,\"39\":0,\"40\":0,\"41\":2,\"42\":0,\"43\":0,\"44\":0,\"45\":0,\"46\":1,\"47\":0,\"48\":0,\"49\":1,\"50\":0,\"51\":1,\"52\":0,\"53\":1,\"54\":2,\"55\":1,\"56\":0,\"57\":2,\"58\":1,\"59\":0,\"60\":2,\"61\":0,\"62\":1,\"63\":2,\"64\":0,\"65\":1,\"66\":1,\"67\":2,\"68\":0,\"69\":1,\"70\":2,\"71\":0,\"72\":1,\"73\":0,\"74\":0,\"75\":0,\"76\":0,\"77\":1,\"78\":0,\"79\":0,\"80\":1,\"81\":0,\"82\":1,\"83\":0,\"84\":0,\"85\":0,\"86\":1,\"87\":0,\"88\":1,\"89\":0,\"90\":0,\"91\":1,\"92\":0,\"93\":1,\"94\":1,\"95\":1,\"96\":0,\"97\":2,\"98\":0,\"99\":0},\"f3\":{\"0\":null,\"1\":null,\"2\":null,\"3\":null,\"4\":null,\"5\":\"vip\",\"6\":null,\"7\":null,\"8\":null,\"9\":null,\"10\":null,\"11\":null,\"12\":null,\"13\":null,\"14\":null,\"15\":null,\"16\":null,\"17\":null,\"18\":null,\"19\":null,\"20\":null,\"21\":null,\"22\":null,\"23\":null,\"24\":null,\"25\":null,\"26\":null,\"27\":null,\"28\":null,\"29\":null,\"30\":null,\"31\":\"vip\",\"32\":null,\"33\":null,\"34\":null,\"35\":null,\"36\":null,\"37\":null,\"38\":null,\"39\":null,\"40\":null,\"41\":null,\"42\":null,\"43\":null,\"44\":null,\"45\":null,\"46\":null,\"47\":null,\"48\":null,\"49\":null,\"50\":null,\"51\":null,\"52\":null,\"53\":null,\"54\":null,\"55\":\"vip\",\"56\":null,\"57\":null,\"58\":null,\"59\":null,\"60\":null,\"61\":null,\"62\":null,\"63\":null,\"64\":null,\"65\":null,\"66\":null,\"67\":null,\"68\":null,\"69\":null,\"70\":null,\"71\":null,\"72\":null,\"73\":null,\"74\":null,\"75\":null,\"76\":null,\"77\":null,\"78\":null,\"79\":null,\"80\":null,\"81\":null,\"82\":\"vip\",\"83\":null,\"84\":null,\"85\":null,\"86\":null,\"87\":null,\"88\":null,\"89\":null,\"90\":null,\"91\":null,\"92\":null,\"93\":null,\"94\":null,\"95\":null,\"96\":null,\"97\":null,\"98\":null,\"99\":\"vip\"},\"f4\":{\"0\":\"ENFJ\",\"1\":\"ENFJ\",\"2\":\"ISTJ\",\"3\":\"INFP\",\"4\":\"ISFJ\",\"5\":\"INTP\",\"6\":\"ISFJ\",\"7\":\"INFJ\",\"8\":\"ESFJ\",\"9\":\"ISFP\",\"10\":\"ENFP\",\"11\":\"ESTP\",\"12\":\"ESFJ\",\"13\":\"ENTJ\",\"14\":\"ENTP\",\"15\":\"ESFP\",\"16\":\"ISTP\",\"17\":\"ISFJ\",\"18\":\"ISFP\",\"19\":\"INTJ\",\"20\":\"ISFP\",\"21\":\"ENFP\",\"22\":\"ISTP\",\"23\":\"INFJ\",\"24\":\"ESTP\",\"25\":\"ENFP\",\"26\":\"ESTP\",\"27\":\"ENTP\",\"28\":\"ENTP\",\"29\":\"ESTJ\",\"30\":\"ESFJ\",\"31\":\"ISFJ\",\"32\":\"ENFJ\",\"33\":\"INFP\",\"34\":\"ESTJ\",\"35\":\"INTP\",\"36\":\"ESTP\",\"37\":\"ESTP\",\"38\":\"INFJ\",\"39\":\"ENFP\",\"40\":\"ENFJ\",\"41\":\"ESTP\",\"42\":\"ISTP\",\"43\":\"INTP\",\"44\":\"ENFJ\",\"45\":\"ESTJ\",\"46\":\"ESTJ\",\"47\":\"ENFP\",\"48\":\"INTP\",\"49\":\"ENFP\",\"50\":\"ISTJ\",\"51\":\"ISFJ\",\"52\":\"ESTP\",\"53\":\"ENFJ\",\"54\":\"ENTP\",\"55\":\"ESTJ\",\"56\":\"ISFJ\",\"57\":\"ESTP\",\"58\":\"ESFJ\",\"59\":\"ESFP\",\"60\":\"INTP\",\"61\":\"INTP\",\"62\":\"ISFJ\",\"63\":\"ESFP\",\"64\":\"ISFP\",\"65\":\"ISFP\",\"66\":\"ISFJ\",\"67\":\"ISFP\",\"68\":\"ESTJ\",\"69\":\"ISTP\",\"70\":\"ISFP\",\"71\":\"ESTJ\",\"72\":\"ISFJ\",\"73\":\"ESTP\",\"74\":\"ESTP\",\"75\":\"ENTJ\",\"76\":\"INFP\",\"77\":\"INTJ\",\"78\":\"INTJ\",\"79\":\"ISFP\",\"80\":\"ISFJ\",\"81\":\"ENTJ\",\"82\":\"ENTP\",\"83\":\"INTP\",\"84\":\"INFJ\",\"85\":\"ESTP\",\"86\":\"ISFP\",\"87\":\"ESTJ\",\"88\":\"ENTJ\",\"89\":\"ENTP\",\"90\":\"INTP\",\"91\":\"INFP\",\"92\":\"ISFP\",\"93\":\"ESTJ\",\"94\":\"INTJ\",\"95\":\"ENTJ\",\"96\":\"INFP\",\"97\":\"INFP\",\"98\":\"ESFJ\",\"99\":\"ESFP\"},\"f5\":{\"0\":91.29779092,\"1\":60.33982554,\"2\":17.25298557,\"3\":52.66707799,\"4\":29.26986926,\"5\":20.1294441,\"6\":9.796377581,\"7\":83.68538032,\"8\":17.25298557,\"9\":98.42989897,\"10\":98.42989897,\"11\":91.29779092,\"12\":83.68538032,\"13\":67.8863732,\"14\":9.796377581,\"15\":16.2838541,\"16\":67.8863732,\"17\":80.13828012,\"18\":83.68538032,\"19\":91.29779092,\"20\":29.26986926,\"21\":52.66707799,\"22\":69.73031281,\"23\":73.58639712,\"24\":60.33982554,\"25\":83.68538032,\"26\":73.58639712,\"27\":80.13828012,\"28\":67.8863732,\"29\":17.25298557,\"30\":73.58639712,\"31\":13.04992129,\"32\":17.25298557,\"33\":48.43118381,\"34\":33.30899901,\"35\":13.04992129,\"36\":33.30899901,\"37\":83.68538032,\"38\":33.30899901,\"39\":17.25298557,\"40\":37.11373918,\"41\":33.30899901,\"42\":29.26986926,\"43\":16.2838541,\"44\":13.04992129,\"45\":67.8863732,\"46\":90.49699927,\"47\":20.1294441,\"48\":37.11373918,\"49\":60.33982554,\"50\":83.68538032,\"51\":90.49699927,\"52\":20.1294441,\"53\":69.73031281,\"54\":13.04992129,\"55\":73.58639712,\"56\":29.26986926,\"57\":33.30899901,\"58\":20.1294441,\"59\":52.66707799,\"60\":69.73031281,\"61\":60.33982554,\"62\":73.58639712,\"63\":73.58639712,\"64\":91.29779092,\"65\":17.25298557,\"66\":73.58639712,\"67\":67.8863732,\"68\":69.73031281,\"69\":48.43118381,\"70\":52.66707799,\"71\":97.38103419,\"72\":73.58639712,\"73\":52.66707799,\"74\":20.1294441,\"75\":83.68538032,\"76\":98.42989897,\"77\":69.73031281,\"78\":80.13828012,\"79\":83.68538032,\"80\":37.11373918,\"81\":37.11373918,\"82\":80.13828012,\"83\":83.68538032,\"84\":80.13828012,\"85\":29.26986926,\"86\":97.38103419,\"87\":60.33982554,\"88\":33.30899901,\"89\":29.26986926,\"90\":9.796377581,\"91\":97.38103419,\"92\":73.58639712,\"93\":90.49699927,\"94\":91.29779092,\"95\":52.66707799,\"96\":67.8863732,\"97\":98.42989897,\"98\":97.38103419,\"99\":33.30899901}}'\n",
    "# 초기 코드 제공\n",
    "import pandas as pd\n",
    "df = pd.read_json(data)"
   ]
  },
  {
   "cell_type": "code",
   "execution_count": 22,
   "metadata": {},
   "outputs": [
    {
     "data": {
      "text/plain": [
       "'경기'"
      ]
     },
     "execution_count": 22,
     "metadata": {},
     "output_type": "execute_result"
    }
   ],
   "source": [
    "df1 = df.groupby(by= [\"city\"]).sum()\n",
    "answer = df1.loc[df1[\"f1\"]==max(df1.f1)].index[0]\n",
    "print(answer)\n"
   ]
  },
  {
   "cell_type": "code",
   "execution_count": null,
   "metadata": {},
   "outputs": [],
   "source": [
    "print(df.groupby('city').sum().sort_values('f1', ascending=False).index[0])"
   ]
  },
  {
   "cell_type": "code",
   "execution_count": 21,
   "metadata": {},
   "outputs": [
    {
     "name": "stdout",
     "output_type": "stream",
     "text": [
      "경기\n"
     ]
    }
   ],
   "source": [
    "df1 = df.groupby(by= [\"city\"]).sum()\n",
    "a = max(df1.f1.values)\n",
    "\n",
    "# max값의 인덱스번호를 어떻게 가져올지 몰라서..이렇게함.\n",
    "a1 = df1.index[0]\n",
    "# print(type(a1))\n",
    "a2 = \"경기\"\n",
    "# print(type(a2))\n",
    "print(a1)"
   ]
  },
  {
   "cell_type": "code",
   "execution_count": 6,
   "metadata": {},
   "outputs": [],
   "source": [
    "# ## 3. f1 컬럼 중 결측치가 있는 데이터를 선택하고, 그 데이터의 f5 컬럼 중앙값을 구하시오\n",
    "# %% [code]\n",
    "data = '{\"id\":{\"0\":\"id01\",\"1\":\"id02\",\"2\":\"id03\",\"3\":\"id04\",\"4\":\"id05\",\"5\":\"id06\",\"6\":\"id07\",\"7\":\"id08\",\"8\":\"id09\",\"9\":\"id10\",\"10\":\"id11\",\"11\":\"id12\",\"12\":\"id13\",\"13\":\"id14\",\"14\":\"id15\",\"15\":\"id16\",\"16\":\"id17\",\"17\":\"id18\",\"18\":\"id19\",\"19\":\"id20\",\"20\":\"id21\",\"21\":\"id22\",\"22\":\"id23\",\"23\":\"id24\",\"24\":\"id25\",\"25\":\"id26\",\"26\":\"id27\",\"27\":\"id28\",\"28\":\"id29\",\"29\":\"id30\",\"30\":\"id31\",\"31\":\"id32\",\"32\":\"id33\",\"33\":\"id34\",\"34\":\"id35\",\"35\":\"id36\",\"36\":\"id37\",\"37\":\"id38\",\"38\":\"id39\",\"39\":\"id40\",\"40\":\"id41\",\"41\":\"id42\",\"42\":\"id43\",\"43\":\"id44\",\"44\":\"id45\",\"45\":\"id46\",\"46\":\"id47\",\"47\":\"id48\",\"48\":\"id49\",\"49\":\"id50\",\"50\":\"id51\",\"51\":\"id52\",\"52\":\"id53\",\"53\":\"id54\",\"54\":\"id55\",\"55\":\"id56\",\"56\":\"id57\",\"57\":\"id58\",\"58\":\"id59\",\"59\":\"id60\",\"60\":\"id61\",\"61\":\"id62\",\"62\":\"id63\",\"63\":\"id64\",\"64\":\"id65\",\"65\":\"id66\",\"66\":\"id67\",\"67\":\"id68\",\"68\":\"id69\",\"69\":\"id70\",\"70\":\"id71\",\"71\":\"id72\",\"72\":\"id73\",\"73\":\"id74\",\"74\":\"id75\",\"75\":\"id76\",\"76\":\"id77\",\"77\":\"id78\",\"78\":\"id79\",\"79\":\"id80\",\"80\":\"id81\",\"81\":\"id82\",\"82\":\"id83\",\"83\":\"id84\",\"84\":\"id85\",\"85\":\"id86\",\"86\":\"id87\",\"87\":\"id88\",\"88\":\"id89\",\"89\":\"id90\",\"90\":\"id91\",\"91\":\"id92\",\"92\":\"id93\",\"93\":\"id94\",\"94\":\"id95\",\"95\":\"id96\",\"96\":\"id97\",\"97\":\"id98\",\"98\":\"id99\",\"99\":\"id100\"},\"age\":{\"0\":2.0,\"1\":9.0,\"2\":27.0,\"3\":75.0,\"4\":24.0,\"5\":22.0,\"6\":36.3,\"7\":38.0,\"8\":3.3,\"9\":95.0,\"10\":40.0,\"11\":20.0,\"12\":15.0,\"13\":77.0,\"14\":22.0,\"15\":68.0,\"16\":74.0,\"17\":41.0,\"18\":53.0,\"19\":11.0,\"20\":90.0,\"21\":-6.3,\"22\":34.0,\"23\":80.0,\"24\":34.0,\"25\":55.0,\"26\":37.0,\"27\":38.0,\"28\":-13.5,\"29\":16.0,\"30\":86.0,\"31\":25.0,\"32\":47.0,\"33\":65.0,\"34\":30.0,\"35\":68.0,\"36\":100.0,\"37\":87.0,\"38\":56.0,\"39\":56.0,\"40\":81.0,\"41\":65.0,\"42\":23.0,\"43\":44.0,\"44\":97.0,\"45\":93.0,\"46\":34.6,\"47\":18.0,\"48\":75.0,\"49\":86.0,\"50\":36.0,\"51\":97.0,\"52\":52.0,\"53\":53.0,\"54\":75.0,\"55\":59.0,\"56\":3.0,\"57\":0.0,\"58\":64.0,\"59\":56.0,\"60\":87.0,\"61\":52.0,\"62\":88.0,\"63\":43.0,\"64\":26.5,\"65\":87.0,\"66\":66.0,\"67\":35.0,\"68\":75.0,\"69\":-9.0,\"70\":35.0,\"71\":8.0,\"72\":90.0,\"73\":45.0,\"74\":63.0,\"75\":71.0,\"76\":77.0,\"77\":92.0,\"78\":30.0,\"79\":67.0,\"80\":86.0,\"81\":48.0,\"82\":73.0,\"83\":66.0,\"84\":83.6,\"85\":2.0,\"86\":19.0,\"87\":89.0,\"88\":34.0,\"89\":54.0,\"90\":6.0,\"91\":97.0,\"92\":21.8,\"93\":84.0,\"94\":77.0,\"95\":92.0,\"96\":100.0,\"97\":39.0,\"98\":1.0,\"99\":47.0},\"city\":{\"0\":\"\\uc11c\\uc6b8\",\"1\":\"\\uc11c\\uc6b8\",\"2\":\"\\uc11c\\uc6b8\",\"3\":\"\\uc11c\\uc6b8\",\"4\":\"\\uc11c\\uc6b8\",\"5\":\"\\uc11c\\uc6b8\",\"6\":\"\\uc11c\\uc6b8\",\"7\":\"\\uc11c\\uc6b8\",\"8\":\"\\uc11c\\uc6b8\",\"9\":\"\\uc11c\\uc6b8\",\"10\":\"\\uc11c\\uc6b8\",\"11\":\"\\uc11c\\uc6b8\",\"12\":\"\\uc11c\\uc6b8\",\"13\":\"\\uc11c\\uc6b8\",\"14\":\"\\uc11c\\uc6b8\",\"15\":\"\\uc11c\\uc6b8\",\"16\":\"\\uc11c\\uc6b8\",\"17\":\"\\uc11c\\uc6b8\",\"18\":\"\\uc11c\\uc6b8\",\"19\":\"\\uc11c\\uc6b8\",\"20\":\"\\ubd80\\uc0b0\",\"21\":\"\\ubd80\\uc0b0\",\"22\":\"\\ubd80\\uc0b0\",\"23\":\"\\ubd80\\uc0b0\",\"24\":\"\\ubd80\\uc0b0\",\"25\":\"\\ubd80\\uc0b0\",\"26\":\"\\ubd80\\uc0b0\",\"27\":\"\\ubd80\\uc0b0\",\"28\":\"\\ubd80\\uc0b0\",\"29\":\"\\ubd80\\uc0b0\",\"30\":\"\\ubd80\\uc0b0\",\"31\":\"\\ubd80\\uc0b0\",\"32\":\"\\ubd80\\uc0b0\",\"33\":\"\\ubd80\\uc0b0\",\"34\":\"\\ubd80\\uc0b0\",\"35\":\"\\ubd80\\uc0b0\",\"36\":\"\\ubd80\\uc0b0\",\"37\":\"\\ubd80\\uc0b0\",\"38\":\"\\ubd80\\uc0b0\",\"39\":\"\\ub300\\uad6c\",\"40\":\"\\ub300\\uad6c\",\"41\":\"\\ub300\\uad6c\",\"42\":\"\\ub300\\uad6c\",\"43\":\"\\ub300\\uad6c\",\"44\":\"\\ub300\\uad6c\",\"45\":\"\\ub300\\uad6c\",\"46\":\"\\ub300\\uad6c\",\"47\":\"\\ub300\\uad6c\",\"48\":\"\\ub300\\uad6c\",\"49\":\"\\ub300\\uad6c\",\"50\":\"\\ub300\\uad6c\",\"51\":\"\\ub300\\uad6c\",\"52\":\"\\ub300\\uad6c\",\"53\":\"\\ub300\\uad6c\",\"54\":\"\\ub300\\uad6c\",\"55\":\"\\ub300\\uad6c\",\"56\":\"\\ub300\\uad6c\",\"57\":\"\\ub300\\uad6c\",\"58\":\"\\ub300\\uad6c\",\"59\":\"\\uacbd\\uae30\",\"60\":\"\\uacbd\\uae30\",\"61\":\"\\uacbd\\uae30\",\"62\":\"\\uacbd\\uae30\",\"63\":\"\\uacbd\\uae30\",\"64\":\"\\uacbd\\uae30\",\"65\":\"\\uacbd\\uae30\",\"66\":\"\\uacbd\\uae30\",\"67\":\"\\uacbd\\uae30\",\"68\":\"\\uacbd\\uae30\",\"69\":\"\\uacbd\\uae30\",\"70\":\"\\uacbd\\uae30\",\"71\":\"\\uacbd\\uae30\",\"72\":\"\\uacbd\\uae30\",\"73\":\"\\uacbd\\uae30\",\"74\":\"\\uacbd\\uae30\",\"75\":\"\\uacbd\\uae30\",\"76\":\"\\uacbd\\uae30\",\"77\":\"\\uacbd\\uae30\",\"78\":\"\\uacbd\\uae30\",\"79\":\"\\uacbd\\uae30\",\"80\":\"\\uacbd\\uae30\",\"81\":\"\\uacbd\\uae30\",\"82\":\"\\uacbd\\uae30\",\"83\":\"\\uacbd\\uae30\",\"84\":\"\\uacbd\\uae30\",\"85\":\"\\uacbd\\uae30\",\"86\":\"\\uacbd\\uae30\",\"87\":\"\\uacbd\\uae30\",\"88\":\"\\uacbd\\uae30\",\"89\":\"\\uacbd\\uae30\",\"90\":\"\\uacbd\\uae30\",\"91\":\"\\uacbd\\uae30\",\"92\":\"\\uacbd\\uae30\",\"93\":\"\\uacbd\\uae30\",\"94\":\"\\uacbd\\uae30\",\"95\":\"\\uacbd\\uae30\",\"96\":\"\\uacbd\\uae30\",\"97\":\"\\uacbd\\uae30\",\"98\":\"\\uacbd\\uae30\",\"99\":\"\\uacbd\\uae30\"},\"f1\":{\"0\":null,\"1\":70.0,\"2\":61.0,\"3\":null,\"4\":85.0,\"5\":57.0,\"6\":60.0,\"7\":101.0,\"8\":35.0,\"9\":74.0,\"10\":68.0,\"11\":null,\"12\":68.0,\"13\":50.0,\"14\":67.0,\"15\":85.0,\"16\":null,\"17\":87.0,\"18\":null,\"19\":51.0,\"20\":null,\"21\":72.0,\"22\":75.0,\"23\":44.0,\"24\":null,\"25\":57.0,\"26\":60.0,\"27\":34.0,\"28\":47.0,\"29\":null,\"30\":77.0,\"31\":64.0,\"32\":94.0,\"33\":null,\"34\":null,\"35\":77.0,\"36\":null,\"37\":null,\"38\":50.0,\"39\":75.0,\"40\":55.0,\"41\":48.0,\"42\":60.0,\"43\":null,\"44\":88.0,\"45\":null,\"46\":75.0,\"47\":null,\"48\":88.0,\"49\":78.0,\"50\":null,\"51\":82.0,\"52\":50.0,\"53\":null,\"54\":63.0,\"55\":null,\"56\":111.0,\"57\":100.0,\"58\":null,\"59\":null,\"60\":62.0,\"61\":null,\"62\":86.0,\"63\":62.0,\"64\":null,\"65\":null,\"66\":52.0,\"67\":45.0,\"68\":85.0,\"69\":96.0,\"70\":84.0,\"71\":97.0,\"72\":null,\"73\":98.0,\"74\":47.0,\"75\":12.0,\"76\":31.0,\"77\":96.0,\"78\":null,\"79\":60.0,\"80\":50.0,\"81\":null,\"82\":50.0,\"83\":44.0,\"84\":55.0,\"85\":null,\"86\":null,\"87\":75.0,\"88\":66.0,\"89\":null,\"90\":72.0,\"91\":78.0,\"92\":57.0,\"93\":null,\"94\":43.0,\"95\":53.0,\"96\":null,\"97\":58.0,\"98\":47.0,\"99\":53.0},\"f2\":{\"0\":0,\"1\":1,\"2\":1,\"3\":2,\"4\":2,\"5\":0,\"6\":1,\"7\":1,\"8\":2,\"9\":1,\"10\":0,\"11\":0,\"12\":0,\"13\":1,\"14\":1,\"15\":0,\"16\":1,\"17\":2,\"18\":0,\"19\":1,\"20\":1,\"21\":1,\"22\":1,\"23\":0,\"24\":0,\"25\":1,\"26\":0,\"27\":1,\"28\":2,\"29\":0,\"30\":0,\"31\":0,\"32\":0,\"33\":1,\"34\":2,\"35\":1,\"36\":0,\"37\":1,\"38\":0,\"39\":0,\"40\":0,\"41\":2,\"42\":0,\"43\":0,\"44\":0,\"45\":0,\"46\":1,\"47\":0,\"48\":0,\"49\":1,\"50\":0,\"51\":1,\"52\":0,\"53\":1,\"54\":2,\"55\":1,\"56\":0,\"57\":2,\"58\":1,\"59\":0,\"60\":2,\"61\":0,\"62\":1,\"63\":2,\"64\":0,\"65\":1,\"66\":1,\"67\":2,\"68\":0,\"69\":1,\"70\":2,\"71\":0,\"72\":1,\"73\":0,\"74\":0,\"75\":0,\"76\":0,\"77\":1,\"78\":0,\"79\":0,\"80\":1,\"81\":0,\"82\":1,\"83\":0,\"84\":0,\"85\":0,\"86\":1,\"87\":0,\"88\":1,\"89\":0,\"90\":0,\"91\":1,\"92\":0,\"93\":1,\"94\":1,\"95\":1,\"96\":0,\"97\":2,\"98\":0,\"99\":0},\"f3\":{\"0\":null,\"1\":null,\"2\":null,\"3\":null,\"4\":null,\"5\":\"vip\",\"6\":null,\"7\":null,\"8\":null,\"9\":null,\"10\":null,\"11\":null,\"12\":null,\"13\":null,\"14\":null,\"15\":null,\"16\":null,\"17\":null,\"18\":null,\"19\":null,\"20\":null,\"21\":null,\"22\":null,\"23\":null,\"24\":null,\"25\":null,\"26\":null,\"27\":null,\"28\":null,\"29\":null,\"30\":null,\"31\":\"vip\",\"32\":null,\"33\":null,\"34\":null,\"35\":null,\"36\":null,\"37\":null,\"38\":null,\"39\":null,\"40\":null,\"41\":null,\"42\":null,\"43\":null,\"44\":null,\"45\":null,\"46\":null,\"47\":null,\"48\":null,\"49\":null,\"50\":null,\"51\":null,\"52\":null,\"53\":null,\"54\":null,\"55\":\"vip\",\"56\":null,\"57\":null,\"58\":null,\"59\":null,\"60\":null,\"61\":null,\"62\":null,\"63\":null,\"64\":null,\"65\":null,\"66\":null,\"67\":null,\"68\":null,\"69\":null,\"70\":null,\"71\":null,\"72\":null,\"73\":null,\"74\":null,\"75\":null,\"76\":null,\"77\":null,\"78\":null,\"79\":null,\"80\":null,\"81\":null,\"82\":\"vip\",\"83\":null,\"84\":null,\"85\":null,\"86\":null,\"87\":null,\"88\":null,\"89\":null,\"90\":null,\"91\":null,\"92\":null,\"93\":null,\"94\":null,\"95\":null,\"96\":null,\"97\":null,\"98\":null,\"99\":\"vip\"},\"f4\":{\"0\":\"ENFJ\",\"1\":\"ENFJ\",\"2\":\"ISTJ\",\"3\":\"INFP\",\"4\":\"ISFJ\",\"5\":\"INTP\",\"6\":\"ISFJ\",\"7\":\"INFJ\",\"8\":\"ESFJ\",\"9\":\"ISFP\",\"10\":\"ENFP\",\"11\":\"ESTP\",\"12\":\"ESFJ\",\"13\":\"ENTJ\",\"14\":\"ENTP\",\"15\":\"ESFP\",\"16\":\"ISTP\",\"17\":\"ISFJ\",\"18\":\"ISFP\",\"19\":\"INTJ\",\"20\":\"ISFP\",\"21\":\"ENFP\",\"22\":\"ISTP\",\"23\":\"INFJ\",\"24\":\"ESTP\",\"25\":\"ENFP\",\"26\":\"ESTP\",\"27\":\"ENTP\",\"28\":\"ENTP\",\"29\":\"ESTJ\",\"30\":\"ESFJ\",\"31\":\"ISFJ\",\"32\":\"ENFJ\",\"33\":\"INFP\",\"34\":\"ESTJ\",\"35\":\"INTP\",\"36\":\"ESTP\",\"37\":\"ESTP\",\"38\":\"INFJ\",\"39\":\"ENFP\",\"40\":\"ENFJ\",\"41\":\"ESTP\",\"42\":\"ISTP\",\"43\":\"INTP\",\"44\":\"ENFJ\",\"45\":\"ESTJ\",\"46\":\"ESTJ\",\"47\":\"ENFP\",\"48\":\"INTP\",\"49\":\"ENFP\",\"50\":\"ISTJ\",\"51\":\"ISFJ\",\"52\":\"ESTP\",\"53\":\"ENFJ\",\"54\":\"ENTP\",\"55\":\"ESTJ\",\"56\":\"ISFJ\",\"57\":\"ESTP\",\"58\":\"ESFJ\",\"59\":\"ESFP\",\"60\":\"INTP\",\"61\":\"INTP\",\"62\":\"ISFJ\",\"63\":\"ESFP\",\"64\":\"ISFP\",\"65\":\"ISFP\",\"66\":\"ISFJ\",\"67\":\"ISFP\",\"68\":\"ESTJ\",\"69\":\"ISTP\",\"70\":\"ISFP\",\"71\":\"ESTJ\",\"72\":\"ISFJ\",\"73\":\"ESTP\",\"74\":\"ESTP\",\"75\":\"ENTJ\",\"76\":\"INFP\",\"77\":\"INTJ\",\"78\":\"INTJ\",\"79\":\"ISFP\",\"80\":\"ISFJ\",\"81\":\"ENTJ\",\"82\":\"ENTP\",\"83\":\"INTP\",\"84\":\"INFJ\",\"85\":\"ESTP\",\"86\":\"ISFP\",\"87\":\"ESTJ\",\"88\":\"ENTJ\",\"89\":\"ENTP\",\"90\":\"INTP\",\"91\":\"INFP\",\"92\":\"ISFP\",\"93\":\"ESTJ\",\"94\":\"INTJ\",\"95\":\"ENTJ\",\"96\":\"INFP\",\"97\":\"INFP\",\"98\":\"ESFJ\",\"99\":\"ESFP\"},\"f5\":{\"0\":91.29779092,\"1\":60.33982554,\"2\":17.25298557,\"3\":52.66707799,\"4\":29.26986926,\"5\":20.1294441,\"6\":9.796377581,\"7\":83.68538032,\"8\":17.25298557,\"9\":98.42989897,\"10\":98.42989897,\"11\":91.29779092,\"12\":83.68538032,\"13\":67.8863732,\"14\":9.796377581,\"15\":16.2838541,\"16\":67.8863732,\"17\":80.13828012,\"18\":83.68538032,\"19\":91.29779092,\"20\":29.26986926,\"21\":52.66707799,\"22\":69.73031281,\"23\":73.58639712,\"24\":60.33982554,\"25\":83.68538032,\"26\":73.58639712,\"27\":80.13828012,\"28\":67.8863732,\"29\":17.25298557,\"30\":73.58639712,\"31\":13.04992129,\"32\":17.25298557,\"33\":48.43118381,\"34\":33.30899901,\"35\":13.04992129,\"36\":33.30899901,\"37\":83.68538032,\"38\":33.30899901,\"39\":17.25298557,\"40\":37.11373918,\"41\":33.30899901,\"42\":29.26986926,\"43\":16.2838541,\"44\":13.04992129,\"45\":67.8863732,\"46\":90.49699927,\"47\":20.1294441,\"48\":37.11373918,\"49\":60.33982554,\"50\":83.68538032,\"51\":90.49699927,\"52\":20.1294441,\"53\":69.73031281,\"54\":13.04992129,\"55\":73.58639712,\"56\":29.26986926,\"57\":33.30899901,\"58\":20.1294441,\"59\":52.66707799,\"60\":69.73031281,\"61\":60.33982554,\"62\":73.58639712,\"63\":73.58639712,\"64\":91.29779092,\"65\":17.25298557,\"66\":73.58639712,\"67\":67.8863732,\"68\":69.73031281,\"69\":48.43118381,\"70\":52.66707799,\"71\":97.38103419,\"72\":73.58639712,\"73\":52.66707799,\"74\":20.1294441,\"75\":83.68538032,\"76\":98.42989897,\"77\":69.73031281,\"78\":80.13828012,\"79\":83.68538032,\"80\":37.11373918,\"81\":37.11373918,\"82\":80.13828012,\"83\":83.68538032,\"84\":80.13828012,\"85\":29.26986926,\"86\":97.38103419,\"87\":60.33982554,\"88\":33.30899901,\"89\":29.26986926,\"90\":9.796377581,\"91\":97.38103419,\"92\":73.58639712,\"93\":90.49699927,\"94\":91.29779092,\"95\":52.66707799,\"96\":67.8863732,\"97\":98.42989897,\"98\":97.38103419,\"99\":33.30899901}}'\n",
    "# 초기 코드 제공\n",
    "import pandas as pd\n",
    "df = pd.read_json(data)"
   ]
  },
  {
   "cell_type": "code",
   "execution_count": 7,
   "metadata": {},
   "outputs": [
    {
     "name": "stdout",
     "output_type": "stream",
     "text": [
      "60.33982554\n"
     ]
    }
   ],
   "source": [
    "# # your code\n",
    "# print(df[\"f1\"])\n",
    "df1 = df.loc[df[\"f1\"].isna()== True]\n",
    "answer = df1[\"f5\"].median()\n",
    "print(answer)\n"
   ]
  },
  {
   "cell_type": "code",
   "execution_count": null,
   "metadata": {},
   "outputs": [],
   "source": [
    "import numpy as np\n",
    "# 데이터 파일 읽기 예제\n",
    "import pandas as pd\n",
    "X_test = pd.read_csv(path+\"\\\\X_test.csv\",encoding=\"euc-kr\")\n",
    "\n",
    "X_train = pd.read_csv(path+\"\\\\X_train.csv\",encoding=\"euc-kr\")\n",
    "y_train = pd.read_csv(path+\"\\\\y_train.csv\",encoding=\"euc-kr\")\n",
    "\n",
    "tr_len = len(X_train)\n",
    "X_all = pd.concat([X_train,X_test],axis = 0)\n",
    "X_all = X_all.drop([\"cust_id\"],axis = 1)\n",
    "\n",
    "\n",
    "\n",
    "# print(X_all.describe())\n",
    "\n",
    "# print(X_all[\"환불금액\"].describe()) #환불금액에 0값대신 na값이 들어가있는것으로 추측할수 있음 0이 min이 아니니까.\n",
    "# print(dir(X_all))\n",
    "# 컬럼 \n",
    "# print(X_all.info())\n",
    "# print(help(X_all.select_dtypes))\n",
    "# na값 채움.\n",
    "col = X_all.select_dtypes(\"float64\").columns\n",
    "# print(col)\n",
    "for i in range(len(col)):\n",
    "\tX_all.loc[X_all[col[i]].isna()==True,col] = 0\n",
    "\t\n",
    "\n",
    "X_all_1 = pd.get_dummies(X_all)\n",
    "col = X_all_1.columns\n",
    "# print(col.shape)\n",
    "\n",
    "from sklearn.preprocessing import MinMaxScaler,PowerTransformer\n",
    "Scaler = PowerTransformer()\n",
    "X_all_1 = Scaler.fit_transform(X_all_1)\n",
    "X_all_2 = pd.DataFrame(X_all_1, columns = col)\n",
    "\n",
    "# X_all_2 = X_all_1 # 랜포의 경우만\n",
    "\n",
    "\n",
    "x_train = X_all_2[:tr_len]\n",
    "x_test = X_all_2[tr_len:]\n",
    "\n",
    "#검증용\n",
    "a = int(np.floor(tr_len/10)) * 1\n",
    "a = tr_len - a\n",
    "x_train_1 = x_train[:a]\n",
    "x_val_1 = x_train[a:]\n",
    "y_train_1 = y_train[:a]\n",
    "y_val_1 = y_train[a:]\n",
    "\n",
    "# print(x_train_1)\n",
    "# print(x_val_1)\n",
    "# print(y_train_1)\n",
    "# print(y_val_1)\n",
    "\n",
    "from sklearn.linear_model import LogisticRegression\n",
    "from sklearn.ensemble import AdaBoostClassifier, BaggingClassifier, ExtraTreesClassifier, GradientBoostingClassifier,RandomForestClassifier\n",
    "from xgboost import XGBRFClassifier,XGBClassifier\n",
    "# model = XGBRFClassifier(eval_metric = \"logloss\",use_label_encoder=False)\n",
    "# model = RandomForestClassifier(random_state=42, oob_score = False,n_estimators=50,max_features= 9)\n",
    "model = LogisticRegression()\n",
    "model.fit(x_train_1,y_train_1[\"gender\"])\n",
    "print(\"모델 설명력(trian)\",model.score(x_train_1,y_train_1[\"gender\"]))\n",
    "pred = model.predict(x_val_1)\n",
    "print(\"모델 설명력(test)\",model.score(x_val_1,y_val_1[\"gender\"]))\n",
    "\n",
    "from sklearn.metrics import roc_auc_score\n",
    "print(\"학습셋 roc 스코어\",roc_auc_score(y_train_1[\"gender\"],model.predict(x_train_1)))\n",
    "# print(pred)\n",
    "print(\"검증셋 roc 스코어\",roc_auc_score(y_val_1[\"gender\"],pred))\n",
    "\n",
    "# # 제출용 모델\n",
    "# from sklearn.linear_model import LogisticRegression\n",
    "# model = LogisticRegression()\n",
    "# model.fit(x_train,y_train[\"gender\"])\n",
    "# print(\"모델 설명력\",model.score(x_train,y_train[\"gender\"]))\n",
    "# pred = model.predict(x_test)\n",
    "# prob = model.predict_proba(x_test)[:,1]\n",
    "# df = pd.DataFrame({\"cust_id\":X_test.cust_id,\"gender\":prob}).reset_index(drop= True).to_csv(\"수험번호.csv\",index = False)\n",
    "\n"
   ]
  }
 ],
 "metadata": {
  "kernelspec": {
   "display_name": "Python 3 (ipykernel)",
   "language": "python",
   "name": "python3"
  },
  "language_info": {
   "codemirror_mode": {
    "name": "ipython",
    "version": 3
   },
   "file_extension": ".py",
   "mimetype": "text/x-python",
   "name": "python",
   "nbconvert_exporter": "python",
   "pygments_lexer": "ipython3",
   "version": "3.11.5"
  }
 },
 "nbformat": 4,
 "nbformat_minor": 4
}
